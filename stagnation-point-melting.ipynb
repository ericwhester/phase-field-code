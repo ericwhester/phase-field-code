{
 "cells": [
  {
   "cell_type": "markdown",
   "metadata": {},
   "source": [
    "# Melting and dissolution at a stagnation point"
   ]
  },
  {
   "cell_type": "markdown",
   "metadata": {},
   "source": [
    "This notebook presents code to simulate melting and dissolution at a stagnation point using Dedalus.\n",
    "We present a moving boundary problem and phase-field model formulation, and compare."
   ]
  },
  {
   "cell_type": "markdown",
   "metadata": {},
   "source": [
    "# Imports"
   ]
  },
  {
   "cell_type": "code",
   "execution_count": null,
   "metadata": {},
   "outputs": [],
   "source": [
    "import numpy as np\n",
    "import dedalus.public as de\n",
    "import matplotlib.pyplot as plt\n",
    "import interpolation as ip\n",
    "import field_tools as flt\n",
    "import file_tools as flts\n",
    "import h5py\n",
    "\n",
    "import logging\n",
    "root = logging.root\n",
    "for h in root.handlers: h.setLevel(\"WARNING\")\n",
    "logger = logging.getLogger(__name__)\n",
    "\n",
    "d = de.operators.differentiate\n",
    "interp = de.operators.interpolate\n",
    "integrate = de.operators.integrate"
   ]
  },
  {
   "cell_type": "code",
   "execution_count": null,
   "metadata": {},
   "outputs": [],
   "source": [
    "from matplotlib import rc\n",
    "rc('font',**{'family':'serif','serif':['Computer Modern Roman']})\n",
    "rc('text', usetex=True)\n",
    "\n",
    "from matplotlib.colors import LinearSegmentedColormap\n",
    "import matplotlib.cm as cm\n",
    "cmap = cm.get_cmap('Greys')\n",
    "color = cmap(.5)\n",
    "\n",
    "cdict_phi_grey = { \n",
    "    'red':  ((0.0, 1., 1.), (0.5, .7,.7), (1.0, color[0], color[0])),\n",
    "    'green':((0.0, 1., 1.), (0.5, .7,.7), (1.0, color[0], color[0])),\n",
    "    'blue': ((0.0, 1., 1.), (0.5, .7,.7), (1.0, color[0], color[0])),}\n",
    "#     'alpha':((0.0, 1., 0.0), (0.1, 0.0, 0.0), (1.0, 1., 1.))  }\n",
    "cmap_phi = LinearSegmentedColormap('cmap_phi', cdict_phi_grey)\n",
    "plt.register_cmap(cmap=cmap_phi)"
   ]
  },
  {
   "cell_type": "markdown",
   "metadata": {},
   "source": [
    "# Sharp simulation"
   ]
  },
  {
   "cell_type": "markdown",
   "metadata": {
    "heading_collapsed": true
   },
   "source": [
    "## Code"
   ]
  },
  {
   "cell_type": "code",
   "execution_count": null,
   "metadata": {
    "hidden": true
   },
   "outputs": [],
   "source": [
    "def melting_salty_stag(ν,κ,μ,S,M,D,nx):\n",
    "    xbasis = de.Chebyshev('x',nx,interval=(0,1),dealias=3/2)\n",
    "    domain = de.Domain([xbasis],grid_dtype=np.float64)\n",
    "    x, = domain.grids(domain.dealias)\n",
    "\n",
    "    problem = de.NLBVP(domain,variables=['u','ux','uxx','v','Tl','Tlx','Ts','Tsx','C','Cx'])\n",
    "    problem.meta[:]['x']['dirichlet'] = True\n",
    "    problem.parameters['ν'] = ν\n",
    "    problem.parameters['κ'] = κ\n",
    "    problem.parameters['μ'] = μ\n",
    "    problem.parameters['M'] = M\n",
    "    problem.parameters['S'] = S\n",
    "    problem.parameters['D'] = D\n",
    "\n",
    "    problem.add_equation(\"dx(v) = 0\")\n",
    "    problem.add_equation('ux - dx(u) = 0')\n",
    "    problem.add_equation('uxx- dx(ux) = 0')\n",
    "    problem.add_equation(\"Tlx- dx(Tl) = 0\")\n",
    "    problem.add_equation(\"Tsx- dx(Ts) = 0\")\n",
    "    problem.add_equation(\"Cx - dx(C) = 0\")\n",
    "    problem.add_equation('ν*dx(uxx) = 1 + uxx*(u-v) - ux*ux')\n",
    "    problem.add_equation(\"κ*dx(Tlx) = (u-v)*Tlx\")\n",
    "    problem.add_equation(\"κ*dx(Tsx) = -v*Tsx\")\n",
    "    problem.add_equation(\"μ*dx(Cx) = (u-v)*Cx\")\n",
    "\n",
    "    problem.add_bc('right(ux) = -1')\n",
    "    problem.add_bc(\"right(Tl) = 1\")\n",
    "    problem.add_bc(\"right(C) = 1\")\n",
    "    problem.add_bc('left(u) = 0')\n",
    "    problem.add_bc('left(ux) = 0')\n",
    "    problem.add_bc(\"left(Tl + M*C) = 0\")\n",
    "    problem.add_bc(\"left(Tl) - right(Ts) = 0\")\n",
    "    problem.add_bc(\"κ*(left(Tlx) - right(Tsx)) + right(v)*S = 0\")\n",
    "    problem.add_bc(\"μ*left(Cx) = -left(v*C)\")\n",
    "    problem.add_bc(\"left(Ts) = -D\")\n",
    "\n",
    "    solver = problem.build_solver()\n",
    "    u, ux, uxx, v, Tl, Tlx, Ts, Tsx, C, Cx = [solver.state[name] for name in problem.variables]\n",
    "    for field in [u, ux, uxx, v, Tl, Tlx, Ts, Tsx, C, Cx]: field.set_scales(domain.dealias)\n",
    "\n",
    "    u['g'], ux['g'], uxx['g'] = -x, -1, 0\n",
    "    Tl['g'] = 1\n",
    "    Ts['g'] = -D\n",
    "    C['g'] = 1\n",
    "\n",
    "    tolerance = 1e-10\n",
    "    pert = solver.perturbations.data\n",
    "    pert.fill(1+tolerance)\n",
    "\n",
    "    while np.sum(np.abs(pert)) > tolerance:\n",
    "        print(np.sum(np.abs(pert)))\n",
    "        solver.newton_iteration()\n",
    "    \n",
    "    sim = {'x':x,'domain':domain,'ul':u,'ulx':ux,'ulxx':uxx,'v':v,'Tl':Tl,'Tlx':Tlx,'Ts':Ts,'Tsx':Tsx,'Cl':C,'Clx':Cx}\n",
    "    params = {'S':S,'ν':ν,'κ':κ,'μ':μ,'M':M,'D':D}\n",
    "    return sim, params"
   ]
  },
  {
   "cell_type": "markdown",
   "metadata": {
    "heading_collapsed": true
   },
   "source": [
    "## Example plot"
   ]
  },
  {
   "cell_type": "code",
   "execution_count": null,
   "metadata": {
    "hidden": true
   },
   "outputs": [],
   "source": [
    "sim0, params0 = melting_salty_stag(1e-2,1e-3,1e-3,1,1,1,64)\n",
    "\n",
    "plt.plot(sim0['x'],sim0['Tl']['g'],label='$T^+$')\n",
    "plt.plot(sim0['x']-1,sim0['Ts']['g'],label='$T^-$')\n",
    "plt.plot(sim0['x'],sim0['Cl']['g'],label='$C$')\n",
    "plt.plot(sim0['x'],sim0['ul']['g'],label='$u$')\n",
    "plt.legend()\n"
   ]
  },
  {
   "cell_type": "markdown",
   "metadata": {},
   "source": [
    "# Phase-field model"
   ]
  },
  {
   "cell_type": "markdown",
   "metadata": {
    "heading_collapsed": true
   },
   "source": [
    "## Code"
   ]
  },
  {
   "cell_type": "code",
   "execution_count": null,
   "metadata": {
    "hidden": true
   },
   "outputs": [],
   "source": [
    "def melting_salty_stag_phase(ν,κ,μ,S,M,D,ϵ,α,γ,η,n,δ=1e-3,thresh=500,guesses=None,damping=.1):\n",
    "    xbasis = de.Chebyshev('x',n,interval=(0,1),dealias=2)\n",
    "    domain = de.Domain([xbasis],grid_dtype=np.float64)\n",
    "    x, = domain.grids(domain.dealias)\n",
    "\n",
    "    problem = de.NLBVP(domain,variables=['ul','ulx','ulxx',\n",
    "                                         'us','usx','usxx',\n",
    "                                         'Tl','Tlx','Ts','Tsx',\n",
    "                                         'Cl','Clx','Cs','Csx',\n",
    "                                         'fl','flx','fs','fsx',\n",
    "                                         'v'])\n",
    "    problem.meta[:]['x']['dirichlet'] = True\n",
    "    problem.parameters['ν'] = ν\n",
    "    problem.parameters['κ'] = κ\n",
    "    problem.parameters['μ'] = μ\n",
    "    problem.parameters['S'] = S\n",
    "    problem.parameters['M'] = M\n",
    "    problem.parameters['D'] = D\n",
    "    problem.parameters['eps'] = ϵ\n",
    "    problem.parameters['α'] = α\n",
    "    # problem.parameters['β'] = β\n",
    "    problem.parameters['η'] = η\n",
    "    problem.parameters['δ'] = δ\n",
    "    problem.parameters['γ'] = γ\n",
    "\n",
    "    problem.add_equation('κ*dx(Tlx) = ((1-fl)*ul - v)*Tlx + S*v*flx')\n",
    "    problem.add_equation('κ*dx(Tsx) = ((1-fs)*us - v)*Tsx + S*v*fsx')\n",
    "    problem.add_equation('μ*dx(Clx) = (ul - v)*Clx - dx(log(1-fl+δ))*(μ*Clx + v*Cl)')\n",
    "    problem.add_equation('μ*dx(Csx) = (us - v)*Csx - dx(log(1-fs+δ))*(μ*Csx + v*Cs)')\n",
    "    problem.add_equation('γ*dx(flx) = -α*v*flx + (γ/eps**2)*fl*(1-fl)*(1-2*fl) + fl*(1-fl)*(Tl+M*Cl)/eps')# \n",
    "    problem.add_equation('γ*dx(fsx) = -α*v*fsx + (γ/eps**2)*fs*(1-fs)*(1-2*fs) + fs*(1-fs)*(Ts+M*Cs)/eps')#\n",
    "    problem.add_equation('ν*dx(ulxx) = 1 + ulxx*(ul-v) - ulx*ulx + fl*ulx/η')\n",
    "    problem.add_equation('ν*dx(usxx) = 1 + usxx*(us-v) - usx*usx + fs*usx/η')\n",
    "    problem.add_equation('Tlx - dx(Tl) = 0')\n",
    "    problem.add_equation('Tsx - dx(Ts) = 0')\n",
    "    problem.add_equation('Clx - dx(Cl) = 0')\n",
    "    problem.add_equation('Csx - dx(Cs) = 0')\n",
    "    problem.add_equation('flx - dx(fl) = 0')\n",
    "    problem.add_equation('fsx - dx(fs) = 0')\n",
    "    problem.add_equation('ulx - dx(ul) = 0')\n",
    "    problem.add_equation('ulxx- dx(ulx)= 0')\n",
    "    problem.add_equation('usx - dx(us) = 0')\n",
    "    problem.add_equation('usxx- dx(usx)= 0')\n",
    "    problem.add_equation('dx(v) = 0')\n",
    "\n",
    "    problem.add_bc('right(Tl) = 1')\n",
    "    problem.add_bc('right(Cl) = 1')\n",
    "    problem.add_bc('right(fl) = 0')\n",
    "    problem.add_bc('right(ulx) = -1')\n",
    "    problem.add_bc('left(Tl) - right(Ts) = 0')\n",
    "    problem.add_bc('left(Tlx)- right(Tsx) = 0')\n",
    "    problem.add_bc('left(Cl) - right(Cs) = 0')\n",
    "    problem.add_bc('left(Clx)- right(Csx) = 0')\n",
    "    problem.add_bc('left(fl) - right(fs) = 0')\n",
    "    problem.add_bc('left(flx)- right(fsx) = 0')\n",
    "    problem.add_bc('left(ul) - right(us) = 0')\n",
    "    problem.add_bc('left(ulx)- right(usx) = 0')\n",
    "    problem.add_bc('left(ulxx)-right(usxx) = 0')\n",
    "    problem.add_bc('left(fl) = 1/2')\n",
    "    problem.add_bc('left(Ts) = -D')\n",
    "    problem.add_bc('left(Cs) = 0')\n",
    "    problem.add_bc('left(fs) = 1')\n",
    "    problem.add_bc('left(us) = 0')\n",
    "    problem.add_bc('left(usx) = 0')\n",
    "\n",
    "    solver = problem.build_solver()\n",
    "\n",
    "    fields = {}\n",
    "    for a in problem.variables:\n",
    "        fields[a] = solver.state[a]\n",
    "        fields[a].set_scales(domain.dealias)\n",
    "        fields[a]['g'] = 0\n",
    "        \n",
    "    fl,fs = fields['fl'], fields['fs']\n",
    "    fl['g'] = (1/2)*(1-np.tanh(x/(2*ϵ)))\n",
    "    fs['g'] = (1/2)*(1-np.tanh((x-1)/(2*ϵ)))    \n",
    "    if guesses:\n",
    "        for a in fields:\n",
    "            fields[a]['g'] = ip.interp(guesses[a],x)\n",
    "    else:\n",
    "        sim0, params0 = melting_salty_stag(ν,κ,μ,S,M,D,128)\n",
    "        ul0,Tl0,Ts0,Cl0,v0 = [sim0[f] for f in ['ul','Tl','Ts','Cl','v']]\n",
    "        fields['ul']['g'] = ip.interp(ul0,x)\n",
    "        fields['us']['g'] = 0\n",
    "        fields['Tl']['g'] = ip.interp(Tl0,x)\n",
    "        fields['Ts']['g'] = ip.interp(Ts0,x)\n",
    "        fields['Cl']['g'] = ip.interp(Cl0,x)\n",
    "        fields['Cs']['g'] = Cl0.interpolate(x='left')['g'][0]\n",
    "        fields['v']['g'] = v0['g'][0]        \n",
    "    for f in ['ul','us','ulx','usx','Tl','Ts','Cl','Cs']:\n",
    "        fields[f+'x']['g'] = fields[f].differentiate('x')['g']\n",
    "\n",
    "    tolerance = 1e-10\n",
    "    pert = solver.perturbations.data\n",
    "#     pert.fill(1+tolerance)\n",
    "    res = 1#np.sum(np.abs(pert))\n",
    "\n",
    "    while res > tolerance:\n",
    "        solver.newton_iteration(damping=damping)\n",
    "        res = np.sum(np.abs(pert))\n",
    "        if res < thresh: damping = 1\n",
    "        print(res)\n",
    "    \n",
    "    sim = {'x':x,'domain':domain}\n",
    "    for field in fields: sim[field] = fields[field]\n",
    "    params = {'S':S,'ν':ν,'κ':κ,'μ':μ,'M':M,'D':D,\n",
    "              'ϵ':ϵ,'α':α,'γ':γ,'η':η}\n",
    "    return sim, params"
   ]
  },
  {
   "cell_type": "markdown",
   "metadata": {
    "heading_collapsed": true
   },
   "source": [
    "## Example plot"
   ]
  },
  {
   "cell_type": "code",
   "execution_count": null,
   "metadata": {
    "hidden": true
   },
   "outputs": [],
   "source": [
    "ν,κ,μ = 1e-1,1e-1,1e-1\n",
    "S,N,D = 1,1,1\n",
    "ϵ = 0.05\n",
    "α = ϵ*(S/κ)*5/6\n",
    "γ = 1\n",
    "β = 4/2.648228\n",
    "η = (β*ϵ)**2/ν\n",
    "n = 64\n",
    "δ = 2e-5\n",
    "\n",
    "sim0, params0 = melting_salty_stag(ν,κ,μ,S,N,D,128)\n",
    "sim1, params1 = melting_salty_stag_phase(ν,κ,μ,S,N,D,ϵ,α,γ,η,n,δ=δ,thresh=100)"
   ]
  },
  {
   "cell_type": "code",
   "execution_count": null,
   "metadata": {
    "hidden": true
   },
   "outputs": [],
   "source": [
    "i = 1\n",
    "x0, Tl0, Ts0, Cl0, ul0 = [sim0[name] for name in ['x','Tl','Ts','Cl','ul']]\n",
    "x, Tl, Ts, Cl, Cs, ul, us, fl, fs = [sim1[name] for name in ['x','Tl','Ts','Cl','Cs','ul','us','fl','fs']]\n",
    "Lx = -1\n",
    "fig, ax = plt.subplots(2,2,figsize=(7,3.5),sharex=True)\n",
    "ax[0,0].plot(x,Tl['g'],'C1--',label=f'$\\\\varepsilon = {ϵ:.2f}$')\n",
    "ax[0,0].plot(x+Lx,Ts['g'],'C1--')\n",
    "ax[0,0].plot(x0,Tl0['g'],'C1',label='Exact')\n",
    "ax[0,0].plot(x0+Lx,Ts0['g'],'C1')\n",
    "ax[0,0].fill_between(x,-1,2*fl['g']-1,color='lightgray')\n",
    "ax[0,0].fill_between(x+Lx,-1,2*fs['g']-1,color='lightgray')\n",
    "ax[0,0].set(xlim=[-1,1],ylim=[-1,1],xlabel='$x$',ylabel='$T$',title='Temperature $T$')\n",
    "ax[0,0].legend(frameon=False)\n",
    "\n",
    "ax[0,1].plot(x,Cl['g'],'C2--',label=f'$\\\\varepsilon = {ϵ:.2f}$')\n",
    "ax[0,1].plot(x+Lx,Cs['g'],'C2--')\n",
    "ax[0,1].plot(x0,Cl0['g'],'C2',label='Exact')\n",
    "ax[0,1].fill_between(x,0,fl['g'],color='lightgray')\n",
    "ax[0,1].fill_between(x+Lx,0,fs['g'],color='lightgray')\n",
    "ax[0,1].set(xlim=[-1,1],ylim=[0,1],xlabel='$x$',ylabel='$C$',title='Salinity $C$')\n",
    "ax[0,1].legend(frameon=False)\n",
    "\n",
    "ax[1,0].plot(x,-ul['g'],'C0--',label=f'$\\\\varepsilon = {ϵ:.2f}$')\n",
    "ax[1,0].plot(x+Lx,-us['g'],'C0--')\n",
    "ax[1,0].plot(x0,-ul0['g'],'C0',label='Exact')\n",
    "ax[1,0].fill_between(x,0,fl['g'],color='lightgray')\n",
    "ax[1,0].fill_between(x+Lx,0,fs['g'],color='lightgray')\n",
    "ax[1,0].set(xlim=[-1,1],ylim=[0,1],xlabel='$x$',ylabel='$u$',title='Normal velocity $u$')\n",
    "ax[1,0].legend(frameon=False)\n",
    "\n",
    "fl0 = 0.5*(1-np.tanh((x0+Lx)/(2*ϵ)))\n",
    "fs0 = 0.5*(1-np.tanh((x0)/(2*ϵ)))\n",
    "ax[1,1].plot(x,fl['g'],'k--',label=f'$\\\\varepsilon = {ϵ:.2f}$')\n",
    "ax[1,1].plot(x+Lx,fs['g'],'k--')\n",
    "ax[1,1].plot(x0+Lx,fl0,'k',label='Exact')\n",
    "ax[1,1].plot(x0,fs0,'k')\n",
    "ax[1,1].fill_between(x,0,fl['g'],color='lightgray')\n",
    "ax[1,1].fill_between(x+Lx,0,fs['g'],color='lightgray')\n",
    "ax[1,1].set(xlim=[-1,1],ylim=[0,1],xlabel='$x$',ylabel=r'$\\phi$',title='Phase field $\\\\phi$')\n",
    "ax[1,1].legend(loc='upper left',frameon=False)\n",
    "\n",
    "ax[1,1].text(-.4,.3,f'$v_0 = {-sim0[\"v\"][\"g\"][0]:.3f}$',horizontalalignment='right')\n",
    "ax[1,1].text(-.4,.15,f'$v = {-sim1[\"v\"][\"g\"][0]:.3f}$',horizontalalignment='right')\n",
    "\n",
    "plt.tight_layout()\n",
    "plt.savefig('melt-salt-flow-diagram.pdf',bbox_inches='tight')"
   ]
  },
  {
   "cell_type": "markdown",
   "metadata": {
    "heading_collapsed": true
   },
   "source": [
    "## Convergence of optimal parameters"
   ]
  },
  {
   "cell_type": "markdown",
   "metadata": {
    "hidden": true
   },
   "source": [
    "### Simulation parameters"
   ]
  },
  {
   "cell_type": "code",
   "execution_count": null,
   "metadata": {
    "hidden": true
   },
   "outputs": [],
   "source": [
    "ν,κ,μ = 1e-1,1e-1,1e-1\n",
    "S,M,D = 1,1,1\n",
    "sim0, params0 = melting_salty_stag(ν,κ,μ,S,M,D,128)\n",
    "\n",
    "β = (4/2.648228)\n",
    "ϵs = np.logspace(-1,-3,7,base=10)\n",
    "αs = ϵs*(S/κ)*(5/6)\n",
    "γ = 1\n",
    "ηs = (β*ϵs)**2/ν\n",
    "ns = np.array([128,256,256,256,256,256,256])\n",
    "δ = 2e-5"
   ]
  },
  {
   "cell_type": "markdown",
   "metadata": {
    "hidden": true
   },
   "source": [
    "### Run simulations and store data"
   ]
  },
  {
   "cell_type": "code",
   "execution_count": null,
   "metadata": {
    "hidden": true
   },
   "outputs": [],
   "source": [
    "# run simulations\n",
    "sims, params = {},{}\n",
    "\n",
    "ind = 0\n",
    "sims[ind],params[ind] = melting_salty_stag_phase(ν,κ,μ,S,M,D,ϵs[ind],αs[ind],γ,ηs[ind],ns[ind],\n",
    "                                             δ=δ,thresh=100)\n",
    "\n",
    "for ind in range(1,len(ϵs)):\n",
    "    sims[ind],params[ind] = melting_salty_stag_phase(ν,κ,μ,S,M,D,ϵs[ind],αs[ind],γ,ηs[ind],ns[ind],\n",
    "                                             δ=δ,thresh=100)"
   ]
  },
  {
   "cell_type": "markdown",
   "metadata": {
    "hidden": true
   },
   "source": [
    "### Calculate errors"
   ]
  },
  {
   "cell_type": "code",
   "execution_count": null,
   "metadata": {
    "hidden": true
   },
   "outputs": [],
   "source": [
    "errors = {}\n",
    "E1s = {}\n",
    "Einfs = {}\n",
    "dvs = {}\n",
    "\n",
    "for i in range(len(ϵs)):\n",
    "    errors[i],E1s[i],Einfs[i] = {},{},{}\n",
    "    for f in ['ul','Tl','Ts','Cl']:\n",
    "        errors[i][f] = sims[i]['domain'].new_field(scales=sims[i]['domain'].dealias)\n",
    "        errors[i][f]['g'] = np.abs(sims[i][f]['g'] - ip.interp(sim0[f],sims[i]['x']))\n",
    "        E1s[i][f] = errors[i][f].integrate()['g'][0]\n",
    "        Einfs[i][f] = errors[i][f]['g'].max()\n",
    "    dvs[i] = np.abs(sims[i]['v']['g'][0] - sim0['v']['g'][0])\n"
   ]
  },
  {
   "cell_type": "markdown",
   "metadata": {
    "hidden": true
   },
   "source": [
    "### Plot convergence in $\\varepsilon$"
   ]
  },
  {
   "cell_type": "code",
   "execution_count": null,
   "metadata": {
    "hidden": true
   },
   "outputs": [],
   "source": [
    "fig,ax = plt.subplots(1,2,figsize=(5,3))\n",
    "dv = [dvs[i] for i in range(len(ϵs))]\n",
    "colors = ['C0','C1','C3','C2']\n",
    "markers = ['<','v','^','o']\n",
    "labels = ['$u$','$T^+$','$T^-$','$C$']\n",
    "keys = ['ul','Tl','Ts','Cl']\n",
    "for i in [2,1,3,0]:\n",
    "    color, label, f = colors[i],labels[i],keys[i]\n",
    "    E1 = [E1s[i][f] for i in range(len(ϵs))]\n",
    "    Einf = [Einfs[i][f] for i in range(len(ϵs))]\n",
    "    ax[0].loglog(ϵs,E1,marker=markers[i],label=label,color=color)\n",
    "    ax[1].loglog(ϵs,Einf,marker=markers[i],label=label,color=color)\n",
    "ax[1].loglog(ϵs,dv,marker='s',label='$v$',color='C4')\n",
    "for axi in ax:\n",
    "    axi.plot(ϵs,ϵs,'--',color='gray',label='$\\\\varepsilon$')\n",
    "    axi.plot(ϵs,ϵs**2,'--',color='black',label='$\\\\varepsilon^2$')\n",
    "    axi.grid(True)\n",
    "    axi.set_xlabel('$\\\\varepsilon$',fontsize=13)\n",
    "ax[0].set_title('$L^1$ error',fontsize=13)    \n",
    "ax[1].set_title('$L^\\\\infty$ error',fontsize=13)    \n",
    "ax[0].set(xlim=[7e-4,1.5e-1],ylim=[6e-7,1.8],xticks=[1e-3,1e-2,1e-1],yticks=np.logspace(-6,0,7))\n",
    "ax[1].set(xlim=[7e-4,1.5e-1],ylim=[6e-7,1.8],xticks=[1e-3,1e-2,1e-1],yticks=np.logspace(-6,0,7))\n",
    "ax[1].legend(bbox_to_anchor=(1.05,1.),frameon=False,fontsize=13)\n",
    "plt.tight_layout()\n",
    "plt.savefig(f'melt-salt-flow-convergence.pdf',bbox_inches='tight')"
   ]
  },
  {
   "cell_type": "markdown",
   "metadata": {},
   "source": [
    "## Optimal parameter sensitivity"
   ]
  },
  {
   "cell_type": "markdown",
   "metadata": {},
   "source": [
    "### Set up simulation"
   ]
  },
  {
   "cell_type": "code",
   "execution_count": null,
   "metadata": {},
   "outputs": [],
   "source": [
    "# Decrement the first non-zero element of an array\n",
    "def decrement_single(inds):\n",
    "    previous = []\n",
    "    pre = True\n",
    "    for i,ind in enumerate(inds):\n",
    "        if ind > 0 and pre:\n",
    "            previous.append(ind-1)\n",
    "            pre = False\n",
    "        else:\n",
    "            previous.append(ind)\n",
    "    return tuple(previous)\n",
    "\n",
    "def prod(arr):\n",
    "    if len(arr) == 1: return arr[0]\n",
    "    else: return arr[0]*prod(arr[1:])"
   ]
  },
  {
   "cell_type": "code",
   "execution_count": null,
   "metadata": {},
   "outputs": [],
   "source": [
    "ν,κ,μ = 1e-1,1e-1,1e-1\n",
    "S,M,D = 1,1,1\n",
    "sim0, params0 = melting_salty_stag(ν,κ,μ,S,M,D,128)\n",
    "\n",
    "β = (4/2.648228)\n",
    "ϵ = np.logspace(-2,-3,4,base=10)[None,None,:]\n",
    "α = ϵ*(S/κ)*(5/6)*(np.logspace(-1,1,7,base=2)[None,:,None])\n",
    "γ = 1\n",
    "η = ((β*ϵ)**2/ν)*(np.logspace(-1,1,7,base=2)[:,None,None])\n",
    "n = np.array([128,128,256,256])[None,None,:]\n",
    "δ = 2e-5\n",
    "\n",
    "b0 = 0*(ϵ + α + η + n).astype(int)\n",
    "\n",
    "νs,κs,μs = ν+b0,κ+b0,μ+b0\n",
    "Ss,Ms,Ds = S+b0,M+b0,D+b0\n",
    "ϵs = ϵ + b0\n",
    "αs = α + b0\n",
    "γs = γ + b0\n",
    "ηs = η + b0\n",
    "ns = n + b0\n",
    "δs = δ + b0\n",
    "\n",
    "Ns = b0.shape\n",
    "inds = np.indices(Ns).reshape(len(Ns),prod(Ns))\n",
    "sims, params = {},{}"
   ]
  },
  {
   "cell_type": "markdown",
   "metadata": {},
   "source": [
    "### Run simulations"
   ]
  },
  {
   "cell_type": "code",
   "execution_count": null,
   "metadata": {},
   "outputs": [],
   "source": [
    "# Preliminary simulations\n",
    "for i in range(0,4):\n",
    "    ind = (0,0,i)\n",
    "    sims[ind],params[ind] = melting_salty_stag_phase(νs[ind],κs[ind],μs[ind],Ss[ind],Ms[ind],Ds[ind],\n",
    "                                                         ϵs[ind],αs[ind],γs[ind],ηs[ind],ns[ind],\n",
    "                                                         δ=δs[ind],thresh=100)\n",
    "\n",
    "# Remaining simulations (initialise from previous simulation)\n",
    "for i in range(4,inds.shape[1]):\n",
    "    ind = tuple(inds[:,i])\n",
    "    g_ind = decrement_single(ind)\n",
    "    sims[ind],params[ind] = melting_salty_stag_phase(νs[ind],κs[ind],μs[ind],Ss[ind],Ms[ind],Ds[ind],\n",
    "                                                     ϵs[ind],αs[ind],γs[ind],ηs[ind],ns[ind],\n",
    "                                                     guesses=sims[g_ind],δ=δs[ind],thresh=100)"
   ]
  },
  {
   "cell_type": "markdown",
   "metadata": {},
   "source": [
    "### Calculate errors"
   ]
  },
  {
   "cell_type": "code",
   "execution_count": null,
   "metadata": {},
   "outputs": [],
   "source": [
    "keys = list(sims[0,0,0].keys())\n",
    "\n",
    "errors = {}\n",
    "E1s = {}\n",
    "Einfs = {}\n",
    "dvs = {}\n",
    "for key in keys[2:]: \n",
    "    errors[key] = {}\n",
    "    E1s[key] = 0.0*b0\n",
    "    Einfs[key] = 0.0*b0\n",
    "\n",
    "for key in ['ul','Cl','Ts','Tl','v']:\n",
    "    print(key)\n",
    "    for i in range(inds.shape[1]):\n",
    "        ind = tuple(inds[:,i])\n",
    "        errors[key][ind] = sims[ind]['domain'].new_field(scales=sims[ind]['domain'].dealias)\n",
    "        errors[key][ind]['g'] = np.abs(sims[ind][key]['g'] - ip.interp(sim0[key],sims[ind]['x']))\n",
    "        E1s[key][ind] = errors[key][ind].integrate()['g'][0]\n",
    "        Einfs[key][ind] = errors[key][ind]['g'].max()"
   ]
  },
  {
   "cell_type": "markdown",
   "metadata": {},
   "source": [
    "### Save data"
   ]
  },
  {
   "cell_type": "code",
   "execution_count": null,
   "metadata": {},
   "outputs": [],
   "source": [
    "βs = b"
   ]
  },
  {
   "cell_type": "code",
   "execution_count": null,
   "metadata": {},
   "outputs": [],
   "source": [
    "simname = 'vary-alpha-beta-eps-big'\n",
    "with h5py.File(f'salty-stag-{simname}.h5','w') as f:\n",
    "    f['α'] = αs\n",
    "#     f['β'] = βs\n",
    "    f['ϵ'] = ϵs\n",
    "    f['η'] = ηs\n",
    "    f['γ'] = γs\n",
    "    f['μ'] = μs\n",
    "    f['ν'] = νs\n",
    "    f['κ'] = κs\n",
    "    f['δ'] = δs\n",
    "    for key in ['ul','Cl','Ts','Tl','v']:\n",
    "        f[f'E1/{key}'] = E1s[key]\n",
    "        f[f'Einf/{key}'] = Einfs[key]        "
   ]
  },
  {
   "cell_type": "markdown",
   "metadata": {},
   "source": [
    "### Load data"
   ]
  },
  {
   "cell_type": "code",
   "execution_count": null,
   "metadata": {},
   "outputs": [],
   "source": [
    "import h5py\n",
    "E1s, Einfs = {},{}\n",
    "with h5py.File(f'salty-stag-{simname}.h5','r') as f:\n",
    "    αs = f['α'][:]\n",
    "#     βs = f['β'][:]\n",
    "    ϵs = f['ϵ'][:]\n",
    "    ηs = f['η'][:]\n",
    "    γs = f['γ'][:]\n",
    "    μs = f['μ'][:]\n",
    "    νs = f['ν'][:]\n",
    "    κs = f['κ'][:]\n",
    "    δs = f['δ'][:]\n",
    "#     f['x'] = np.array([[[sims[i,j,k]['x'] for i in range(Ns[0])] for j in range(Ns[1])] for k in range(Ns[2])])\n",
    "#     keys = list(sims[0,0,0].keys())\n",
    "#     for key in keys[2:]:\n",
    "#         f[key] = np.array([[[sims[i,j,k][key]['g'] for i in range(Ns[0])] for j in range(Ns[1])]for k in range(Ns[2])])\n",
    "    for key in ['ul','Cl','Ts','Tl','v']:\n",
    "        E1s[key] = f[f'E1/{key}'][:]\n",
    "        Einfs[key] = f[f'Einf/{key}'][:]"
   ]
  },
  {
   "cell_type": "markdown",
   "metadata": {},
   "source": [
    "### Plot results"
   ]
  },
  {
   "cell_type": "code",
   "execution_count": null,
   "metadata": {},
   "outputs": [],
   "source": [
    "from matplotlib.colors import LogNorm\n",
    "from matplotlib.ticker import LogFormatterMathtext\n",
    "import matplotlib.ticker as ticker\n",
    "import matplotlib.pyplot as plt\n",
    "import numpy as np\n",
    "import matplotlib.colors\n",
    "from matplotlib.ticker import LogFormatter "
   ]
  },
  {
   "cell_type": "code",
   "execution_count": null,
   "metadata": {},
   "outputs": [],
   "source": [
    "# Need to have the *boundaries* of the plot values, not the actual alpha/beta values\n",
    "bα = np.logspace(-7/6,7/6,8,base=2)\n",
    "bβ = np.logspace(-7/6,7/6,8,base=2)\n",
    "bbα, bbβ = np.meshgrid(bα, bβ)"
   ]
  },
  {
   "cell_type": "code",
   "execution_count": null,
   "metadata": {},
   "outputs": [],
   "source": [
    "# Plot L1 errors for each variable in terms of alpha and beta fractions, and show how the optimum varies with eps\n",
    "def clean_axis(ax):\n",
    "    ax.set_xscale('log',basex=2)\n",
    "    ax.set_yscale('log',basey=2)\n",
    "    ax.xaxis.set_major_locator(ticker.LogLocator(base=2., numticks=15))\n",
    "    ax.yaxis.set_major_locator(ticker.LogLocator(base=2., numticks=15))\n",
    "    ax.grid(False)\n",
    "    for spine in ax.spines: ax.spines[spine].set_visible(False)"
   ]
  },
  {
   "cell_type": "code",
   "execution_count": null,
   "metadata": {},
   "outputs": [],
   "source": [
    "titles = [r'$T^{-}$',r'$T^{+}$',r'$C$',r'$u$',r'$v$']\n",
    "ylabels = [r'$\\varepsilon = 10^{-2}$',r'$\\varepsilon = 10^{-7/3}$',r'$\\varepsilon = 10^{-8/3}$',r'$\\varepsilon = 10^{-3}$']\n",
    "ps = {'E1':{},'Einf':{}}\n",
    "lims = [[10**(-5),10**(-2)],[10**(-5),10**(-2)],[10**(-5),10**(-2)],[10**(-5),10**(-2)],[10**(-5),10**(-2)]]\n",
    "fig, axes = plt.subplots(4,5,figsize=(7,5.5))\n",
    "for j in range(ϵs.shape[-1]):\n",
    "    for i, key in enumerate(['Ts','Tl','Cl','ul','v']):\n",
    "        ps['E1'][i] = axes[j,i].pcolormesh(bbα,bbβ,E1s[key][...,j],vmin=lims[i][0],vmax=lims[i][1],\n",
    "                                           norm=LogNorm(),snap=True)\n",
    "#         plt.colorbar(ps['E1'][i],ax=axes[j,i],ticks=[1e-5,1e-4,1e-3,1e-2])\n",
    "        clean_axis(axes[j,i])\n",
    "    axes[j,0].set_ylabel(ylabels[j]+'\\n$\\\\beta/\\\\beta^*$',fontsize=16)\n",
    "cbax = fig.add_axes([0.93, 0.125, 0.03, .757]) \n",
    "cbar = fig.colorbar(ps['E1'][0],cax=cbax,shrink=.5,panchor=(0,.75))\n",
    "cbar.ax.set_ylabel('$L^1$ error',rotation=0,fontsize=15,labelpad=20)\n",
    "cbar.outline.set_visible(False)\n",
    "for axi in axes[:-1,:].flatten(): axi.set(xticks=[])\n",
    "for axi in axes[:,1:].flatten(): axi.set(yticks=[])\n",
    "for i in range(len(titles)):\n",
    "    axes[0,i].set_title(titles[i]+'\\n$L^1$ error',fontsize=16)\n",
    "    axes[3,i].set_xlabel(r'$\\alpha/\\alpha^*$',fontsize=16)\n",
    "    axes[3,i].scatter([1],[1],edgecolors='r',facecolors='none',s=500)\n",
    "plt.savefig(f'salty-stag-{simname}-E1-errors.png',dpi=400,bbox_inches='tight')"
   ]
  }
 ],
 "metadata": {
  "kernelspec": {
   "display_name": "Python 3",
   "language": "python",
   "name": "python3"
  },
  "language_info": {
   "codemirror_mode": {
    "name": "ipython",
    "version": 3
   },
   "file_extension": ".py",
   "mimetype": "text/x-python",
   "name": "python",
   "nbconvert_exporter": "python",
   "pygments_lexer": "ipython3",
   "version": "3.7.3"
  },
  "toc": {
   "base_numbering": 1,
   "nav_menu": {},
   "number_sections": true,
   "sideBar": true,
   "skip_h1_title": false,
   "title_cell": "Table of Contents",
   "title_sidebar": "Contents",
   "toc_cell": false,
   "toc_position": {},
   "toc_section_display": true,
   "toc_window_display": false
  },
  "varInspector": {
   "cols": {
    "lenName": 16,
    "lenType": 16,
    "lenVar": 40
   },
   "kernels_config": {
    "python": {
     "delete_cmd_postfix": "",
     "delete_cmd_prefix": "del ",
     "library": "var_list.py",
     "varRefreshCmd": "print(var_dic_list())"
    },
    "r": {
     "delete_cmd_postfix": ") ",
     "delete_cmd_prefix": "rm(",
     "library": "var_list.r",
     "varRefreshCmd": "cat(var_dic_list()) "
    }
   },
   "types_to_exclude": [
    "module",
    "function",
    "builtin_function_or_method",
    "instance",
    "_Feature"
   ],
   "window_display": false
  }
 },
 "nbformat": 4,
 "nbformat_minor": 2
}
