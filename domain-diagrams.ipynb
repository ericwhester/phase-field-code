{
 "cells": [
  {
   "cell_type": "markdown",
   "metadata": {},
   "source": [
    "# Domain diagrams"
   ]
  },
  {
   "cell_type": "markdown",
   "metadata": {},
   "source": [
    "This notebook creates the domain diagram figures."
   ]
  },
  {
   "cell_type": "markdown",
   "metadata": {},
   "source": [
    "# Imports"
   ]
  },
  {
   "cell_type": "code",
   "execution_count": 7,
   "metadata": {},
   "outputs": [],
   "source": [
    "import numpy as np\n",
    "import matplotlib.pyplot as plt\n",
    "import skfmm\n",
    "\n",
    "from matplotlib import rc\n",
    "rc('font',**{'family':'serif','serif':['Computer Modern Roman']})\n",
    "rc('text', usetex=True)\n",
    "plt.rcParams['text.latex.preamble'] = [r'\\usepackage{bm}']\n",
    "\n",
    "from matplotlib.colors import LinearSegmentedColormap\n",
    "import matplotlib.cm as cm\n",
    "cmap = cm.get_cmap('Greys')\n",
    "color = cmap(.5)\n",
    "\n",
    "cdict_phi_grey = { \n",
    "    'red':  ((0.0, 1., 1.), (0.5, .7,.7), (1.0, color[0], color[0])),\n",
    "    'green':((0.0, 1., 1.), (0.5, .7,.7), (1.0, color[0], color[0])),\n",
    "    'blue': ((0.0, 1., 1.), (0.5, .7,.7), (1.0, color[0], color[0])),}\n",
    "#     'alpha':((0.0, 1., 0.0), (0.1, 0.0, 0.0), (1.0, 1., 1.))  }\n",
    "cmap_phi = LinearSegmentedColormap('cmap_phi', cdict_phi_grey)\n",
    "plt.register_cmap(cmap=cmap_phi)"
   ]
  },
  {
   "cell_type": "markdown",
   "metadata": {},
   "source": [
    "# Asymptotic diagrams"
   ]
  },
  {
   "cell_type": "code",
   "execution_count": 9,
   "metadata": {},
   "outputs": [
    {
     "data": {
      "image/png": "[encoded data removed]",
      "text/plain": [
       "<Figure size 432x216 with 2 Axes>"
      ]
     },
     "metadata": {},
     "output_type": "display_data"
    }
   ],
   "source": [
    "x = np.linspace(0,2,500,endpoint=False)\n",
    "z = np.linspace(0,2,500,endpoint=False)\n",
    "xx, zz = np.meshgrid(x,z,indexing='ij')\n",
    "h = (1 + np.sin(-np.pi*x)/3)\n",
    "d0 = h[:,None]-zz\n",
    "d = skfmm.distance(d0,dx=float(x[1]-x[0]),periodic=(True,False))\n",
    "f = 0.5*(1 - np.tanh(d/0.1))\n",
    "\n",
    "xs = np.linspace(0,2,20,endpoint=True)\n",
    "zs = (1 + np.sin(-np.pi*xs)/3)\n",
    "dxs = (xs[1]-xs[0])*np.ones_like(xs)\n",
    "dzs = dxs*np.pi*np.cos(np.pi*xs)/3\n",
    "nabs = np.sqrt(dxs**2 + dzs**2)\n",
    "nxs =-dzs/nabs\n",
    "nzs = dxs/nabs\n",
    "eps = .1\n",
    "xps = xs + eps*nxs\n",
    "zps = zs + eps*nzs\n",
    "xms = xs - eps*nxs\n",
    "zms = zs - eps*nzs\n",
    "\n",
    "fig, ax = plt.subplots(1,2,figsize=(6,3))\n",
    "ax[0].fill_between(x,h.flatten(),2,color=color)\n",
    "ax[0].plot(x,h.flatten(),'k',linewidth=1)\n",
    "ax[1].pcolormesh(xx,zz,f,cmap='cmap_phi',vmin=0,vmax=1,edgecolors='face')\n",
    "ax[1].contour(xx,zz,d,[0.],colors='k',linewidths=1,linestyles='--')\n",
    "\n",
    "for i, axi in enumerate(ax):\n",
    "    ax[i].set(ylim=[0,2],xlim=[0,2],aspect=1,xticks=[],yticks=[])\n",
    "ax[0].text(.2,1.7,r'Solid $\\Omega^-$',fontsize=15,horizontalalignment='left',verticalalignment='center')\n",
    "ax[0].text(.2,1.1,r'Interface',fontsize=15,horizontalalignment='left',verticalalignment='center')\n",
    "ax[0].text(.4,.85,r'$\\partial \\Omega$',fontsize=15,horizontalalignment='left',verticalalignment='center')\n",
    "ax[0].text(.2,.3,r'Fluid $\\Omega^+$',fontsize=15,horizontalalignment='left',verticalalignment='center')\n",
    "ax[0].text(-.07,2.,'$(a)$',fontsize=15,horizontalalignment='right',verticalalignment='top')\n",
    "ax[1].text(.15,1.75,r'$\\phi \\approx 1$',fontsize=15,horizontalalignment='left',verticalalignment='center')\n",
    "ax[1].text(.15,1.05,r'$\\phi = 1/2$',fontsize=15,horizontalalignment='left',verticalalignment='center')\n",
    "ax[1].text(.15,.25,r'$\\phi \\approx 0$',fontsize=15,horizontalalignment='left',verticalalignment='center')\n",
    "ax[1].text(-.07,2.,'$(b)$',fontsize=15,horizontalalignment='right',verticalalignment='top')\n",
    "plt.savefig('sharp-vs-phase-diagram.png',dpi=500,bbox_inches='tight')"
   ]
  }
 ],
 "metadata": {
  "kernelspec": {
   "display_name": "Python 3",
   "language": "python",
   "name": "python3"
  },
  "language_info": {
   "codemirror_mode": {
    "name": "ipython",
    "version": 3
   },
   "file_extension": ".py",
   "mimetype": "text/x-python",
   "name": "python",
   "nbconvert_exporter": "python",
   "pygments_lexer": "ipython3",
   "version": "3.7.3"
  },
  "toc": {
   "base_numbering": 1,
   "nav_menu": {},
   "number_sections": true,
   "sideBar": true,
   "skip_h1_title": false,
   "title_cell": "Table of Contents",
   "title_sidebar": "Contents",
   "toc_cell": false,
   "toc_position": {},
   "toc_section_display": true,
   "toc_window_display": false
  },
  "varInspector": {
   "cols": {
    "lenName": 16,
    "lenType": 16,
    "lenVar": 40
   },
   "kernels_config": {
    "python": {
     "delete_cmd_postfix": "",
     "delete_cmd_prefix": "del ",
     "library": "var_list.py",
     "varRefreshCmd": "print(var_dic_list())"
    },
    "r": {
     "delete_cmd_postfix": ") ",
     "delete_cmd_prefix": "rm(",
     "library": "var_list.r",
     "varRefreshCmd": "cat(var_dic_list()) "
    }
   },
   "types_to_exclude": [
    "module",
    "function",
    "builtin_function_or_method",
    "instance",
    "_Feature"
   ],
   "window_display": false
  }
 },
 "nbformat": 4,
 "nbformat_minor": 2
}
