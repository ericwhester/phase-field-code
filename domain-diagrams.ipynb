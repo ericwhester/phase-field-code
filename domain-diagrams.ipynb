{
 "cells": [
  {
   "cell_type": "markdown",
   "metadata": {},
   "source": [
    "# Domain diagrams"
   ]
  },
  {
   "cell_type": "markdown",
   "metadata": {},
   "source": [
    "This notebook creates the domain diagram figures."
   ]
  },
  {
   "cell_type": "markdown",
   "metadata": {},
   "source": [
    "# Imports"
   ]
  },
  {
   "cell_type": "code",
   "execution_count": null,
   "metadata": {},
   "outputs": [],
   "source": [
    "import numpy as np\n",
    "import matplotlib.pyplot as plt\n",
    "import skfmm\n",
    "\n",
    "from matplotlib import rc\n",
    "rc('font',**{'family':'serif','serif':['Computer Modern Roman']})\n",
    "rc('text', usetex=True)\n",
    "plt.rcParams['text.latex.preamble'] = [r'\\usepackage{bm}']\n",
    "\n",
    "from matplotlib.colors import LinearSegmentedColormap\n",
    "import matplotlib.cm as cm\n",
    "cmap = cm.get_cmap('Greys')\n",
    "color = cmap(.5)\n",
    "\n",
    "cdict_phi_grey = { \n",
    "    'red':  ((0.0, 1., 1.), (0.5, .7,.7), (1.0, color[0], color[0])),\n",
    "    'green':((0.0, 1., 1.), (0.5, .7,.7), (1.0, color[0], color[0])),\n",
    "    'blue': ((0.0, 1., 1.), (0.5, .7,.7), (1.0, color[0], color[0])),}\n",
    "#     'alpha':((0.0, 1., 0.0), (0.1, 0.0, 0.0), (1.0, 1., 1.))  }\n",
    "cmap_phi = LinearSegmentedColormap('cmap_phi', cdict_phi_grey)\n",
    "plt.register_cmap(cmap=cmap_phi)"
   ]
  },
  {
   "cell_type": "markdown",
   "metadata": {},
   "source": [
    "# Asymptotic diagrams"
   ]
  },
  {
   "cell_type": "code",
   "execution_count": null,
   "metadata": {},
   "outputs": [],
   "source": [
    "x = np.linspace(0,2,500,endpoint=False)\n",
    "z = np.linspace(0,2,500,endpoint=False)\n",
    "xx, zz = np.meshgrid(x,z,indexing='ij')\n",
    "h = (1 + np.sin(-np.pi*x)/3)\n",
    "d0 = h[:,None]-zz\n",
    "d = skfmm.distance(d0,dx=float(x[1]-x[0]),periodic=(True,False))\n",
    "f = 0.5*(1 - np.tanh(d/0.1))\n",
    "\n",
    "xs = np.linspace(0,2,20,endpoint=True)\n",
    "zs = (1 + np.sin(-np.pi*xs)/3)\n",
    "dxs = (xs[1]-xs[0])*np.ones_like(xs)\n",
    "dzs = dxs*np.pi*np.cos(np.pi*xs)/3\n",
    "nabs = np.sqrt(dxs**2 + dzs**2)\n",
    "nxs =-dzs/nabs\n",
    "nzs = dxs/nabs\n",
    "eps = .1\n",
    "xps = xs + eps*nxs\n",
    "zps = zs + eps*nzs\n",
    "xms = xs - eps*nxs\n",
    "zms = zs - eps*nzs\n",
    "\n",
    "fig, ax = plt.subplots(1,2,figsize=(6,3))\n",
    "ax[0].fill_between(x,h.flatten(),2,color=color)\n",
    "ax[0].plot(x,h.flatten(),'k',linewidth=1)\n",
    "ax[1].pcolormesh(xx,zz,f,cmap='cmap_phi',vmin=0,vmax=1,edgecolors='face')\n",
    "ax[1].contour(xx,zz,d,[0.],colors='k',linewidths=1,linestyles='--')\n",
    "\n",
    "for i, axi in enumerate(ax):\n",
    "    ax[i].set(ylim=[0,2],xlim=[0,2],aspect=1,xticks=[],yticks=[])\n",
    "ax[0].text(.2,1.7,r'Solid $\\Omega^-$',fontsize=15,horizontalalignment='left',verticalalignment='center')\n",
    "ax[0].text(.2,1.1,r'Interface',fontsize=15,horizontalalignment='left',verticalalignment='center')\n",
    "ax[0].text(.4,.85,r'$\\partial \\Omega$',fontsize=15,horizontalalignment='left',verticalalignment='center')\n",
    "ax[0].text(.2,.3,r'Fluid $\\Omega^+$',fontsize=15,horizontalalignment='left',verticalalignment='center')\n",
    "ax[0].text(-.07,2.,'$(a)$',fontsize=15,horizontalalignment='right',verticalalignment='top')\n",
    "ax[1].text(.15,1.75,r'$\\phi \\approx 1$',fontsize=15,horizontalalignment='left',verticalalignment='center')\n",
    "ax[1].text(.15,1.05,r'$\\phi = 1/2$',fontsize=15,horizontalalignment='left',verticalalignment='center')\n",
    "ax[1].text(.15,.25,r'$\\phi \\approx 0$',fontsize=15,horizontalalignment='left',verticalalignment='center')\n",
    "ax[1].text(-.07,2.,'$(b)$',fontsize=15,horizontalalignment='right',verticalalignment='top')\n",
    "plt.savefig('sharp-vs-phase-diagram.png',dpi=500,bbox_inches='tight')"
   ]
  },
  {
   "cell_type": "markdown",
   "metadata": {},
   "source": [
    "# Signed distance diagram"
   ]
  },
  {
   "cell_type": "markdown",
   "metadata": {},
   "source": [
    "Maths for the signed distance diagram.\n",
    "\n",
    "The interface is parameterised by $x$\n",
    "\n",
    "$$ \\boldsymbol{x} = (x,z) = (x,h(x)) = \\left(x,1 - \\frac{\\sin(\\pi x)}{3}\\right)$$\n",
    "\n",
    "The derivatives of each coordinate are therefore\n",
    "\n",
    "$$ \\boldsymbol{x}' = (1,z') = \\left(1, -\\frac{\\pi}{3}\\cos(\\pi x) \\right)$$\n",
    "\n",
    "and these are therefore tangent vectors to the interface.\n",
    "\n",
    "The second derivatives are involved in the curvature\n",
    "\n",
    "$$ \\boldsymbol{x}'' = (0, z'') = \\left(0, \\frac{\\pi^2}{3} \\sin(\\pi x) \\right)$$\n",
    "\n",
    "The scale factors for the tangent vectors are their magnitude\n",
    "\n",
    "$$ |\\boldsymbol{x}'|^2 = \\sqrt{1 + \\frac{\\pi^2}{3^2}\\cos^2(\\pi x)}$$\n",
    "\n",
    "The full curvature is given by\n",
    "\n",
    "$$ \\kappa = \\frac{x' z'' - z' x'' }{|\\boldsymbol{x}'|^3}$$\n",
    "\n",
    "The inverse of this quantity is the radius of curvature"
   ]
  },
  {
   "cell_type": "code",
   "execution_count": null,
   "metadata": {},
   "outputs": [],
   "source": [
    "x = np.linspace(0,2,500,endpoint=False)\n",
    "z = np.linspace(0,2,500,endpoint=False)\n",
    "xx, zz = np.meshgrid(x,z,indexing='ij')\n",
    "h = (1 - np.sin(np.pi*x)/3)\n",
    "d0 = h[:,None]-zz\n",
    "d = skfmm.distance(d0,dx=float(x[1]-x[0]),periodic=(True,False))\n",
    "f = 0.5*(1 - np.tanh(d/0.1))\n",
    "\n",
    "x0 = np.linspace(-.5,2.5,101,endpoint=True)\n",
    "z0 = (1 - np.sin(np.pi*x0)/3)\n",
    "dx0 = (x0[1]-x0[0])*np.ones_like(x0)\n",
    "dz0 = -dx0*np.pi*np.cos(np.pi*x0)/3\n",
    "nabs = np.sqrt(dx0**2 + dz0**2)\n",
    "nx =-dz0/nabs\n",
    "nz = dx0/nabs\n",
    "ddx0 = np.zeros_like(x0)\n",
    "ddz0 = dx0**2 * (-np.pi**2/3)*np.sin(np.pi*x0)\n",
    "κ = (dx0*ddz0 - dz0*ddx0)/nabs**3\n",
    "rc = 1/κ\n",
    "rcrit = 1/κ.max()\n",
    "eps = rcrit/3\n",
    "# Level sets of distance function\n",
    "xs = np.array([x0 + i*eps*nx for i in range(-3,4)])\n",
    "zs = np.array([z0 + i*eps*nz for i in range(-3,4)])\n",
    "\n",
    "fig, ax = plt.subplots(1,2,figsize=(6,3))\n",
    "ax[0].pcolormesh(xx,zz,f,cmap='cmap_phi',vmin=0,vmax=1,edgecolors='face')\n",
    "for i in range(2,5): ax[0].plot(xs[i],zs[i],color='k',linewidth=.5)\n",
    "for j in range(0,len(x0),3): ax[0].plot([xs[2,j],xs[4,j]],[zs[2,j],zs[4,j]],'k',linewidth=.5)\n",
    "\n",
    "for j in range(0,len(x0),3): ax[1].plot([xs[0,j],xs[6,j]],[zs[0,j],zs[6,j]],'gray',linewidth=.5)\n",
    "for i in [3]:       ax[1].plot(xs[i],zs[i],'C0',linewidth=1)\n",
    "for i in [1,2,4,5]: ax[1].plot(xs[i],zs[i],color='gray',linewidth=.5)\n",
    "for i in [0,6]:     ax[1].plot(xs[i],zs[i],color='C3',linewidth=.5)\n",
    "    \n",
    "for i, axi in enumerate(ax):\n",
    "    ax[i].set(ylim=[0,2],xlim=[0,2],aspect=1,xticks=[],yticks=[])\n",
    "#     for spine in ax[i].spines:ax[i].spines[spine].set_visible(False)\n",
    "j = 54\n",
    "ax[0].plot([xs[2,j], xs[4,j]],\n",
    "           [zs[2,j], zs[4,j]],'k',linewidth=2)\n",
    "ax[0].text(.2,1.75,r'Solid $\\Omega^-$',fontsize=15,horizontalalignment='left',verticalalignment='center')\n",
    "ax[0].text(.15,1.2,r'Boundary',fontsize=15,horizontalalignment='left',verticalalignment='center')\n",
    "ax[0].text(.5,.95,r'$\\Delta \\Omega$',fontsize=15,horizontalalignment='center',verticalalignment='center')\n",
    "ax[0].text(.2,.25,r'Fluid $\\Omega^+$',fontsize=15,horizontalalignment='left',verticalalignment='center')\n",
    "ax[0].text(-0.07,2,'$(a)$',fontsize=15,horizontalalignment='right',verticalalignment='top')\n",
    "ax[0].text(1.5,.25,r'$\\phi \\approx 0$',fontsize=15,horizontalalignment='center',verticalalignment='center')\n",
    "ax[0].text(1.5,1.75,r'$\\phi \\approx 1$',fontsize=15,horizontalalignment='center',verticalalignment='center')\n",
    "ax[0].text(1.5,1.,r'$\\mathcal{O}(\\varepsilon)$',fontsize=15,horizontalalignment='center',verticalalignment='center')\n",
    "\n",
    "j = 54\n",
    "width = 0.005\n",
    "ax[1].scatter(xs[3,j],zs[3,j],s=5,color='k',zorder=10)\n",
    "ax[1].text(xs[3,j],zs[3,j],r'$\\bm{p}(s)$',horizontalalignment='left',verticalalignment='top',fontsize=15)\n",
    "\n",
    "ax[1].scatter(xs[3,j]+.9*nx[j],zs[3,j]+.9*nz[j],s=5,color='k',zorder=10)\n",
    "ax[1].text(xs[3,j]+.9*nx[j]-0.1,zs[3,j]+.9*nz[j],r'$\\bm{x}$',horizontalalignment='right',verticalalignment='center',fontsize=15)\n",
    "\n",
    "ax[1].arrow(xs[3,j],zs[3,j],.4*nx[j],.4*nz[j],zorder=3,width=width,head_width=5*width,head_length=7*width)\n",
    "ax[1].text(xs[3,j]+.4*nx[j]-.1,zs[3,j]+.4*nz[j],r'$\\bm{\\widehat{n}}(s)$',horizontalalignment='right',verticalalignment='center',fontsize=15)\n",
    "\n",
    "ax[1].plot([xs[3,j]+.03, xs[3,j]+.03+.9*nx[j]],\n",
    "           [zs[3,j]+.02, zs[3,j]+.02+.9*nz[j]],'k--',linewidth=.75)\n",
    "ax[1].text(xs[3,j]+.6*nx[j]+.04,\n",
    "           zs[3,j]+.6*nz[j]+.03,r'${\\sigma}$',horizontalalignment='left',verticalalignment='bottom',fontsize=15)\n",
    "\n",
    "ax[1].text(-0.07,2,'$(b)$',fontsize=15,horizontalalignment='right',verticalalignment='top')\n",
    "plt.savefig('phase-field-regions-sdf-diagram.png',dpi=500,bbox_inches='tight')"
   ]
  }
 ],
 "metadata": {
  "kernelspec": {
   "display_name": "Python 3",
   "language": "python",
   "name": "python3"
  },
  "language_info": {
   "codemirror_mode": {
    "name": "ipython",
    "version": 3
   },
   "file_extension": ".py",
   "mimetype": "text/x-python",
   "name": "python",
   "nbconvert_exporter": "python",
   "pygments_lexer": "ipython3",
   "version": "3.7.3"
  },
  "toc": {
   "base_numbering": 1,
   "nav_menu": {},
   "number_sections": true,
   "sideBar": true,
   "skip_h1_title": false,
   "title_cell": "Table of Contents",
   "title_sidebar": "Contents",
   "toc_cell": false,
   "toc_position": {},
   "toc_section_display": true,
   "toc_window_display": false
  },
  "varInspector": {
   "cols": {
    "lenName": 16,
    "lenType": 16,
    "lenVar": 40
   },
   "kernels_config": {
    "python": {
     "delete_cmd_postfix": "",
     "delete_cmd_prefix": "del ",
     "library": "var_list.py",
     "varRefreshCmd": "print(var_dic_list())"
    },
    "r": {
     "delete_cmd_postfix": ") ",
     "delete_cmd_prefix": "rm(",
     "library": "var_list.r",
     "varRefreshCmd": "cat(var_dic_list()) "
    }
   },
   "types_to_exclude": [
    "module",
    "function",
    "builtin_function_or_method",
    "instance",
    "_Feature"
   ],
   "window_display": false
  }
 },
 "nbformat": 4,
 "nbformat_minor": 2
}
