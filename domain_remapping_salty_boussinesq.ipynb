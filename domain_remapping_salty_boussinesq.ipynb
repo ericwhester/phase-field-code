{
 "cells": [
  {
   "cell_type": "markdown",
   "metadata": {},
   "source": [
    "# Domain remapping"
   ]
  },
  {
   "cell_type": "markdown",
   "metadata": {},
   "source": [
    "In this notebook, we use a coordinate remapping to simulate flow underneath an ice sheet with topography.\n",
    "\n",
    "The coordinate system is defined as follows.\n",
    "\n",
    "Cartesian coordinates are $t, x, z$.\n",
    "\n",
    "Remapped coordinates and $\\tau, \\xi, \\zeta$, which are defined as\n",
    "\n",
    "\\begin{align}\n",
    "\\tau &= \\frac{t}{\\mathcal{T}} &\n",
    "\\xi &= \\frac{x}{\\mathcal{L}} &\n",
    "\\zeta &= \\frac{z}{\\mathcal{L}\\eta(\\tau,\\xi)}\n",
    "\\end{align}\n",
    "\n",
    "This lets us write all the partial derivatives with respect to each other\n",
    "\n",
    "\\begin{align}\n",
    "\\frac{\\partial {\\xi}_i}{\\partial{x}_j} &= \n",
    "    \\begin{bmatrix}\n",
    "    \\partial_t \\tau & \\partial_t \\xi & \\partial_t \\zeta \\\\\n",
    "    \\partial_x \\tau & \\partial_x \\xi & \\partial_x \\zeta \\\\\n",
    "    \\partial_z \\tau & \\partial_z \\xi & \\partial_z \\zeta \\\\\n",
    "    \\end{bmatrix}\n",
    "    = \\begin{bmatrix}\n",
    "    \\frac{1}{\\mathcal{T}} & 0 & -\\frac{1}{\\mathcal{T}} \\zeta \\frac{\\partial_\\tau \\eta}{\\eta}\\\\\n",
    "    0 & \\frac{1}{\\mathcal{L}} & -\\frac{1}{\\mathcal{L}} \\zeta \\frac{\\partial_\\xi \\eta}{\\eta}\\\\\n",
    "    0 & 0 & \\frac{1}{\\mathcal{L} \\eta}\n",
    "    \\end{bmatrix}\\\\\n",
    "\\frac{\\partial {x}_i}{\\partial{\\xi}_j} &= \n",
    "    \\begin{bmatrix}\n",
    "    \\partial_\\tau t & \\partial_\\tau x & \\partial_\\tau z \\\\\n",
    "    \\partial_\\xi t & \\partial_\\xi x & \\partial_\\xi z \\\\\n",
    "    \\partial_\\zeta t & \\partial_\\zeta x & \\partial_\\zeta z \\\\\n",
    "    \\end{bmatrix} \n",
    "    = \\begin{bmatrix}\n",
    "    \\mathcal{T} & 0 & \\mathcal{L} \\zeta \\partial_\\tau \\eta\\\\\n",
    "    0 & \\mathcal{L} & \\mathcal{L} \\zeta \\partial_\\xi \\eta\\\\\n",
    "    0 & 0 & \\mathcal{L} \\eta\n",
    "    \\end{bmatrix}\n",
    "\\end{align}\n",
    "\n",
    "We will determine the differential geometric quantities in the spatial directions, and consider time derivatives separately (as a metric makes sense spatially only).\n",
    "Remember, everything here will in general also vary in time\n",
    "\n",
    "We get the **tangent vectors**\n",
    "\n",
    "\\begin{align}\n",
    "e_1 = \\frac{\\partial\\bf{x}}{\\partial\\xi} \\cong \\frac{\\partial}{\\partial\\xi} &= \\mathcal{L} \\hat{e}_1 + \\zeta \\partial_\\xi \\eta  \\, \\mathcal{L}\\hat{e}_2\\\\\n",
    "e_2 = \\frac{\\partial\\bf{x}}{\\partial\\zeta} \\cong \\frac{\\partial}{\\partial\\zeta} &=\\eta \\, \\mathcal{L} \\hat{e}_2\n",
    "\\end{align}\n",
    "\n",
    "The have corresponding **dual/covectors**\n",
    "\n",
    "\\begin{align}\n",
    "\\omega^1 = \\nabla \\xi = \\bf{d} \\xi &= \\frac{1}{\\mathcal{L}}\\hat{\\omega}^1 \\\\\n",
    "\\omega^2 = \\nabla \\zeta = \\bf{d} \\zeta &= - \\zeta \\frac{\\partial_\\xi \\eta}{\\eta} \\, \\frac{1}{\\mathcal{L}} \\hat{\\omega}^1 +  \\frac{1}{\\eta}\\frac{1}{\\mathcal{L}} \\hat{\\omega}^2\n",
    "\\end{align}\n",
    "\n",
    "We can then calculate the **metric** components\n",
    "\n",
    "\\begin{align}\n",
    "g_{11} &= \\mathcal{L}^2(1 + \\zeta^2 \\partial_\\xi \\eta^2)  &\n",
    "    g^{11} &= \\frac{1}{\\mathcal{L}^2}\\\\\n",
    "g_{12} = g_{21} &= \\mathcal{L}^2 \\zeta \\eta \\partial_\\xi \\eta &\n",
    "    g^{12} = g^{21} &= - \\frac{1}{\\mathcal{L}^2} \\zeta \\frac{\\partial_\\xi \\eta}{\\eta} \\\\\n",
    "g_{22} &= \\mathcal{L}^2 \\eta^2 &\n",
    "    g^{22} &= \\frac{1}{\\mathcal{L}^2} \\frac{1}{\\eta^2}\\left(1 + \\zeta^2 \\partial_\\xi \\eta^2 \\right)\n",
    "\\end{align}\n",
    "\n",
    "This has determinant of\n",
    "$$ g = \\mathcal{L}^4 \\eta^2 $$\n",
    "and **Jacobian**\n",
    "$$ \\sqrt{g} = \\mathcal{L}^2 \\eta$$\n",
    "\n",
    "We calculate the **connection coefficients**/Christoffel symbols directly using\n",
    "\\begin{align}\n",
    "\\Gamma^\\gamma_{\\alpha \\beta} = \\langle \\omega^\\gamma, \\nabla_\\beta e_\\alpha\\rangle\n",
    "\\end{align}\n",
    "\n",
    "Hence\n",
    "\\begin{align}\n",
    "\\Gamma^1_{11} &= 0 & \\Gamma^2_{11} &= \\zeta \\frac{\\partial^2_\\xi \\eta}{\\eta}\\\\\n",
    "\\Gamma^1_{12} &= 0 & \\Gamma^2_{12} &= \\frac{\\partial_\\xi \\eta}{\\eta}\\\\\n",
    "\\Gamma^1_{21} &= 0 & \\Gamma^2_{21} &= \\frac{\\partial_\\xi \\eta}{\\eta}\\\\\n",
    "\\Gamma^1_{22} &= 0 & \\Gamma^2_{22} &= 0\n",
    "\\end{align}\n",
    "Of course, for coordinate bases we have symmetry in the last two components.\n",
    "\n",
    "We can write the **divergence** using\n",
    "$$\\nabla \\cdot u = \\nabla u : I = (\\omega^j \\nabla_j)(u^i e_i): = (u^i_{,j} + u^j \\Gamma^i_{ji})\\omega^j\\cdot e_i = (u^i_{,i} + u^j \\Gamma^i_{ji})$$\n",
    "$$\\nabla \\cdot u = u^i_{;i} = u^i_{,i} + \\Gamma^i_{j i} u^j = u^1_{,1} + u^2_{,2} + \\frac{\\partial_\\xi \\eta}{\\eta} u^1$$\n",
    "\n",
    "We write the **vorticity** (in covariant components) as\n",
    "\n",
    "$$q = \\nabla \\times u = \\mathcal{E}:\\nabla u = (\\mathcal{E}^{ij}e_i e_j):(\\omega^k \\nabla_k)(u^l \\, e_l) = \\frac{1}{\\sqrt{g}} [ij] u^l_{;k}(e_i\\cdot\\omega^k)(e_j\\cdot e_l)$$\n",
    "$$ = \\frac{1}{\\sqrt{g}} [ij] g_{jl} u^l_{;i} = \\frac{1}{\\sqrt{g}} ( g_{2l} u^l_{;1} - g_{1l} u^l_{;2})$$\n",
    "\n",
    "We can write the **curl of the vorticity** as \n",
    "\n",
    "$$ \\nabla \\times q = \\mathcal{E}\\cdot\\nabla q = (\\mathcal{E}^{ij}e_i e_j)\\cdot(\\omega^k \\nabla_k)q =  \\frac{1}{\\sqrt{g}}[ij]q_{,i} e_j = \\frac{1}{\\sqrt{g}}(q_{,1}e_2 - q_{,2}e_1) $$\n",
    "\n",
    "Note that this sign appears to be incorrect.\n",
    "\n",
    "The **gradient** of the pressure is just\n",
    "\n",
    "$$\\nabla p = g^{ji} p_{,j} e_i$$\n",
    "\n",
    "The **cross product** $u \\times q$ is \n",
    "\n",
    "$$u\\times q = \\mathcal{E}\\cdot u q = (\\mathcal{E}_{ij}\\omega^i\\omega^j)\\cdot(q u^k e_k) = \\sqrt{g}q [ij] \\delta^i_k u^k \\omega^j = \\sqrt{g} g^{jk} [ij] u^i e_k$$\n",
    "$$ = \\sqrt{g}q(g^{2k} u^1 - g^{1k}u^2)e_k$$\n",
    "\n",
    "**Time derivative**\n",
    "\n",
    "$$ \\partial_t = \\partial_t\\tau \\partial_\\tau + \\partial_t \\xi \\partial_\\xi + \\partial_t \\zeta \\partial_\\zeta = \\frac{1}{\\mathcal{T}} (\\partial_\\tau - \\zeta \\frac{\\partial_\\tau \\eta}{\\eta} \\partial_\\zeta)$$\n",
    "\n",
    "And \n",
    "\n",
    "$$ \\partial_t u = \\partial_t (u^i e_i) = \\partial_t u^i e_i + u^i \\partial_t e_i$$\n",
    "\n",
    "where\n",
    "\n",
    "$$\\partial_\\tau e_1 = \\mathcal{L} \\zeta \\partial_\\tau \\partial_\\xi \\eta \\hat{e}_2 = \\frac{\\zeta}{\\eta}\\partial_\\tau\\partial_\\xi \\eta\\, e_2$$\n",
    "$$\\partial_\\tau e_2 = \\mathcal{L} \\partial_\\tau \\eta \\hat{e}_2 = \\frac{\\partial_\\tau\\eta}{\\eta}\\, e_2$$"
   ]
  },
  {
   "cell_type": "markdown",
   "metadata": {},
   "source": [
    "# Imports"
   ]
  },
  {
   "cell_type": "code",
   "execution_count": null,
   "metadata": {},
   "outputs": [],
   "source": [
    "import numpy as np\n",
    "import matplotlib.pyplot as plt\n",
    "import dedalus.public as de\n",
    "\n",
    "d = de.operators.differentiate\n",
    "integ = de.operators.integrate\n",
    "\n",
    "import glob\n",
    "from dedalus.tools import post\n",
    "import file_tools as flt\n",
    "import interpolation as ip\n",
    "import time\n",
    "import os\n",
    "import logging\n",
    "import sys\n",
    "logger = logging.getLogger(__name__)"
   ]
  },
  {
   "cell_type": "code",
   "execution_count": null,
   "metadata": {},
   "outputs": [],
   "source": [
    "from matplotlib import rc\n",
    "# rc('font',**{'family':'sans-serif','sans-serif':['Helvetica']})\n",
    "## for Palatino and other serif fonts use:\n",
    "rc('font',**{'family':'serif','serif':['Computer Modern Roman']})\n",
    "rc('text', usetex=True)"
   ]
  },
  {
   "cell_type": "code",
   "execution_count": null,
   "metadata": {},
   "outputs": [],
   "source": [
    "savedir = os.path.expanduser('~/dedalus/sim-data/domain-remapping')"
   ]
  },
  {
   "cell_type": "markdown",
   "metadata": {},
   "source": [
    "# The coordinate system"
   ]
  },
  {
   "cell_type": "code",
   "execution_count": null,
   "metadata": {},
   "outputs": [],
   "source": [
    "# xi = (t,x,z)\n",
    "# ξi = (τ,ξ,ζ)\n",
    "J, K, g, G, Kdet = {}, {}, {}, {},{}\n",
    "# Jij = J^j_i = d_xi(ξj)\n",
    "J[1,0,0] = '1'\n",
    "J[1,0,2] = '-(1-z)*ht/(2-h)'\n",
    "J[1,1,1] = '1'\n",
    "J[1,1,2] = '-(1-z)*hx/(2-h)'\n",
    "J[1,2,2] = '1/(2-h)'\n",
    "J[2,0,0] = '1'\n",
    "J[2,0,2] = '-z*ht/h'\n",
    "J[2,1,1] = '1'\n",
    "J[2,1,2] = '-z*hx/h'\n",
    "J[2,2,2] = '1/h'\n",
    "# Kij = d_ξi(xj)\n",
    "K[1,0,0] = '1'\n",
    "K[1,0,2] = '(1-z)*ht'\n",
    "K[1,1,1] = '1'\n",
    "K[1,1,2] = '(1-z)*hx'\n",
    "K[1,2,2] = '2-h'\n",
    "K[2,0,0] = '1'\n",
    "K[2,0,2] = 'z*ht'\n",
    "K[2,1,1] = '1'\n",
    "K[2,1,2] = 'z*hx'\n",
    "K[2,2,2] = 'h'\n",
    "# Kdet\n",
    "Kdet[1] = '2-h'\n",
    "Kdet[2] = 'h'\n",
    "# gij = ωi.ωj\n",
    "g[1,1,1] = '1'\n",
    "g[1,1,2] = '-(1-z)*hx/(2-h)'\n",
    "g[1,2,1] = 'g112'\n",
    "g[1,2,2] = '(1 + ((1-z)*hx)**2)/(2-h)**2'\n",
    "g[2,1,1] = '1'\n",
    "g[2,1,2] = '-z*hx/h'\n",
    "g[2,2,1] = 'g212'\n",
    "g[2,2,2] = '(1 + (z*hx)**2)/h**2'\n",
    "# Gi_jk = ωi.d_ξk(uj)\n",
    "G[1,2,1,0] = '(1-z)*dx(ht)/(2-h)'\n",
    "G[1,2,2,0] = '-ht/(2-h)'\n",
    "G[1,2,1,1] = '(1-z)*dx(hx)/(2-h)'\n",
    "G[1,2,1,2] = '-hx/(2-h)'\n",
    "G[1,2,2,1] = 'G12_12'\n",
    "G[2,2,1,0] = 'z*dx(ht)/h'\n",
    "G[2,2,2,0] = 'ht/h'\n",
    "G[2,2,1,1] = 'z*dx(hx)/h'\n",
    "G[2,2,1,2] = 'hx/h'\n",
    "G[2,2,2,1] = 'G22_12'\n",
    "\n",
    "eps = {}\n",
    "eps[1,2] = '1'\n",
    "eps[2,1] = '-1'\n",
    "dims = range(1,3)"
   ]
  },
  {
   "cell_type": "markdown",
   "metadata": {
    "heading_collapsed": true
   },
   "source": [
    "## String expansion for symbolic tensor expressions"
   ]
  },
  {
   "cell_type": "code",
   "execution_count": null,
   "metadata": {
    "hidden": true
   },
   "outputs": [],
   "source": [
    "import string\n",
    "\n",
    "def expand_single(expr,symbol,values,combine=False):\n",
    "    if symbol not in expr:\n",
    "#         return symbol\n",
    "        raise ValueError(f'Expression doesn\\'t contain symbol {symbol}')\n",
    "    terms = [expr.replace(symbol,str(value)) for value in values]\n",
    "    count = expr.count(symbol)\n",
    "    if combine: return ' + '.join(terms)\n",
    "    else:       return terms\n",
    "\n",
    "def detect_indices(expr,tensors):    \n",
    "    indices = expr\n",
    "    for protected in tensors + list(' +*-/()_') + list(string.digits): indices = indices.replace(protected,'')\n",
    "    return set(indices)\n",
    "    \n",
    "def expand_multiple(expr,tensors,values):\n",
    "    \"\"\"\n",
    "    Expands single tensor contraction string (no top level +). \n",
    "    No top level +.\"\"\"\n",
    "    symbols = detect_indices(expr,tensors)\n",
    "    combines = [expr.count(symbol) > 1 for symbol in symbols]\n",
    "    terms = np.array(expr)\n",
    "    for symbol,combine in zip(symbols,combines):\n",
    "        shape = terms.shape\n",
    "        terms = np.array([expand_single(term,symbol,values,combine=combine) for term in terms.flatten()])\n",
    "        if combine: terms = terms.reshape(shape)\n",
    "        else: terms = terms.reshape(list(shape)+[len(values)])\n",
    "    return terms\n",
    "\n",
    "def expand_all(expr,tensors,values,sparse=False):\n",
    "    \"\"\"\n",
    "    Give string expression of tensor contraction.\n",
    "    Split over addition (+) and combine at end.\n",
    "    Automatically detects indices by detecting eve and contractions.\n",
    "\n",
    "    expr: string expression for tensor contraction\n",
    "    tensors: reserved strings are not assumed to be contraction indices\n",
    "    values: possible values for each index\n",
    "    E.g. expand_all('ai*bj*cj + dk', list('abcd'), '12') \n",
    "    -> np.array(['a1*b1*c1 + a1*b2*c2 + d1',\n",
    "                 'a2*b1*c1 + a2*b2*c2 + d2'])\n",
    "    \"\"\"\n",
    "    expr = expr.replace(' ','')\n",
    "#     expr = expr.replace('-','+-1*')\n",
    "    terms = np.array(expr.split('+'))\n",
    "    terms = [expand_multiple(term,tensors,values) for term in terms]\n",
    "    shapes = [term.shape for term in terms]\n",
    "    if not all(shape == shapes[0] for shape in shapes):\n",
    "        raise ValueError('Inconsistent dimensions in tensor expression')\n",
    "    terms = np.array(terms)\n",
    "    shape = terms.shape\n",
    "#     import ipdb; ipdb.set_trace()\n",
    "    if not sparse:\n",
    "        if shape[0] == 1: return str(terms[0])\n",
    "        else:\n",
    "            if len(shape) > 1: \n",
    "                sums = terms.reshape(shape[0],np.product(shape[1:])).T\n",
    "                sums = np.array([' + '.join(psum) for psum in sums])\n",
    "                return sums.reshape(shape[1:])\n",
    "            else:\n",
    "                return ' + '.join([term for term in terms])\n",
    "    if sparse:\n",
    "        raise NotImplementedError('Not doing sparse yet')"
   ]
  },
  {
   "cell_type": "markdown",
   "metadata": {
    "heading_collapsed": true
   },
   "source": [
    "## Functions"
   ]
  },
  {
   "cell_type": "code",
   "execution_count": null,
   "metadata": {
    "hidden": true
   },
   "outputs": [],
   "source": [
    "import interpolation as ip\n",
    "\n",
    "def to_cartesian_grid(field,x,z):\n",
    "    zbasisc = de.Chebyshev('z',nz,interval=field.domain.bases[-1].interval)\n",
    "    zdomain = de.Domain([zbasisc],grid_dtype=np.float64)\n",
    "    kxf = field.domain.elements(0).flatten()\n",
    "    xf = x.flatten()\n",
    "    if len(x.shape) > 1:\n",
    "        raise ValueError('Only a row of x values')\n",
    "    modes = np.exp(1j*np.outer(kxf,(xf + field.domain.bases[0].interval[0])),order='F')\n",
    "    modes[0,:] /= 2\n",
    "    coeffs = field['c'].copy()\n",
    "    chebs = 2*np.tensordot(modes,coeffs,axes=(0,0)).real\n",
    "    subfields = zdomain.new_fields(len(xf))\n",
    "    for i in range(len(xf)): subfields[i]['c'] = chebs[i]\n",
    "    cart_vals = np.array([ip.interp(subfields[i],ζc[i]) for i in range(len(x))])\n",
    "    return cart_vals"
   ]
  },
  {
   "cell_type": "code",
   "execution_count": null,
   "metadata": {
    "hidden": true
   },
   "outputs": [],
   "source": [
    "def to_remapped(field,xc,zc,basis):\n",
    "#     zbasisc = flt.load_basis(f'domain-{simnames[\"x\"]}.h5','1')\n",
    "    zdomain = de.Domain([basis],grid_dtype=np.float64)\n",
    "    kxf = field.domain.elements(0).flatten()\n",
    "    xf = xc.flatten()\n",
    "    if len(xc.shape) > 1: raise ValueError('Only a row of x values')\n",
    "    modes = np.exp(1j*np.outer(kxf,(xf + field.domain.bases[0].interval[0])),order='F')\n",
    "    modes[0,:] /= 2\n",
    "    coeffs = field['c'].copy()\n",
    "    chebs = 2*np.tensordot(modes,coeffs,axes=(0,0)).real\n",
    "    subfield = zdomain.new_field()\n",
    "    grids = []\n",
    "    for i in range(len(xf)):\n",
    "        subfield['c'] = chebs[i]\n",
    "        grids.append(ip.interp(subfield,zc[i]))\n",
    "#     subfields = zdomain.new_fields(len(xf))\n",
    "#     for i in range(len(xf)): subfields[i]['c'] = chebs[i]\n",
    "#     grids = np.array([ip.interp(subfields[i],zc[i]) for i in range(len(xf))])\n",
    "    return np.array(grids)"
   ]
  },
  {
   "cell_type": "code",
   "execution_count": null,
   "metadata": {
    "hidden": true
   },
   "outputs": [],
   "source": [
    "# Root finding the phase field\n",
    "def find_root(field,guess,iterations=10,derivative='x',mode='both',tolerance=1e-8):\n",
    "    # Create 1D subdomain to store roots on\n",
    "    if mode == 'interval':\n",
    "        xl, xr = guess\n",
    "        for i in range(iterations):\n",
    "            xm = (xl+xr)/2\n",
    "            xl_vec, xm_vec, xr_vec = np.array([xl]), np.array([(xr+xl)/2]), np.array([xr])\n",
    "            yl, ym, yr = ip.interp(field,xl_vec), ip.interp(field,xm_vec), ip.interp(field,xr_vec)\n",
    "            if np.sign(yl) == np.sign(ym): xl = xm\n",
    "            else: xr = xm\n",
    "        x = (xl + xr)/2\n",
    "    if mode == 'newton':\n",
    "        x = guess\n",
    "        it, change = 0, 1\n",
    "        while it < iterations and np.abs(change) > tolerance:#for i in range(iterations):\n",
    "            x_vec = np.array([x])\n",
    "            change = ip.interp(field,x_vec)/ip.interp(field.differentiate(derivative),x_vec)\n",
    "            x -= np.asscalar(change)\n",
    "            it += 1\n",
    "    if mode == 'both':\n",
    "        guess = find_root(field,guess,iterations=iterations,mode='interval',derivative='z')\n",
    "        return find_root(field,guess,iterations=iterations,mode='newton',derivative='z')\n",
    "    return x\n",
    "\n",
    "def find_roots(field, xs, level=0,zrange=.05,res=20,iterations=5,tolerance=1e-8,interval=None):\n",
    "    # Find approximate root location\n",
    "    field_grid_old = field['g']\n",
    "    x_old,z_old = [arr.flatten() for arr in field.domain.grids()]\n",
    "    closest = np.empty(xs.shape)\n",
    "    for i,xsi in enumerate(xs):\n",
    "        xid = np.abs(x_old - xsi).argmin()\n",
    "        zid = np.abs(field_grid_old[xid]-level).argmin()\n",
    "        closest[i] = z_old[zid]\n",
    "    # Create 16th order Chebyshev approximations around each point\n",
    "    intervals = [(closest[i]-zrange,closest[i]+zrange) for i in range(len(xs))]\n",
    "    if interval:\n",
    "        intervals = [(max(intervals[i][0],interval[0]),min(intervals[i][1],interval[1])) for i in range(len(xs))]\n",
    "    subbases = [de.Chebyshev('z',res,interval=intervals[i]) for i in range(len(xs))]\n",
    "    subdomains = [de.Domain([subbasis],grid_dtype=np.float64) for subbasis in subbases]\n",
    "    subgrids = [subbasis.grid() for subbasis in subbases]\n",
    "    subfields = [subdomain.new_field() for subdomain in subdomains]\n",
    "    roots = np.empty(xs.shape)\n",
    "    for i in range(len(xs)):\n",
    "        subfields[i]['g'] = ip.interp(field,xs[i:i+1], subgrids[i]) - level\n",
    "        roots[i] = find_root(subfields[i],closest[i],\n",
    "                             iterations=5,tolerance=1e-8,derivative='z',mode='newton')\n",
    "    return roots"
   ]
  },
  {
   "cell_type": "code",
   "execution_count": null,
   "metadata": {
    "hidden": true
   },
   "outputs": [],
   "source": [
    "# Older less useful ones\n",
    "def mapped_coords(coords_cartesian,η):\n",
    "    x,z = coords_cartesian\n",
    "    return (x, z/η)\n",
    "\n",
    "def cartesian_coords(coords_mapped,η):\n",
    "    ξ,ζ = coords_mapped\n",
    "    return (ξ, ζ*η)\n",
    "\n",
    "# def mapped_vectors(coords_cartesian,η):\n",
    "\n",
    "def newf(d): return d.new_field()\n",
    "def create_fields(names,dic,d,dim='x'): \n",
    "    for name in names: \n",
    "        dic[name] = newf(d)\n",
    "        dic[name].meta[dim]['parity'] = 1\n",
    "def levi(i,j): return int(j-i)\n",
    "def kron(i,j): return int(i==j)"
   ]
  },
  {
   "cell_type": "markdown",
   "metadata": {
    "heading_collapsed": true
   },
   "source": [
    "## Coordinates"
   ]
  },
  {
   "cell_type": "code",
   "execution_count": null,
   "metadata": {
    "hidden": true
   },
   "outputs": [],
   "source": [
    "n = 64\n",
    "xb = de.Fourier('x',n,interval=(0,4))\n",
    "zb = de.Chebyshev('z',n,interval=(0,1))\n",
    "d0 = de.Domain([xb,zb],grid_dtype=np.float64)\n",
    "xg,zg = d0.grids()\n",
    "xxg,zzg = xg+0*zg, 0*xg+zg"
   ]
  },
  {
   "cell_type": "code",
   "execution_count": null,
   "metadata": {
    "hidden": true
   },
   "outputs": [],
   "source": [
    "ξb = de.Fourier('ξ',n,interval=(0,4))\n",
    "ζb = de.Chebyshev('ζ',n,interval=(0,1))\n",
    "d1 = de.Domain([ξb,ζb],grid_dtype=np.float64)\n",
    "ξg,ζg = d1.grids()\n",
    "ξξg,ζζg = ξg+0*ζg, 0*ξg+ζg"
   ]
  },
  {
   "cell_type": "code",
   "execution_count": null,
   "metadata": {
    "hidden": true
   },
   "outputs": [],
   "source": [
    "ηg = 1 + .25*(1-np.cos(np.pi*xg/2))"
   ]
  },
  {
   "cell_type": "code",
   "execution_count": null,
   "metadata": {
    "hidden": true
   },
   "outputs": [],
   "source": [
    "f0,f1,f2 = {},{},{}\n",
    "create_fields(['x','z','η','ξ','ζ1','ζ2'],f0,d0)\n",
    "create_fields(['x','z1','z2','η','ξ','ζ'],f1,d1,dim='ξ')"
   ]
  },
  {
   "cell_type": "code",
   "execution_count": null,
   "metadata": {
    "hidden": true
   },
   "outputs": [],
   "source": [
    "f0['x']['g'] = xg\n",
    "f0['z']['g'] = zg\n",
    "f0['η']['g'] = ηg\n",
    "f0['ξ']['g'] = xg\n",
    "f0['ζ1']['g'] = zg/ηg\n",
    "f0['ζ2']['g'] = (zg-ηg)/(2-ηg)"
   ]
  },
  {
   "cell_type": "code",
   "execution_count": null,
   "metadata": {
    "hidden": true
   },
   "outputs": [],
   "source": [
    "# Plot ζ and ξ level sets in Cartesian coordinates\n",
    "bottom = zzg<f0['η']['g']\n",
    "fig, ax = plt.subplots(figsize=(7,3))\n",
    "cplot0 = ax.contourf(xxg,zzg,f0['ζ']['g'],np.arange(0,1.2,.2))\n",
    "ax.contour(xxg,zzg,f0['ζ']['g'],np.arange(0,1.2,.2),linewidths=0.5,colors='k',)\n",
    "# ax.contour(xxg,zzg,f0['z']['g'],np.arange(0,np.pi,.2),linewidths=0.5,colors='k')\n",
    "ax.contour(xxg,zzg,f0['ξ']['g'],np.arange(0,np.pi,.25),linewidths=0.5,colors='k')\n",
    "ax.fill_between(xg.flatten(),f0['η']['g'][:,0],y2=1,color='w',zorder=2)\n",
    "ax.plot(xg.flatten(),f0['η']['g'][:,0],'k',linewidth=2)\n",
    "plt.colorbar(cplot0)\n",
    "ax.set(xlabel='$x$',ylabel='$z$',title='$\\\\zeta$ in Cartesian coordiantes',aspect=1,ylim=[0,1])\n",
    "# plt.savefig('zeta-cartesian.pdf',bbox_inches='tight')"
   ]
  },
  {
   "cell_type": "code",
   "execution_count": null,
   "metadata": {
    "hidden": true
   },
   "outputs": [],
   "source": [
    "f1['η']['g'] = ηg\n",
    "f1['ξ']['g'] = ξg\n",
    "f1['ζ']['g'] = ζg\n",
    "f1['x']['g'] = xg\n",
    "f1['z1']['g'] = ηg + (2-ηg)*ζg\n",
    "f1['z2']['g'] = ηg*ζg"
   ]
  },
  {
   "cell_type": "code",
   "execution_count": null,
   "metadata": {
    "hidden": true
   },
   "outputs": [],
   "source": [
    "# Plot x and z level sets in (ξ,ζ) coordinates\n",
    "fig, ax = plt.subplots(figsize=(7,3))\n",
    "cplot1 = ax.contourf(ξξg,ζζg,f1['z2']['g'],np.linspace(0,1,6))\n",
    "ax.contour( ξξg,ζζg,f1['z2']['g'],np.linspace(0,1,6),linewidths=0.5,colors='k',)\n",
    "ax.contour( ξξg,ζζg,f1['x']['g'],np.linspace(0,2,9),linewidths=0.5,colors='k')\n",
    "ax.set(xlabel='$\\\\xi$',ylabel='$\\\\zeta$',title='$z$ in remapped $(\\\\xi,\\\\zeta)$ coordinates',aspect=1)\n",
    "plt.colorbar(cplot1)\n",
    "# plt.savefig('z-remapped.pdf',bbox_inches='tight')"
   ]
  },
  {
   "cell_type": "code",
   "execution_count": null,
   "metadata": {
    "hidden": true
   },
   "outputs": [],
   "source": [
    "# Plot x and z level sets in (ξ,ζ) coordinates\n",
    "fig, ax = plt.subplots(figsize=(8,4),constrained_layout=True)\n",
    "cplot1 = ax.contourf(f1['x']['g'],f1['z1']['g'],f1['ζ']['g'],np.linspace(0,1,6),cmap='viridis_r',vmin=0,vmax=1)\n",
    "cplot2 = ax.contourf(f1['x']['g'],f1['z2']['g'],f1['ζ']['g'],np.linspace(0,1,6),cmap='magma',vmin=-.2,vmax=1)\n",
    "ax.contour(f1['x']['g'],f1['z1']['g'],f1['ξ']['g'],np.linspace(0,4,17),linewidths=0.5,colors='k',)\n",
    "ax.contour(f1['x']['g'],f1['z2']['g'],f1['ξ']['g'],np.linspace(0,4,17),linewidths=0.5,colors='k',)\n",
    "ax.contour(f1['x']['g'],f1['z1']['g'],f1['ζ']['g'],np.linspace(0,1,6),linewidths=0.5,colors='k',)\n",
    "ax.contour(f1['x']['g'],f1['z2']['g'],f1['ζ']['g'],np.linspace(0,1,6),linewidths=0.5,colors='k',)\n",
    "ax.plot(ξg,ηg,'k')\n",
    "for spine in ax.spines: ax.spines[spine].set_visible(False)\n",
    "ax.set_xlabel('$x$',fontsize=16)\n",
    "ax.set_ylabel('$z$',fontsize=16)\n",
    "ax.set_title('$\\\\zeta^-$ and $\\\\zeta^+$ in Cartesian coordinates',fontsize=16)\n",
    "ax.set(aspect=1,xticks=np.linspace(0,4,16,endpoint=False),yticks=np.linspace(0,2,9))\n",
    "cbax1 = fig.add_axes([0.91, 0.54, 0.03, .385]) \n",
    "cbax2 = fig.add_axes([0.91, 0.125, 0.03, .385]) \n",
    "cbar1 = fig.colorbar(cplot1,cax=cbax1,shrink=.5,panchor=(0,.75))\n",
    "cbar2 = fig.colorbar(cplot2,cax=cbax2,shrink=.5,anchor=(0,.25))\n",
    "cbar1.ax.set_ylabel('$\\\\zeta^-$',rotation=0,fontsize=15,labelpad=20)\n",
    "cbar2.ax.set_ylabel('$\\\\zeta^+$',rotation=0,fontsize=15,labelpad=20)\n",
    "cbar1.outline.set_visible(False)\n",
    "cbar2.outline.set_visible(False)\n",
    "plt.savefig('zeta-cartesian-both.pdf',bbox_inches='tight')"
   ]
  },
  {
   "cell_type": "markdown",
   "metadata": {
    "heading_collapsed": true
   },
   "source": [
    "## Basis vectors"
   ]
  },
  {
   "cell_type": "markdown",
   "metadata": {
    "hidden": true
   },
   "source": [
    "### Physical space"
   ]
  },
  {
   "cell_type": "code",
   "execution_count": null,
   "metadata": {
    "hidden": true
   },
   "outputs": [],
   "source": [
    "G0 = np.zeros([n,n,2,2])\n",
    "H0 = np.zeros([n,n,2,2])\n",
    "I0 = np.zeros([n,n,2,2])\n",
    "J0 = np.zeros([n,n,2,2])\n",
    "K0 = np.zeros([n,n,2,2])\n",
    "\n",
    "I0[...,0,0] = I0[...,1,1] = 1\n",
    "\n",
    "J0[...,0,0] = 1\n",
    "J0[...,0,1] = (f0['ζ']*d(f0['η'],'x')).evaluate()['g']\n",
    "J0[...,1,0] = 0\n",
    "J0[...,1,1] = f0['η']['g']\n",
    "\n",
    "K0[...,0,0] = 1\n",
    "K0[...,0,1] = 0\n",
    "K0[...,1,0] = (- f0['ζ']*d(f0['η'],'x')/f0['η']).evaluate()['g']\n",
    "K0[...,1,1] = 1/f0['η']['g']\n",
    "\n",
    "G0[...,0,0] = (1 + f0['ζ']**2 * d(f0['η'],'x')**2).evaluate()['g']\n",
    "G0[...,0,1] = (f0['ζ'] * f0['η'] * d(f0['η'],'x')).evaluate()['g']\n",
    "G0[...,1,0] = G0[...,0,1]\n",
    "G0[...,1,1] = f0['η']['g']**2\n",
    "\n",
    "H0[...,0,0] = 1\n",
    "H0[...,0,1] = (-f0['ζ']*d(f0['η'],'x')/f0['η']).evaluate()['g']\n",
    "H0[...,1,0] = H0[...,0,1]\n",
    "H0[...,1,1] = (((f0['ζ']*d(f0['η'],'x'))**2 + 1)/f0['η']**2).evaluate()['g']"
   ]
  },
  {
   "cell_type": "code",
   "execution_count": null,
   "metadata": {
    "hidden": true
   },
   "outputs": [],
   "source": [
    "print(np.allclose(np.einsum('ijkm,ijlm->ijkl',J0,J0),G0))\n",
    "print(np.allclose(np.einsum('ijkm,ijlm->ijkl',K0,K0),H0))\n",
    "print(np.allclose(np.einsum('ijkm,ijlm->ijkl',J0,K0),I0))\n",
    "print(np.allclose(np.einsum('ijkm,ijlm->ijkl',G0,H0),I0))"
   ]
  },
  {
   "cell_type": "markdown",
   "metadata": {
    "heading_collapsed": true
   },
   "source": [
    "## Remapped space"
   ]
  },
  {
   "cell_type": "code",
   "execution_count": null,
   "metadata": {
    "hidden": true
   },
   "outputs": [],
   "source": [
    "G1 = np.zeros([n,n,2,2])\n",
    "H1 = np.zeros([n,n,2,2])\n",
    "I1 = np.zeros([n,n,2,2])\n",
    "J1 = np.zeros([n,n,2,2])\n",
    "K1 = np.zeros([n,n,2,2])\n",
    "\n",
    "J1[...,0,0] = 1\n",
    "J1[...,0,1] = (f1['ζ']*d(f1['η'],'ξ')).evaluate()['g']\n",
    "J1[...,1,0] = 0\n",
    "J1[...,1,1] = f1['η']['g']\n",
    "\n",
    "K1[...,0,0] = 1\n",
    "K1[...,0,1] = 0\n",
    "K1[...,1,0] = (- f1['ζ']*d(f1['η'],'ξ')/f1['η']).evaluate()['g']\n",
    "K1[...,1,1] = 1/f1['η']['g']\n",
    "\n",
    "G1[...,0,0] = (1 + f1['ζ']**2 * d(f1['η'],'ξ')**2).evaluate()['g']\n",
    "G1[...,0,1] = (f1['ζ'] * f1['η'] * d(f1['η'],'ξ')).evaluate()['g']\n",
    "G1[...,1,0] = G1[...,0,1]\n",
    "G1[...,1,1] = f1['η']['g']**2\n",
    "\n",
    "H1[...,0,0] = 1\n",
    "H1[...,0,1] = (-f1['ζ']*d(f1['η'],'ξ')/f1['η']).evaluate()['g']\n",
    "H1[...,1,0] = H1[...,0,1]\n",
    "H1[...,1,1] = (((f1['ζ']*d(f1['η'],'ξ'))**2 + 1)/f1['η']**2).evaluate()['g']"
   ]
  },
  {
   "cell_type": "markdown",
   "metadata": {
    "heading_collapsed": true
   },
   "source": [
    "## Plotting vectors"
   ]
  },
  {
   "cell_type": "code",
   "execution_count": null,
   "metadata": {
    "hidden": true
   },
   "outputs": [],
   "source": [
    "vectors = {}\n",
    "vectors['exxx'] = I0[...,0,:]\n",
    "vectors['ezxx'] = I0[...,1,:]\n",
    "vectors['eξxξ'] = np.einsum('i,lmij->lmj',np.array([1,0]),J1)\n",
    "vectors['eζxξ'] = np.einsum('i,lmij->lmj',np.array([0,1]),J1)\n",
    "vectors['ωξxξ'] = np.einsum('i,lmij->lmj',np.array([1,0]),K1)\n",
    "vectors['ωζxξ'] = np.einsum('i,lmij->lmj',np.array([0,1]),K1)\n",
    "vectors['exξx'] = np.einsum('i,lmji->lmj',np.array([1,0]),K0)\n",
    "vectors['ezξx'] = np.einsum('i,lmji->lmj',np.array([0,1]),K0)\n",
    "vectors['eξξξ'] = I0[...,0,:]\n",
    "vectors['eζξξ'] = I0[...,1,:]\n",
    "vectors['ωξξξ'] = np.einsum('i,lmji->lmj',np.array([1,0]),H1)\n",
    "vectors['ωζξξ'] = np.einsum('i,lmji->lmj',np.array([0,1]),H1)\n",
    "\n",
    "fig, ax = plt.subplots(6,2,figsize=(12,18),sharex=True,sharey=True)\n",
    "fig.subplots_adjust(hspace=0.05, wspace=0.03)\n",
    "nx,nz = 4,6\n",
    "\n",
    "for j, vecname in enumerate(['ex','ez']):\n",
    "    ax[j,0].quiver(f0['x']['g'][::nx,::nz], f0['z']['g'][::nx,::nz], vectors[vecname+'xx'][::nx,::nz,0], vectors[vecname+'xx'][::nx,::nz,1],\n",
    "               pivot='mid',linewidths=.5)\n",
    "    ax[j,0].contourf(f0['x']['g'],f0['z']['g'],f0['z']['g'],f0['z']['g'][0,::nz],zorder=-1)\n",
    "    ax[j,0].fill_between(xg.flatten(),f0['η']['g'][:,0],y2=1.05,color='w',zorder=2)\n",
    "\n",
    "    ax[j,1].quiver(f1['ξ']['g'][::nx,::nz], f0['ζ']['g'][::nx,::nz], vectors[vecname+'ξx'][::nx,::nz,0], vectors[vecname+'ξx'][::nx,::nz,1],\n",
    "              pivot='mid',linewidths=.5)\n",
    "    ax[j,1].contourf(f1['ξ']['g'],f1['ζ']['g'],f1['z']['g'],f1['ζ']['g'][0,::nz],zorder=-1)\n",
    "\n",
    "for j, vecname in enumerate(['eξ','eζ','ωξ','ωζ']):\n",
    "    ax[j+2,0].contourf(xxg,zzg,f0['ζ']['g'],f1['ζ']['g'][0,::nz],zorder=-1)\n",
    "    ax[j+2,0].quiver(f1['x']['g'][::nx,::nz], f1['z']['g'][::nx,::nz], vectors[vecname+'xξ'][::nx,::nz,0], vectors[vecname+'xξ'][::nx,::nz,1],\n",
    "              pivot='mid',linewidths=.5)\n",
    "\n",
    "    ax[j+2,1].contourf(ξξg,ζζg,f1['ζ']['g'],f1['ζ']['g'][0,::nz],zorder=-1)\n",
    "    ax[j+2,1].quiver(f1['ξ']['g'][::nx,::nz], f1['ζ']['g'][::nx,::nz], vectors[vecname+'ξξ'][::nx,::nz,0], vectors[vecname+'ξξ'][::nx,::nz,1],\n",
    "              pivot='mid',linewidths=.5)    \n",
    "for axij in ax.flatten(): \n",
    "    axij.set(ylim=[0,.99],yticks=[],xticks=[])\n",
    "    for n in axij.spines: axij.spines[n].set_visible(False)\n",
    "\n",
    "for j,vecname in enumerate(['$\\\\widehat{{e}}_x$','$\\\\widehat{{e}}_z$',\n",
    "                            '$e_ξ$','$e_ζ$','$ω^ξ$','$ω^ζ$']):\n",
    "    ax[j,0].set_ylabel(vecname, rotation=0, fontsize=20, labelpad=20)\n",
    "\n",
    "ax[0,0].set_title('Cartesian space $(x,z)$',fontsize=18)\n",
    "ax[0,1].set_title('Remapped space $(ξ,ζ)$',fontsize=18)\n",
    "plt.savefig('basis-vectors.pdf',bbox_inches='tight')"
   ]
  },
  {
   "cell_type": "markdown",
   "metadata": {
    "hidden": true
   },
   "source": [
    "### Plotting vector field"
   ]
  },
  {
   "cell_type": "code",
   "execution_count": null,
   "metadata": {
    "hidden": true
   },
   "outputs": [],
   "source": [
    "n = 64\n",
    "Uxzξζ = np.zeros([n,n,2])\n",
    "Uxzξζ[...,0] = np.cos(np.pi*f1['x']['g'])\n",
    "Uxzξζ[...,1] = (f1['z']*(1-f1['z'])).evaluate()['g']\n",
    "\n",
    "Uxzxz = np.zeros([n,n,2])\n",
    "Uxzxz[...,0] = np.cos(np.pi*f0['x']['g'])\n",
    "Uxzxz[...,1] = (f0['z']*(1-f0['z'])).evaluate()['g']"
   ]
  },
  {
   "cell_type": "code",
   "execution_count": null,
   "metadata": {
    "hidden": true
   },
   "outputs": [],
   "source": [
    "Uξζξζ = np.einsum('lmj,lmij->lmi',Uxzξζ,K1)\n",
    "Uξζxz = np.einsum('lmj,lmij->lmi',Uxzxz,K0)"
   ]
  },
  {
   "cell_type": "code",
   "execution_count": null,
   "metadata": {
    "hidden": true
   },
   "outputs": [],
   "source": [
    "# Plot vector field 4 different ways\n",
    "\n",
    "# Cartesian space at Cartesian points\n",
    "\n",
    "nx,nz = 5,4\n",
    "\n",
    "fig,ax = plt.subplots(2,2,figsize=(16,8))\n",
    "\n",
    "ax[0,0].quiver(f0['x']['g'][::nx,::nz], f0['z']['g'][::nx,::nz], Uxzxz[::nx,::nz,0], Uxzxz[::nx,::nz,1],\n",
    "          pivot='mid',linewidths=.5)\n",
    "ax[0,0].contourf(xxg,zzg,f0['z']['g'],f0['z']['g'][0,::nz],zorder=-1)\n",
    "ax[0,0].contour(f0['x']['g'],f0['z']['g'],f0['ζ']['g'],np.arange(0,2,.2),colors='k',linewidths=.5)\n",
    "ax[0,0].plot(xg.flatten(),ηg,'k')\n",
    "ax[0,0].set(xlim=[0,2],ylim=[0,1],aspect=1,xlabel='$x$',ylabel='$z$',\n",
    "       title='Vector field $u$ in $(x,z)$ space at $(x,z)$ points')\n",
    "\n",
    "ax[1,0].quiver(f0['ξ']['g'][::nx,::nz], f0['ζ']['g'][::nx,::nz], Uξζxz[::nx,::nz,0], Uξζxz[::nx,::nz,1],\n",
    "          pivot='mid',linewidths=.5)\n",
    "ax[1,0].contourf(ξξg,ζζg,f1['z']['g'],f0['z']['g'][0,::nz],zorder=-1)\n",
    "ax[1,0].contour(ξξg,ζζg,f1['ζ']['g'],np.arange(0,2,.2),colors='k',linewidths=.5)\n",
    "ax[1,0].set(xlim=[0,2],ylim=[0,1],aspect=1,xlabel='$ξ$',ylabel='$ζ$',\n",
    "       title='Vector field $u$ in $(ξ,ζ)$ space at $(x,z)$ points')\n",
    "\n",
    "ax[0,1].quiver(f1['x']['g'][::nx,::nz], f1['z']['g'][::nx,::nz], Uxzξζ[::nx,::nz,0], Uxzξζ[::nx,::nz,1],\n",
    "          pivot='mid',linewidths=.5)\n",
    "ax[0,1].contourf(xxg,zzg,f0['ζ']['g'],f1['ζ']['g'][0,::nz],zorder=-1)\n",
    "ax[0,1].set(xlim=[0,2],ylim=[0,1],aspect=1,xlabel='$x$',ylabel='$z$',\n",
    "       title='Vector field $u$ in $(x,z)$ space at $(ξ,ζ)$ points')\n",
    "\n",
    "ax[1,1].quiver(f1['ξ']['g'][::nx,::nz], f1['ζ']['g'][::nx,::nz], Uξζξζ[::nx,::nz,0], Uξζξζ[::nx,::nz,1],\n",
    "          pivot='mid',linewidths=.5)\n",
    "ax[1,1].contourf(ξξg,ζζg,f1['ζ']['g'],f1['ζ']['g'][0,::nz],zorder=-1)\n",
    "ax[1,1].set(xlim=[0,2],ylim=[0,1],aspect=1,xlabel='$ξ$',ylabel='$ζ$',\n",
    "       title='Vector field $u$ in $(ξ,ζ)$ space at $(ξ,ζ)$ points')\n",
    "\n",
    "plt.tight_layout()"
   ]
  },
  {
   "cell_type": "markdown",
   "metadata": {
    "hidden": true
   },
   "source": [
    "Summary\n",
    "\n",
    "$$K = \\frac{\\partial \\xi^\\alpha}{\\partial x^i} e_\\alpha \\hat{\\omega}^i = K^\\alpha_i e_\\alpha \\hat{\\omega}^i$$\n",
    "\n",
    "$$J = \\frac{\\partial x^i}{\\partial \\xi^\\alpha} \\omega^\\alpha \\hat{e}_i = J_\\alpha^i \\omega^\\alpha \\hat{e}_i$$\n",
    "\n",
    "$$e_\\alpha = J_\\alpha^i \\hat{e}_i$$\n",
    "$$\\hat{e}_i = K^\\alpha_i e_\\alpha$$\n",
    "$$u^\\alpha = K^\\alpha_i \\hat{u}^i$$\n",
    "$$\\hat{u}^i = J_\\alpha^i u^\\alpha$$\n",
    "\n",
    "Next step is to put in the Chrostoffel symbols and check that they work correctly"
   ]
  },
  {
   "cell_type": "markdown",
   "metadata": {
    "heading_collapsed": true
   },
   "source": [
    "## Differentiating vectors"
   ]
  },
  {
   "cell_type": "markdown",
   "metadata": {
    "hidden": true
   },
   "source": [
    "Hence\n",
    "\\begin{align}\n",
    "\\Gamma^1_{11} &= 0 & \\Gamma^2_{11} &= \\zeta \\frac{\\partial^2_\\xi \\eta}{\\eta}\\\\\n",
    "\\Gamma^1_{12} &= 0 & \\Gamma^2_{12} &= \\frac{\\partial_\\xi \\eta}{\\eta}\\\\\n",
    "\\Gamma^1_{21} &= 0 & \\Gamma^2_{21} &= \\frac{\\partial_\\xi \\eta}{\\eta}\\\\\n",
    "\\Gamma^1_{22} &= 0 & \\Gamma^2_{22} &= 0\n",
    "\\end{align}"
   ]
  },
  {
   "cell_type": "code",
   "execution_count": null,
   "metadata": {
    "hidden": true
   },
   "outputs": [],
   "source": [
    "Γ0 = np.zeros([n,n,2,2,2])\n",
    "Γ0[...,1,0,0] = (f0['ζ']*d(d(f0['η'],'x'),'x')/f0['η']).evaluate()['g']\n",
    "Γ0[...,1,0,1] = (d(f0['η'],'x')/f0['η']).evaluate()['g']\n",
    "Γ0[...,1,1,0] = (d(f0['η'],'x')/f0['η']).evaluate()['g']"
   ]
  },
  {
   "cell_type": "code",
   "execution_count": null,
   "metadata": {
    "hidden": true
   },
   "outputs": [],
   "source": [
    "Γ1 = np.zeros([n,n,2,2,2])\n",
    "Γ1[...,1,0,0] = (f1['ζ']*d(d(f1['η'],'ξ'),'ξ')/f1['η']).evaluate()['g']\n",
    "Γ1[...,1,0,1] = (d(f1['η'],'ξ')/f1['η']).evaluate()['g']\n",
    "Γ1[...,1,1,0] = (d(f1['η'],'ξ')/f1['η']).evaluate()['g']"
   ]
  },
  {
   "cell_type": "markdown",
   "metadata": {
    "hidden": true
   },
   "source": [
    "### Differentiating Cartesian"
   ]
  },
  {
   "cell_type": "code",
   "execution_count": null,
   "metadata": {
    "hidden": true
   },
   "outputs": [],
   "source": [
    "Uxx = np.array([d0.new_field() for i in range(2)])"
   ]
  },
  {
   "cell_type": "code",
   "execution_count": null,
   "metadata": {
    "hidden": true
   },
   "outputs": [],
   "source": [
    "Uxx[0]['g'] = np.cos(np.pi*f0['x']['g'])\n",
    "Uxx[1]['g'] = (f0['z']*(1-f0['z'])).evaluate()['g']"
   ]
  },
  {
   "cell_type": "code",
   "execution_count": null,
   "metadata": {
    "hidden": true
   },
   "outputs": [],
   "source": [
    "dUxxx = np.array([[Uxx[j].differentiate(dim) for i,dim in enumerate('xz')] for j in range(2)])"
   ]
  },
  {
   "cell_type": "code",
   "execution_count": null,
   "metadata": {
    "hidden": true
   },
   "outputs": [],
   "source": [
    "fig,ax = plt.subplots(2,2,figsize=(8,4))\n",
    "ax[0,0].pcolormesh(xxg,zzg,Uxx[0]['g'])\n",
    "ax[0,1].pcolormesh(xxg,zzg,Uxx[1]['g'])\n",
    "\n",
    "ax[0,0].pcolormesh(xxg,zzg,Uxx[0]['g'])\n",
    "ax[0,1].pcolormesh(xxg,zzg,Uxx[1]['g'])\n",
    "ax[1,0].quiver(xxg[::nx,::nz], zzg[::nx,::nz], \n",
    "               dUxxx[0,0]['g'][::nx,::nz], dUxxx[1,0]['g'][::nx,::nz], \n",
    "          pivot='mid',linewidths=.5)\n",
    "\n",
    "ax[1,1].quiver(xxg[::nx,::nz], zzg[::nx,::nz], \n",
    "               dUxxx[0,1]['g'][::nx,::nz], dUxxx[1,1]['g'][::nx,::nz], \n",
    "          pivot='mid',linewidths=.5)\n",
    "for axi in ax.flatten():\n",
    "    axi.set(aspect=1,xlim=[0,2],ylim=[0,1])"
   ]
  },
  {
   "cell_type": "code",
   "execution_count": null,
   "metadata": {
    "hidden": true
   },
   "outputs": [],
   "source": [
    "dUxxx[0,0]['g']*K0[...,]"
   ]
  },
  {
   "cell_type": "code",
   "execution_count": null,
   "metadata": {
    "hidden": true
   },
   "outputs": [],
   "source": [
    "Uξx = np.array([d0.new_field() for i in range(2)])\n",
    "for i in range(2):\n",
    "    Uξx[i]['g'] = sum(Uxx[k]['g']*K0[...,i,k] for k in range(2))"
   ]
  },
  {
   "cell_type": "code",
   "execution_count": null,
   "metadata": {
    "hidden": true
   },
   "outputs": [],
   "source": [
    "dUξξx = np.array([[d0.new_field() for i in range(2)] for j in range(2)])\n",
    "\n",
    "for i in range(2):\n",
    "    for j in range(2):\n",
    "        dUξξx[i,j]['g'] = sum(sum(dUxxx[k][l]['g']*K0[...,i,k] \n",
    "                                  for k in range(2))*K0[...,j,l] \n",
    "                              for l in range(2))"
   ]
  },
  {
   "cell_type": "code",
   "execution_count": null,
   "metadata": {
    "hidden": true
   },
   "outputs": [],
   "source": [
    "for i in range(2):\n",
    "    for j in range(2):\n",
    "        dUξξx[i,j]['g'] = sum(sum(dUxxx[k][l]['g']*K0[...,i,k] \n",
    "                                  for k in range(2))*K0[...,j,l] \n",
    "                              for l in range(2))"
   ]
  },
  {
   "cell_type": "code",
   "execution_count": null,
   "metadata": {
    "hidden": true
   },
   "outputs": [],
   "source": [
    "fig,ax = plt.subplots(2,2,figsize=(8,4))\n",
    "ax[0,0].pcolormesh(f0['ξ']['g'], f0['ζ']['g'],Uξx[0]['g'])\n",
    "ax[0,1].pcolormesh(f0['ξ']['g'], f0['ζ']['g'],Uξx[1]['g'])\n",
    "ax[1,0].quiver(f0['ξ']['g'][::nx,::nz], f0['ζ']['g'][::nx,::nz], \n",
    "               dUξξx[0,0]['g'][::nx,::nz], dUξξx[1,0]['g'][::nx,::nz], \n",
    "          pivot='mid',linewidths=.5)\n",
    "\n",
    "ax[1,1].quiver(f0['ξ']['g'][::nx,::nz], f0['ζ']['g'][::nx,::nz],\n",
    "               dUξξx[0,1]['g'][::nx,::nz], dUξξx[1,1]['g'][::nx,::nz], \n",
    "          pivot='mid',linewidths=.5)\n",
    "for axi in ax.flatten():\n",
    "    axi.set(aspect=1,xlim=[0,2],ylim=[0,1])"
   ]
  },
  {
   "cell_type": "code",
   "execution_count": null,
   "metadata": {
    "hidden": true
   },
   "outputs": [],
   "source": [
    "# plotting a tensor will be annoying. The covariant derivative uses the dual basis on the first index\n",
    "# I guess you just project everything into the normal basis at the end, with the metric\n",
    "Uξx = np.einsum('lmj,lmij->lmi',Uxzxz,K0)\n",
    "dUξxx = \n",
    "dUξξx = np.einsum('mnij,mnki,mnjl->nmkl',dUxzxz,K0)"
   ]
  },
  {
   "cell_type": "code",
   "execution_count": null,
   "metadata": {
    "hidden": true
   },
   "outputs": [],
   "source": [
    "class Tensor():\n",
    "    def __init__(self,domain,rank):\n",
    "        self.domain = domain\n",
    "        self.bases = domain.bases\n",
    "        self.dim = len(self.bases)\n",
    "        self.rank = rank\n",
    "        self.coefficients = np.array(self.build_bases(self.rank,self.dim),dtype=np.object)\n",
    "        self.jacobian = np.array(self.build_bases(2,self.dim),dtype=np.object)\n",
    "\n",
    "    def __getitem__(self,index,space='g'):\n",
    "        return self.coefficients[index][space]\n",
    "\n",
    "    def __setitem__(self,index,values,space='g'):\n",
    "        self.coefficients[index][space] = values\n",
    "    \n",
    "    def build_bases(self,rank,dim):\n",
    "        if rank == 0: return self.domain.new_field(scales=self.domain.dealias)\n",
    "        else: return [self.build_bases(rank-1,dim) for i in range(dim)]\n",
    "        \n"
   ]
  },
  {
   "cell_type": "markdown",
   "metadata": {},
   "source": [
    "# Double diffusive melting"
   ]
  },
  {
   "cell_type": "markdown",
   "metadata": {},
   "source": [
    "## Remapped reference simulation"
   ]
  },
  {
   "cell_type": "markdown",
   "metadata": {
    "heading_collapsed": true
   },
   "source": [
    "### Simulation"
   ]
  },
  {
   "cell_type": "code",
   "execution_count": null,
   "metadata": {
    "hidden": true
   },
   "outputs": [],
   "source": [
    "ν = 1e-1\n",
    "κ = 1e-1\n",
    "γ = 1e-1\n",
    "μ = 1e-1\n",
    "M = .2\n",
    "N = 0\n",
    "L = 1\n",
    "nx = 256\n",
    "nz = 128\n",
    "dt = 1e-3\n",
    "timestepper = 'SBDF2'\n",
    "simname = f'salty-boussinesq-melting-tangent-forced-nosalt'\n",
    "flt.makedir(f'{savedir}/frames/{simname}')\n",
    "tend = 10\n",
    "save_step = .01\n",
    "save_freq = round(save_step/dt)"
   ]
  },
  {
   "cell_type": "code",
   "execution_count": null,
   "metadata": {
    "hidden": true
   },
   "outputs": [],
   "source": [
    "xbasis = de.Fourier('x',nx,interval=(0,4),dealias=3/2)\n",
    "zbasis = de.Chebyshev('z',nz,interval=(0,1),dealias=3/2)\n",
    "domain = de.Domain([xbasis,zbasis],grid_dtype=np.float64)\n",
    "flt.save_domain(f'{savedir}/domain-{simname}.h5',domain)\n",
    "x, z = domain.grids(scales=domain.dealias)\n",
    "xx,zz = x+0*z, 0*x+z\n",
    "dims = range(1,3)"
   ]
  },
  {
   "cell_type": "code",
   "execution_count": null,
   "metadata": {
    "hidden": true
   },
   "outputs": [],
   "source": [
    "problem = de.IVP(domain,variables=['u21','u22','p2','q2','T1','T1_2','T2','T2_2','C2','C2_2','h','ht','E','S'])\n",
    "problem.meta[:]['z']['dirichlet'] = True\n",
    "problem.meta['h','ht']['z']['constant'] = True\n",
    "problem.meta['E','S']['x','z']['constant'] = True\n",
    "problem.parameters['κ'] = κ\n",
    "problem.parameters['ν'] = ν\n",
    "problem.parameters['γ'] = γ\n",
    "problem.parameters['μ'] = μ\n",
    "problem.parameters['M'] = M\n",
    "problem.parameters['N'] = N\n",
    "problem.parameters['π'] = np.pi\n",
    "problem.parameters['L'] = L\n",
    "As = [4]*5\n",
    "for i in range(len(As)): problem.parameters[f'A{i+1}'] = As[i]\n",
    "\n",
    "problem.substitutions['d_1(A)'] = 'dx(A)'\n",
    "problem.substitutions['d_2(A)'] = 'dz(A)'\n",
    "problem.substitutions['T1_1'] = 'd_1(T1)'\n",
    "problem.substitutions['T2_1'] = 'd_1(T2)'\n",
    "problem.substitutions['C2_1'] = 'd_1(C2)'\n",
    "problem.substitutions['hx'] = 'd_1(h)'\n",
    "problem.substitutions['angle'] = 'sqrt(1 + hx**2)'\n",
    "problem.substitutions['omz1'] = 'sqrt(1 + (hx)**2)/(2-h)'\n",
    "problem.substitutions['omz2'] = 'sqrt(1 + (hx)**2)/h'\n",
    "problem.substitutions['curvature'] = 'dx(hx)/angle**3'\n",
    "problem.substitutions['xc'] = 'x'\n",
    "problem.substitutions['zc1'] = 'h + (2-h)*z'\n",
    "problem.substitutions['zc2'] = 'h*z'\n",
    "for l in [1,2]:\n",
    "    problem.substitutions[f'Kdet{l}'] = Kdet[l]\n",
    "    for i in range(3):\n",
    "        for j in range(3):\n",
    "            problem.substitutions[f'J{l}{i}{j}'] = J.get((l,i,j),'0')\n",
    "            problem.substitutions[f'K{l}{i}{j}'] = K.get((l,i,j),'0')\n",
    "            problem.substitutions[f'g{l}{i}{j}'] = g.get((l,i,j),'0')\n",
    "            for k in range(3):\n",
    "                problem.substitutions[f'G{l}{i}_{j}{k}'] = G.get((l,i,j,k),'0')   \n",
    "l = 2\n",
    "for i in dims:\n",
    "    for j in dims:\n",
    "        problem.substitutions[f'cd_{i}_u{l}{j}'] = f'd_{i}(u{l}{j})' + ' + '.join(['']+[f'G{l}{j}_{k}{i}*u{l}{k}' for k in dims if G.get((l,j,k,i),0)])\n",
    "problem.substitutions[f'div{l}'] = f'cd_1_u{l}1 + cd_2_u{l}2'\n",
    "problem.substitutions[f'vorticity{l}'] = f'Kdet{l}*'+'({})'.format(' + '.join([f'{eps[i,j]}*g{l}{i}{k}*cd_{k}_u{l}{j}' for k in dims for j in dims for i in dims if eps.get((i,j),0)]))\n",
    "for j in dims: problem.substitutions[f'curl_vorticity{l}{j}'] = f'(1/Kdet{l})*'+'({})'.format(' + '.join(f'{eps[i,j]}*d_{i}(q{l})' for i in dims if eps.get((i,j),0)))\n",
    "for k in dims: problem.substitutions[f'q{l}_cross_u{l}{k}'] = f'Kdet{l}*q{l}*'+'({})'.format(' + '.join(f'{eps[i,j]}*g{l}{i}{k}*u{l}{j}' for i in dims for j in dims if eps.get((i,j),0)))\n",
    "for j in dims: problem.substitutions[f'grad_p{l}{j}'] = ' + '.join([f'g{l}{i}{j}*d_{i}(p{l})' for i in dims])\n",
    "for j in dims: problem.substitutions[f'f{l}{j}'] = f'(T{l} + N*C{l})*J{l}2{j}'\n",
    "problem.substitutions['d_0(A)'] = '0'\n",
    "for j in dims: problem.substitutions[f'adv_u{l}{j}'] = ' + '.join([f'J{l}0{i}*d_{i}(u{l}{j})' for i in range(3) if J.get((l,0,i),0)] + [f'J{l}0{i}*u{l}{k}*G{l}{j}_{k}{i}' for i in range(3) for k in dims if J.get((l,0,i),0) and G.get((l,j,k,i))])\n",
    "for i in dims: problem.substitutions[f'dτu{l}{i}'] = f'- adv_u{l}{i} + ν*curl_vorticity{l}{i} - grad_p{l}{i} + q{l}_cross_u{l}{i} + f{l}{i}'\n",
    "for i in dims: problem.substitutions[f'dtu{l}{i}'] = f'dτu{l}{i} + adv_u{l}{i}'\n",
    "for l in dims: problem.substitutions[f'lapT{l}'] = '{} - ({})'.format(' + '.join([f'g{l}{i}{j}*d_{i}(T{l}_{j})' for i in dims for j in dims]),' + '.join([f'g{l}{i}{j}*T{l}_{k}*G{l}{k}_{i}{j}' for i in dims for j in dims for k in dims if G.get((l,k,i,j))]))\n",
    "problem.substitutions[f'lapC{l}'] = '{} - ({})'.format(' + '.join([f'g{l}{i}{j}*d_{i}(C{l}_{j})' for i in dims for j in dims]),' + '.join([f'g{l}{i}{j}*C{l}_{k}*G{l}{k}_{i}{j}' for i in dims for j in dims for k in dims if G.get((l,k,i,j))]))\n",
    "problem.substitutions[f'udotT1'] = '0'\n",
    "problem.substitutions[f'udotT2'] = 'u21*T2_1 + u22*T2_2'\n",
    "problem.substitutions[f'udotC2'] = 'u21*C2_1 + u22*C2_2'\n",
    "problem.substitutions['ndotT1'] = 'left(( g121*T1_1 + g122*T1_2)/omz1)'\n",
    "problem.substitutions['ndotT2'] = 'right((g221*T2_1 + g222*T2_2)/omz2)'\n",
    "problem.substitutions['ndotC2'] = 'right((g221*C2_1 + g222*C2_2)/omz2)'\n",
    "for l in dims: problem.substitutions[f'dτT{l}'] = 'κ*({}) - ({}) - ({})'.format(f'lapT{l}',f'udotT{l}',' + '.join([f'J{l}0{i}*T{l}_{i}' for i in dims if J.get((l,0,i))]))\n",
    "problem.substitutions[f'dτC{l}'] = 'μ*({}) - ({}) - ({})'.format(f'lapC{l}',f'udotC{l}',' + '.join([f'J{l}0{i}*C{l}_{i}' for i in dims if J.get((l,0,i))]))\n",
    "                                                     \n",
    "# Cartesian quantities\n",
    "l = 2\n",
    "problem.substitutions[f'ux{l}'] = ' + '.join(f'u{l}{j}*K{l}{j}1' for j in dims if K.get((l,j,1)))\n",
    "problem.substitutions[f'uz{l}'] = ' + '.join(f'u{l}{j}*K{l}{j}2' for j in dims if K.get((l,j,2)))\n",
    "problem.substitutions[f'kenergy{l}'] = f'0.5*(ux{l}**2 + uz{l}**2)'\n",
    "problem.substitutions[f'pr{l}'] = f'p{l} - kenergy{l}'\n",
    "problem.substitutions[f'dxc{l}(A)'] = ' + '.join(f'J{l}1{j}*d_{j}(A)' for j in dims if J.get((l,1,j)))\n",
    "problem.substitutions[f'dzc{l}(A)'] = ' + '.join(f'J{l}2{j}*d_{j}(A)' for j in dims if J.get((l,2,j)))\n",
    "problem.substitutions[f'dtux{l}'] = f'- dxc{l}(p{l}) - ν*dzc{l}(q{l}) + q{l}*uz{l}'\n",
    "problem.substitutions[f'dtuz{l}'] = f'- dzc{l}(p{l}) + ν*dxc{l}(q{l}) - q{l}*ux{l}'\n",
    "# problem.substitutions[f'dtT1'] = f'- dzc{l}(p{l}) + ν*dxc{l}(q{l}) - q{l}*ux{l}'\n",
    "# problem.substitutions[f'dtT2'] = f'- dzc{l}(p{l}) + ν*dxc{l}(q{l}) - q{l}*ux{l}'\n",
    "\n",
    "problem.add_equation(f'       A1*(d_1(u{l}1) + d_2(u{l}2)) = A1*(d_1(u{l}1) + d_2(u{l}2)) - div{l}')\n",
    "problem.add_equation(f'q{l} + A2*(d_2(u{l}1) - d_1(u{l}2)) = A2*(d_2(u{l}1) - d_1(u{l}2)) + vorticity{l}')\n",
    "problem.add_equation(f'dt(u{l}1) + A3*d_1(p{l}) + A4*ν*d_2(q{l})             = A3*d_1(p{l}) + A4*ν*d_2(q{l})             + dτu{l}1')\n",
    "problem.add_equation(f'dt(u{l}2) + A3*d_2(p{l}) - A4*ν*d_1(q{l}) - (T2+N*C2) = A3*d_2(p{l}) - A4*ν*d_1(q{l}) - (T2+N*C2) + dτu{l}2')    \n",
    "problem.add_equation('T1_2 - d_2(T1) = 0')\n",
    "problem.add_equation('T2_2 - d_2(T2) = 0')\n",
    "problem.add_equation('dt(T1) - κ*A5*(d_1(T1_1) + d_2(T1_2)) = - κ*A5*(d_1(T1_1) + d_2(T1_2)) + dτT1')\n",
    "problem.add_equation('dt(T2) - κ*A5*(d_1(T2_1) + d_2(T2_2)) = - κ*A5*(d_1(T2_1) + d_2(T2_2)) + dτT2')\n",
    "problem.add_equation('dt(C2) - μ*A5*(d_1(C2_1) + d_2(C2_2)) = - μ*A5*(d_1(C2_1) + d_2(C2_2)) + dτC2')\n",
    "problem.add_equation('C2_2 - d_2(C2) = 0')\n",
    "problem.add_equation('dt(h) - ht = 0')\n",
    "problem.add_equation('right(T2_2) - left(T1_2) + right(ht)*(L/κ) = right(T2_2) - left(T1_2) + right(ht)*(L/κ) - (ndotT2 - ndotT1 + right(ht/angle)*(L/κ))')\n",
    "problem.add_equation('E = integ(Kdet1*T1 + Kdet2*(T2+1))')\n",
    "problem.add_equation('S = integ(Kdet2*C2)')\n",
    "\n",
    "# problem.add_bc(\"right(T1) = -1\")\n",
    "problem.add_bc(\"right(T1_2) = 0\")\n",
    "problem.add_bc('right(u21) = 0')\n",
    "problem.add_bc('right(u22) = 0',condition='nx != 0')\n",
    "problem.add_bc(\"right(T2 + M*C2 + γ*dx(hx)) = γ*(dx(hx) - curvature)\") # Gibbs Thomson condition\n",
    "problem.add_bc(\"right(T2) - left(T1) = 0\")\n",
    "# problem.add_bc(\"right(C2_2) = - right((g221*C2_1 + (ht/h)*C2/μ)/g222)\")\n",
    "# problem.add_bc(\"right(C2_2 + C2_1 + ht) = right(C2_2 + C2_1 + ht) - right(g222*C2_2 + g221*C2_1 + (ht/h)*C2/μ)\")\n",
    "problem.add_bc('right(C2) = 0')\n",
    "problem.add_bc('left(p2) = 0',condition='nx == 0')\n",
    "problem.add_bc('left(u21) = 0')\n",
    "problem.add_bc('left(u22) = 0')\n",
    "# problem.add_bc(\"left(T2) = 1\")\n",
    "problem.add_bc(\"left(T2_2) = 0\")\n",
    "problem.add_bc(\"left(C2_2) = 0\")"
   ]
  },
  {
   "cell_type": "code",
   "execution_count": null,
   "metadata": {
    "hidden": true
   },
   "outputs": [],
   "source": [
    "solver = problem.build_solver(eval(f'de.timesteppers.{timestepper}'))\n",
    "\n",
    "solver.stop_sim_time = tend\n",
    "\n",
    "u21,u22,p2,q2,T1,T1_2,T2,T2_2,C2,C2_2,h,ht,E,S = [solver.state[fname] for fname in problem.variables]\n",
    "for field in u21,u22,p2,q2,T1,T1_2,T2,T2_2,C2,C2_2,h,ht,E,S:\n",
    "    field.set_scales(domain.dealias)\n",
    "\n",
    "h['g'] = 1\n",
    "xc = x + 0*z\n",
    "zc1 = h['g'] + (2-h['g'])*z\n",
    "zc2 = h['g']*z\n",
    "T1['g'] = 1-zc1\n",
    "T2['g'] = 1-zc2 + np.exp(-((xc-2)**2+(zc2-.5)**2)*5**2)#1-z\n",
    "T1.differentiate('z',out=T1_2)\n",
    "T2.differentiate('z',out=T2_2)\n",
    "C2['g'] = 0#.05 + (1-.05)*.5*(1-np.tanh(10*(zc2-.5)))\n",
    "E['g'] = (h*(T2+1) + (2-h)*T1).evaluate().integrate()['g']\n",
    "S['g'] = (h*C2).evaluate().integrate()['g']\n",
    "\n",
    "# v['g'] = (angle*(ndotT1-ndotT2))['g']"
   ]
  },
  {
   "cell_type": "code",
   "execution_count": null,
   "metadata": {
    "hidden": true
   },
   "outputs": [],
   "source": [
    "analysis = solver.evaluator.add_file_handler(f'{savedir}/analysis-{simname}',iter=save_freq, max_writes=100,mode='overwrite')\n",
    "for task in problem.variables + ['zc1','zc2']: analysis.add_task(task)\n",
    "interface = solver.evaluator.add_file_handler(f'{savedir}/interface-{simname}',iter=int(round(.01/dt)), max_writes=2001,mode='overwrite')\n",
    "for task in ['h','ht','E','S']: interface.add_task(task)\n",
    "# for l in '2':\n",
    "#     for name in ['div','vorticity','zc','ux','uz','pr','kenergy','dtux','dtuz']:\n",
    "#         analysis.add_task(name+l)\n",
    "#     for i in dims:\n",
    "#         for task in [f'adv_u{l}{i}',f'curl_vorticity{l}{i}',f'grad_p{l}{i}',f'q{l}_cross_u{l}{i}',f'f{l}{i}']:\n",
    "#             analysis.add_task(task)        "
   ]
  },
  {
   "cell_type": "code",
   "execution_count": null,
   "metadata": {
    "hidden": true
   },
   "outputs": [],
   "source": [
    "start_time = time.time()\n",
    "while solver.ok:\n",
    "    if solver.iteration % 10 == 0: \n",
    "        print('{} time {:.1f} E {} S {:}'.format(solver.iteration, (start_time-time.time())/60,E['g'][0,0], S['g'][0,0]))\n",
    "        if np.any(np.isnan(T2['g'])): \n",
    "            print('Broken')\n",
    "            break\n",
    "    solver.step(dt)\n",
    "solver.step(dt)"
   ]
  },
  {
   "cell_type": "code",
   "execution_count": null,
   "metadata": {
    "hidden": true
   },
   "outputs": [],
   "source": [
    "zc1, zc2 = h['g'] + (2-h['g'])*zz, h['g']*zz\n",
    "\n",
    "fig, ax = plt.subplots(6,figsize=(8,16))\n",
    "cplots = {}\n",
    "cplots[0] = ax[0].pcolormesh(xc,zc1,T1['g'],cmap='RdBu_r',vmin=-1,vmax=1)\n",
    "cplots[0] = ax[0].pcolormesh(xc,zc2,T2['g'],cmap='RdBu_r',vmin=-1,vmax=1)\n",
    "# ax[0].plot(x,hs[it,:,0],'k')\n",
    "cplots[1] = ax[1].pcolormesh(xc,zc2,C2['g'],cmap='Purples',vmin=0,vmax=1)\n",
    "cplots[2] = ax[2].pcolormesh(xc,zc2,u21['g'],cmap='RdBu_r')\n",
    "cplots[3] = ax[3].pcolormesh(xc,zc2,u22['g'],cmap='RdBu_r')\n",
    "cplots[4] = ax[4].pcolormesh(xc,zc2,p2['g'],cmap='viridis')\n",
    "cplots[5] = ax[5].pcolormesh(xc,zc2,q2['g'],cmap='PuOr_r')\n",
    "for i, axi in enumerate(ax):\n",
    "    axi.set(ylim=[0,2])\n",
    "    plt.colorbar(cplots[i],ax=axi)"
   ]
  },
  {
   "cell_type": "markdown",
   "metadata": {
    "heading_collapsed": true
   },
   "source": [
    "### Plotting"
   ]
  },
  {
   "cell_type": "code",
   "execution_count": null,
   "metadata": {
    "hidden": true
   },
   "outputs": [],
   "source": [
    "simname = 'salty-boussinesq-melting-tangent-forced-nosalt-2e-4'\n",
    "\n",
    "post.merge_analysis(f'{savedir}/analysis-{simname}')\n",
    "post.merge_analysis(f'{savedir}/interface-{simname}')\n",
    "files = sorted(glob.glob(f'{savedir}/analysis-{simname}/*.h5'))\n",
    "interface_files = sorted(glob.glob(f'{savedir}/analysis-{simname}/*.h5'))\n",
    "\n",
    "plot_dir = f'{savedir}/frames/{simname}'\n",
    "flt.makedir(plot_dir)"
   ]
  },
  {
   "cell_type": "code",
   "execution_count": null,
   "metadata": {
    "hidden": true
   },
   "outputs": [],
   "source": [
    "for file in files:\n",
    "    ts,its,x,z = flt.load_data(file,'sim_time','iteration','x/1.0','z/1.0',group='scales')\n",
    "    xx,zz = np.meshgrid(x,z,indexing='ij')\n",
    "    xc = xx\n",
    "    hs,C2s,T1s,T2s,u1s,u2s,ps,qs,Es,Ss = flt.load_data(file,'h','C2','T1','T2','u21','u22','p2','q2','E','S',group='tasks')\n",
    "    zc1,zc2 = hs + (2-hs)*zz, hs*zz    \n",
    "    for it, t in enumerate(ts):\n",
    "        if it % 1 == 0: \n",
    "            fig, ax = plt.subplots(6,figsize=(8,16))\n",
    "            cplots = {}\n",
    "            cplots[0] = ax[0].pcolormesh(xc,zc1[it],T1s[it],cmap='RdBu_r',vmin=-1,vmax=1)\n",
    "            cplots[0] = ax[0].pcolormesh(xc,zc2[it],T2s[it],cmap='RdBu_r',vmin=-1,vmax=1)\n",
    "            ax[0].plot(x,hs[it,:,0],'k')\n",
    "            cplots[1] = ax[1].pcolormesh(xc,zc2[it],C2s[it],cmap='Purples',vmin=0,vmax=1)\n",
    "            cplots[2] = ax[2].pcolormesh(xc,zc2[it],u1s[it],cmap='RdBu_r')\n",
    "            cplots[3] = ax[3].pcolormesh(xc,zc2[it],u2s[it],cmap='RdBu_r')\n",
    "            cplots[4] = ax[4].pcolormesh(xc,zc2[it],ps[it],cmap='viridis')\n",
    "            cplots[5] = ax[5].pcolormesh(xc,zc2[it],qs[it],cmap='PuOr_r')\n",
    "            for i, axi in enumerate(ax):\n",
    "                axi.set(ylim=[0,2])\n",
    "                plt.colorbar(cplots[i],ax=axi)\n",
    "            plt.savefig(f'{plot_dir}/{simname}-{its[it]:0>6d}.png',dpi=200,bbox_inches='tight')\n",
    "            plt.close('all')\n",
    "            print(it)"
   ]
  },
  {
   "cell_type": "code",
   "execution_count": null,
   "metadata": {
    "hidden": true
   },
   "outputs": [],
   "source": [
    "Es,Ss, = flt.load_data(files[1],'E','S',group='tasks')"
   ]
  },
  {
   "cell_type": "markdown",
   "metadata": {
    "heading_collapsed": true
   },
   "source": [
    "## Phase field Cartesian"
   ]
  },
  {
   "cell_type": "markdown",
   "metadata": {
    "heading_collapsed": true,
    "hidden": true
   },
   "source": [
    "### Simulation"
   ]
  },
  {
   "cell_type": "code",
   "execution_count": null,
   "metadata": {
    "hidden": true
   },
   "outputs": [],
   "source": [
    "ν = 1e-3\n",
    "κ = 1e-3\n",
    "γ = 1e-2\n",
    "μ = 1e-3\n",
    "M = .2\n",
    "N = -1\n",
    "L = 1\n",
    "β = 4/2.6482282\n",
    "ϵ = 10**(-2.5)\n",
    "η = (β*ϵ)**2/ν\n",
    "α = (5/6)*(L/κ)*ϵ"
   ]
  },
  {
   "cell_type": "code",
   "execution_count": null,
   "metadata": {
    "hidden": true
   },
   "outputs": [],
   "source": [
    "nx = 128\n",
    "nz = 256\n",
    "\n",
    "dt = 1e-3\n",
    "timestepper = 'SBDF2'\n",
    "simname = f'salty-boussinesq-melting-vpf-cartesian-{timestepper}-test'\n",
    "# flt.makedir(f'frames/{simname}')\n",
    "tend = 5\n",
    "save_step = .1\n",
    "save_freq = round(save_step/dt)\n",
    "xbasis = de.Fourier('x',nx,interval=(0,4),dealias=3/2)\n",
    "zb0 = de.Chebyshev('z0',nz,interval=(0,1),dealias=3/2)\n",
    "zb1 = de.Chebyshev('z1',nz,interval=(1,2),dealias=3/2)\n",
    "zbasis = de.Compound('z',[zb0,zb1])\n",
    "domain = de.Domain([xbasis,zbasis],grid_dtype=np.float64)\n",
    "x, z = domain.grids(scales=domain.dealias)\n",
    "xx,zz = x+0*z, 0*x+z\n",
    "flt.save_domain(f'{savedir}/domain-{simname}.h5',domain)"
   ]
  },
  {
   "cell_type": "code",
   "execution_count": null,
   "metadata": {
    "hidden": true
   },
   "outputs": [],
   "source": [
    "problem = de.IVP(domain,variables=['ux','uz','p','q','T','Tz','C','Cz','f','fz','E','S'])\n",
    "problem.meta[:]['z']['dirichlet'] = True\n",
    "problem.meta['E'][:]['constant'] = True\n",
    "\n",
    "problem.parameters['δ'] = 1e-3\n",
    "problem.parameters['ν'] = ν\n",
    "problem.parameters['κ'] = κ\n",
    "problem.parameters['γ'] = γ\n",
    "problem.parameters['μ'] = μ\n",
    "problem.parameters['M'] = M\n",
    "problem.parameters['N'] = N\n",
    "problem.parameters['ε'] = ϵ\n",
    "problem.parameters['L'] = L\n",
    "problem.parameters['η'] = η#ν/(β*ϵ)**2\n",
    "problem.parameters['α'] = α#(5/6)*(L/κ)*ϵ\n",
    "\n",
    "problem.substitutions['div'] = 'dx(ux) + dz(uz)'\n",
    "problem.substitutions['vorticity'] = 'dx(uz) - dz(ux)'\n",
    "problem.substitutions['energy'] = '0.5*(ux*ux+uz*uz)'\n",
    "problem.substitutions['pr'] = 'p - energy'\n",
    "problem.substitutions['dtux'] = '- dx(p) - ν*dz(q) + q*uz - ((1-f)/η)*ux'\n",
    "problem.substitutions['dtuz'] = '- dz(p) + ν*dx(q) - q*ux - ((1-f)/η)*uz + (T+N*C)'\n",
    "problem.substitutions['dtf'] = '(1/α)*(γ*(dx(dx(f)) + dz(fz)) - ε**(-2)*f*(1-f)*(γ*(1-2*f) + ε*(T+M*C)))'\n",
    "\n",
    "problem.add_equation('    dx(ux) + dz(uz) = 0')\n",
    "problem.add_equation('q - dx(uz) + dz(ux) = 0')\n",
    "problem.add_equation('dt(ux) + dx(p) + ν*dz(q) =  q*uz - (f/η)*ux')\n",
    "problem.add_equation('dt(uz) + dz(p) - ν*dx(q) = -q*ux - (f/η)*uz + (T + N*C)')\n",
    "problem.add_equation('Tz - dz(T) = 0')\n",
    "problem.add_equation('Cz - dz(C) = 0')\n",
    "problem.add_equation('fz - dz(f) = 0')\n",
    "problem.add_equation('  dt(T) - κ*(dx(dx(T)) + dz(Tz)) - L*dt(f) = - (ux*dx(T) + uz*Tz)')\n",
    "problem.add_equation('  dt(C) - μ*(dx(dx(C)) + dz(Cz))           = - (ux*dx(C) + uz*Cz) + (dtf*C - μ*(dx(f)*dx(C) + fz*Cz))/(1-f+δ)')\n",
    "problem.add_equation('α*dt(f) - γ*(dx(dx(f)) + dz(fz)) = -ε**(-2)*f*(1-f)*(γ*(1-2*f) + ε*(T+M*C))')\n",
    "problem.add_equation('E = integ(T + L*(1-f))')\n",
    "problem.add_equation('S = integ((1-f)*C)')\n",
    "\n",
    "problem.add_bc('right(ux) = 0')\n",
    "problem.add_bc('right(uz) = 0',condition='nx != 0')\n",
    "problem.add_bc('left(p) = 0',condition='nx == 0')\n",
    "problem.add_bc('left(ux) = 0')\n",
    "problem.add_bc('left(uz) = 0')\n",
    "# problem.add_bc('right(T) = -1')\n",
    "problem.add_bc('right(Tz) = 0')\n",
    "problem.add_bc('right(Cz) = 0')\n",
    "problem.add_bc('right(fz) = 0')\n",
    "# problem.add_bc('left(T) = 1')\n",
    "problem.add_bc('left(Tz) = 0')\n",
    "problem.add_bc('left(Cz) = 0')\n",
    "problem.add_bc('left(fz) = 0')"
   ]
  },
  {
   "cell_type": "code",
   "execution_count": null,
   "metadata": {
    "hidden": true
   },
   "outputs": [],
   "source": [
    "solver = problem.build_solver(de.timesteppers.SBDF2)"
   ]
  },
  {
   "cell_type": "code",
   "execution_count": null,
   "metadata": {
    "hidden": true
   },
   "outputs": [],
   "source": [
    "ux,uz,p,q,T,Tz,C,Cz,f,fz,E,S = [solver.state[fname] for fname in problem.variables]\n",
    "for field in [ux,uz,p,q,T,Tz,C,Cz,f,fz,E,S]: field.set_scales(domain.dealias)\n",
    "T['g'] = 1-z\n",
    "T['g'] += np.exp(-((x-2)**2+(z-.5)**2)*5**2)\n",
    "C['g'] = .05 + (1-.05)*.5*(1-np.tanh(10*(z-.5)))\n",
    "f['g'] = 0.5*(1+np.tanh((z-1)/(2*ϵ)))\n",
    "T.differentiate('z',out=Tz)\n",
    "f.differentiate('z',out=fz)"
   ]
  },
  {
   "cell_type": "code",
   "execution_count": null,
   "metadata": {
    "hidden": true
   },
   "outputs": [],
   "source": [
    "solver.stop_sim_time = tend\n",
    "\n",
    "analysis = solver.evaluator.add_file_handler(f'{savedir}/analysis-{simname}', iter=save_freq, max_writes=101,mode='overwrite')\n",
    "for task in problem.variables+['pr']: analysis.add_task(task)"
   ]
  },
  {
   "cell_type": "code",
   "execution_count": null,
   "metadata": {
    "hidden": true
   },
   "outputs": [],
   "source": [
    "xc, zc = xx, zz\n",
    "fig, ax = plt.subplots(7,2,figsize=(16,16))\n",
    "cplots = {}\n",
    "for i, field in enumerate([T,C,ux,uz,p,q,f]):\n",
    "    cplots[i] = ax[i,0].pcolormesh(xc,zc,field['g'],cmap='RdBu_r')\n",
    "    ax[i,1].pcolormesh(np.log10(np.abs(field['c'].T+1e-16)),vmin=-16,vmax=0)\n",
    "for i, axi in enumerate(ax[:,0]):\n",
    "    axi.set(ylim=[0,2])\n",
    "    plt.colorbar(cplots[i],ax=axi)\n",
    "# plt.savefig(f'{plot_dir}/{simname}-{its[it]:0>6d}.png',dpi=200,bbox_inches='tight')"
   ]
  },
  {
   "cell_type": "code",
   "execution_count": null,
   "metadata": {
    "hidden": true
   },
   "outputs": [],
   "source": [
    "while solver.ok:\n",
    "    if solver.iteration % 100 == 0: \n",
    "        print(solver.iteration)\n",
    "        if np.any(np.isnan(ux['g'])): \n",
    "            print('Broken')\n",
    "            break\n",
    "    solver.step(dt)\n",
    "solver.step(dt)"
   ]
  },
  {
   "cell_type": "code",
   "execution_count": null,
   "metadata": {
    "hidden": true
   },
   "outputs": [],
   "source": []
  },
  {
   "cell_type": "markdown",
   "metadata": {
    "heading_collapsed": true,
    "hidden": true
   },
   "source": [
    "### Plotting"
   ]
  },
  {
   "cell_type": "code",
   "execution_count": null,
   "metadata": {
    "hidden": true
   },
   "outputs": [],
   "source": [
    "simname = 'salty-boussinesq-melting-vpf-cartesian-SBDF2-test'\n",
    "refname = 'salty-boussinesq-melting-tangent-SBDF2-test'\n",
    "post.merge_analysis(f'{savedir}/analysis-{simname}')\n",
    "post.merge_analysis(f'{savedir}/interface-{simname}')\n",
    "files = sorted(glob.glob(f'{savedir}/analysis-{simname}/*.h5'))\n",
    "interface_files = sorted(glob.glob(f'{savedir}/analysis-{refname}/*.h5'))\n",
    "\n",
    "plot_dir = f'{savedir}/frames/{simname}'\n",
    "flt.makedir(plot_dir)"
   ]
  },
  {
   "cell_type": "code",
   "execution_count": null,
   "metadata": {
    "hidden": true
   },
   "outputs": [],
   "source": [
    "Es, Ss = flt.load_data(files[0],'E','S',group='tasks')"
   ]
  },
  {
   "cell_type": "code",
   "execution_count": null,
   "metadata": {
    "hidden": true
   },
   "outputs": [],
   "source": [
    "plt.plot(Es[1:])"
   ]
  },
  {
   "cell_type": "code",
   "execution_count": null,
   "metadata": {
    "hidden": true
   },
   "outputs": [],
   "source": [
    "plt.plot(Ss[1:,0,0])"
   ]
  },
  {
   "cell_type": "code",
   "execution_count": null,
   "metadata": {
    "hidden": true
   },
   "outputs": [],
   "source": [
    "for file in files:\n",
    "    ts,its,x,z = flt.load_data(file,'sim_time','iteration','x/1.0','z/1.0',group='scales')\n",
    "    xc,zc = np.meshgrid(x,z,indexing='ij')\n",
    "    Cs,Ts,fs,uxs,uzs,ps,qs,Es,Ss = flt.load_data(file,'C','T','f','ux','uz','p','q','E','S',group='tasks')\n",
    "    for it, t in enumerate(ts):\n",
    "        fig, ax = plt.subplots(7,figsize=(8,16))\n",
    "        cplots = {}\n",
    "        cplots[0] = ax[0].pcolormesh(xc,zc,Ts[it],cmap='RdBu_r',vmin=-1,vmax=1)\n",
    "#         ax[0].plot(x,hs[it,:,0],'k')\n",
    "        cplots[1] = ax[1].pcolormesh(xc,zc,Cs[it],cmap='Purples',vmin=0,vmax=1)\n",
    "        cplots[2] = ax[2].pcolormesh(xc,zc,uxs[it],cmap='RdBu_r')\n",
    "        cplots[3] = ax[3].pcolormesh(xc,zc,uzs[it],cmap='RdBu_r')\n",
    "        cplots[4] = ax[4].pcolormesh(xc,zc,ps[it],cmap='viridis')\n",
    "        cplots[5] = ax[5].pcolormesh(xc,zc,qs[it],cmap='PuOr_r')\n",
    "        cplots[6] = ax[6].pcolormesh(xc,zc,fs[it],cmap='Greys_r')\n",
    "        for i, axi in enumerate(ax):\n",
    "            axi.set(ylim=[0,2])\n",
    "            plt.colorbar(cplots[i],ax=axi)\n",
    "        plt.savefig(f'{plot_dir}/{simname}-{its[it]:0>6d}.png',dpi=200,bbox_inches='tight')\n",
    "        plt.close('all')\n",
    "        print(it)"
   ]
  },
  {
   "cell_type": "code",
   "execution_count": null,
   "metadata": {
    "hidden": true
   },
   "outputs": [],
   "source": [
    "ts, = flt.load_data(files[0],'sim_time',group='scales')\n",
    "Ss, = flt.load_data(files[0],'S',group='tasks')"
   ]
  },
  {
   "cell_type": "code",
   "execution_count": null,
   "metadata": {
    "hidden": true
   },
   "outputs": [],
   "source": [
    "plt.plot(ts[1:],Ss[1:,0,0])"
   ]
  },
  {
   "cell_type": "markdown",
   "metadata": {
    "heading_collapsed": true
   },
   "source": [
    "## Phase field remapped"
   ]
  },
  {
   "cell_type": "code",
   "execution_count": null,
   "metadata": {
    "hidden": true
   },
   "outputs": [],
   "source": [
    "ν = 1e-2\n",
    "κ = 1e-2\n",
    "γ = 1e-2\n",
    "μ = 1e-2\n",
    "M = .2\n",
    "N = 0\n",
    "L = 1\n",
    "β = 4/2.6482282\n",
    "ϵ = np.sqrt(2e-5)\n",
    "η = (β*ϵ)**2/ν\n",
    "α = (5/6)*(L/κ)*ϵ\n",
    "\n",
    "nx = 128\n",
    "nz = 128\n",
    "dt = 2.5e-4\n",
    "timestepper = 'SBDF2'\n",
    "simname = f'salty-boussinesq-melting-vpf-tangent-{ϵ:.0e}-conserved-passive'\n",
    "flt.makedir(f'{savedir}/frames/{simname}')\n",
    "tend = 10\n",
    "save_step = .1\n",
    "save_freq = round(save_step/dt)\n",
    "\n",
    "xbasis = de.Fourier('x',nx,interval=(0,4),dealias=1)\n",
    "zb0 = de.Chebyshev('z0',32,interval=(0,10*ϵ),dealias=1)\n",
    "zb1 = de.Chebyshev('z1',64,interval=(10*ϵ,1-10*ϵ),dealias=1)\n",
    "zb2 = de.Chebyshev('z2',32,interval=(1-10*ϵ,1),dealias=1)\n",
    "zbasis = de.Compound('z',[zb0,zb1,zb2])\n",
    "# zbasis = de.Chebyshev('z',nz,interval=(0,1),dealias=3/2)\n",
    "domain = de.Domain([xbasis,zbasis],grid_dtype=np.float64)\n",
    "flt.save_domain(f'{savedir}/domain-{simname}.h5',domain)\n",
    "x, z = domain.grids(scales=domain.dealias)\n",
    "xx,zz = x+0*z, 0*x+z\n",
    "xc = xx\n",
    "\n",
    "dims = range(1,3)"
   ]
  },
  {
   "cell_type": "code",
   "execution_count": null,
   "metadata": {
    "hidden": true
   },
   "outputs": [],
   "source": [
    "α*ϵ**2/γ"
   ]
  },
  {
   "cell_type": "code",
   "execution_count": null,
   "metadata": {
    "hidden": true
   },
   "outputs": [],
   "source": [
    "# Define GeneralFunction subclass to handle parities\n",
    "GeneralFunction = de.operators.GeneralFunction\n",
    "class HorizontalFunction(GeneralFunction):\n",
    "    def __init__(self, domain, layout, func=None, args=[], kw={}, out=None,):\n",
    "        super().__init__(domain, layout, func=func, args=args, kw=kw, out=out,)\n",
    "    \n",
    "    def meta_constant(self, axis):\n",
    "        if axis == 1 or axis == 'z': return True\n",
    "        else: return False\n",
    "\n",
    "refname = 'salty-boussinesq-melting-tangent-conserved-passive'\n",
    "reffile = glob.glob(f'{savedir}/interface-{refname}/*.h5')[0]\n",
    "t0s, x0s = flt.load_data(reffile,'sim_time','x/1.0',group='scales')\n",
    "h0s, ht0s = flt.load_data(reffile,'h','ht',group='tasks')\n",
    "from scipy.interpolate import RectBivariateSpline\n",
    "h0s, ht0s = np.squeeze(h0s), np.squeeze(ht0s)\n",
    "hspline = RectBivariateSpline(t0s,x0s,h0s)\n",
    "htspline = RectBivariateSpline(t0s,x0s,ht0s)\n",
    "\n",
    "def h_func(*args): return hspline(args[0].value,args[1].data[:,0]).T\n",
    "def ht_func(*args): return htspline(args[0].value,args[1].data[:,0]).T\n",
    "def h_op(*args,domain=domain,h_func=h_func): return HorizontalFunction(domain,layout='g',func=h_func,args=args)\n",
    "def ht_op(*args,domain=domain,ht_func=ht_func): return HorizontalFunction(domain,layout='g',func=ht_func,args=args)\n",
    "de.operators.parseables['h_op'] = h_op\n",
    "de.operators.parseables['ht_op'] = ht_op"
   ]
  },
  {
   "cell_type": "code",
   "execution_count": null,
   "metadata": {
    "hidden": true
   },
   "outputs": [],
   "source": [
    "problem = de.IVP(domain,variables=['u11','u12','u21','u22','p1','q1','p2','q2','T1','T1_2','T2','T2_2','C1','C1_2','C2','C2_2','f1','f1_2','f2','f2_2','E','S'])\n",
    "\n",
    "problem.meta[:]['z']['dirichlet'] = True\n",
    "problem.meta['E','S']['x','z']['constant'] = True\n",
    "problem.parameters['ν'] = ν\n",
    "problem.parameters['κ'] = κ\n",
    "problem.parameters['γ'] = γ\n",
    "problem.parameters['μ'] = μ\n",
    "problem.parameters['M'] = M\n",
    "problem.parameters['N'] = N\n",
    "problem.parameters['δ'] = 1e-4\n",
    "problem.parameters['ε'] = ϵ\n",
    "problem.parameters['L'] = L\n",
    "problem.parameters['η'] = η\n",
    "problem.parameters['α'] = α\n",
    "As = [4]*5\n",
    "for i in range(len(As)): problem.parameters[f'A{i+1}'] = As[i]\n",
    "\n",
    "problem.substitutions['h'] = 'h_op(t,x)'\n",
    "problem.substitutions['ht'] = 'ht_op(t,x)'\n",
    "problem.substitutions['d_1(A)'] = 'dx(A)'\n",
    "problem.substitutions['d_2(A)'] = 'dz(A)'\n",
    "problem.substitutions['T1_1'] = 'd_1(T1)'\n",
    "problem.substitutions['T2_1'] = 'd_1(T2)'\n",
    "problem.substitutions['C1_1'] = 'd_1(C1)'\n",
    "problem.substitutions['C2_1'] = 'd_1(C2)'\n",
    "problem.substitutions['f1_1'] = 'd_1(f1)'\n",
    "problem.substitutions['f2_1'] = 'd_1(f2)'\n",
    "problem.substitutions['hx'] = 'd_1(h)'\n",
    "problem.substitutions['angle'] = 'sqrt(1 + hx**2)'\n",
    "problem.substitutions['omz1'] = 'sqrt(1 + (hx)**2)/(2-h)'\n",
    "problem.substitutions['omz2'] = 'sqrt(1 + (hx)**2)/h'\n",
    "problem.substitutions['curvature'] = 'dx(hx)/angle**3'\n",
    "problem.substitutions['xc'] = 'x'\n",
    "problem.substitutions['zc1'] = 'h + (2-h)*z'\n",
    "problem.substitutions['zc2'] = 'h*z'\n",
    "problem.substitutions['d_0(A)'] = '0'\n",
    "for l in [1,2]:\n",
    "    problem.substitutions[f'Kdet{l}'] = Kdet[l]\n",
    "    for i in range(3):\n",
    "        for j in range(3):\n",
    "            problem.substitutions[f'J{l}{i}{j}'] = J.get((l,i,j),'0')\n",
    "            problem.substitutions[f'K{l}{i}{j}'] = K.get((l,i,j),'0')\n",
    "            problem.substitutions[f'g{l}{i}{j}'] = g.get((l,i,j),'0')\n",
    "            for k in range(3):\n",
    "                problem.substitutions[f'G{l}{i}_{j}{k}'] = G.get((l,i,j,k),'0')   \n",
    "\n",
    "    for i in dims:\n",
    "        for j in dims:\n",
    "            problem.substitutions[f'cd_{i}_u{l}{j}'] = f'd_{i}(u{l}{j})' + ' + '.join(['']+[f'G{l}{j}_{k}{i}*u{l}{k}' for k in dims if G.get((l,j,k,i),0)])\n",
    "    problem.substitutions[f'div{l}'] = f'cd_1_u{l}1 + cd_2_u{l}2'\n",
    "    problem.substitutions[f'vorticity{l}'] = f'Kdet{l}*'+'({})'.format(' + '.join([f'{eps[i,j]}*g{l}{i}{k}*cd_{k}_u{l}{j}' for k in dims for j in dims for i in dims if eps.get((i,j),0)]))\n",
    "    for j in dims: problem.substitutions[f'curl_vorticity{l}{j}'] = f'(1/Kdet{l})*'+'({})'.format(' + '.join(f'{eps[i,j]}*d_{i}(q{l})' for i in dims if eps.get((i,j),0)))\n",
    "    for k in dims: problem.substitutions[f'q_cross_u{l}{k}'] = f'Kdet{l}*q{l}*'+'({})'.format(' + '.join(f'{eps[i,j]}*g{l}{i}{k}*u{l}{j}' for i in dims for j in dims if eps.get((i,j),0)))\n",
    "    for j in dims: problem.substitutions[f'grad_p{l}{j}'] = ' + '.join([f'g{l}{i}{j}*d_{i}(p{l})' for i in dims])\n",
    "    for j in dims: problem.substitutions[f'f{l}{j}'] = f'(T{l}+N*C{l})*J{l}2{j}'\n",
    "    for j in dims: problem.substitutions[f'adv_u{l}{j}'] = ' + '.join([f'J{l}0{i}*d_{i}(u{l}{j})' for i in dims if J.get((l,0,i),0)] + [f'J{l}0{i}*u{l}{k}*G{l}{j}_{k}{i}' for i in range(3) for k in dims if J.get((l,0,i),0) and G.get((l,j,k,i))])\n",
    "    for i in dims: problem.substitutions[f'dτu{l}{i}'] = f'- adv_u{l}{i} + ν*curl_vorticity{l}{i} - grad_p{l}{i} + q_cross_u{l}{i} - (f{l}/η)*u{l}{i} + f{l}{i}'\n",
    "    for i in dims: problem.substitutions[f'dtu{l}{i}'] = f'dτu{l}{i} + adv_u{l}{i}'\n",
    "    problem.substitutions[f'lapT{l}'] = '{} - ({})'.format(' + '.join([f'g{l}{i}{j}*d_{i}(T{l}_{j})' for i in dims for j in dims]),' + '.join([f'g{l}{i}{j}*T{l}_{k}*G{l}{k}_{i}{j}' for i in dims for j in dims for k in dims if G.get((l,k,i,j))]))\n",
    "    problem.substitutions[f'lapC{l}'] = '{} - ({})'.format(' + '.join([f'g{l}{i}{j}*d_{i}(C{l}_{j})' for i in dims for j in dims]),' + '.join([f'g{l}{i}{j}*C{l}_{k}*G{l}{k}_{i}{j}' for i in dims for j in dims for k in dims if G.get((l,k,i,j))]))\n",
    "    problem.substitutions[f'lapf{l}'] = '{} - ({})'.format(' + '.join([f'g{l}{i}{j}*d_{i}(f{l}_{j})' for i in dims for j in dims]),' + '.join([f'g{l}{i}{j}*f{l}_{k}*G{l}{k}_{i}{j}' for i in dims for j in dims for k in dims if G.get((l,k,i,j))]))\n",
    "    problem.substitutions[f'udotT{l}'] = f'u{l}1*T{l}_1 + u{l}2*T{l}_2'\n",
    "    problem.substitutions[f'udotC{l}'] = f'u{l}1*C{l}_1 + u{l}2*C{l}_2'\n",
    "    problem.substitutions[f'ndotT{l}'] = f'left(( g{l}21*T{l}_1 + g{l}22*T{l}_2)/omz{l})'\n",
    "    problem.substitutions[f'ndotf{l}'] = f'left(( g{l}21*f{l}_1 + g{l}22*f{l}_2)/omz{l})'\n",
    "    problem.substitutions[f'f_flux{l}'] = f'-ε**(-2)*f{l}*(1-f{l})*(γ*(1-2*f{l}) + ε*(T{l}+M*C{l}))'\n",
    "    problem.substitutions[f'dtf{l}'] = f'(1/α)*(γ*lapf{l} + f_flux{l})'\n",
    "    problem.substitutions[f'dτf{l}'] =  f'dtf{l} - '+'({})'.format(' + '.join([f'J{l}0{i}*f{l}_{i}' for i in dims if J.get((l,0,i))]))\n",
    "    problem.substitutions[f'gradfdotgradC{l}'] = ' + '.join([f'g{l}{i}{j}*f{l}_{i}*C{l}_{j}' for i in dims for j in dims])\n",
    "    problem.substitutions[f'dτT{l}'] = 'κ*({}) - ({}) + ({}) - ({})'.format(f'lapT{l}',f'udotT{l}',f'L*dtf{l}', ' + '.join([f'J{l}0{i}*T{l}_{i}' for i in dims if J.get((l,0,i))]))\n",
    "    problem.substitutions[f'dτC{l}'] = 'μ*({}) - ({}) + ({}) - ({})'.format(f'lapC{l}',f'udotC{l}',f'(dtf{l}*C{l} - μ*gradfdotgradC{l})/(1-f{l}+δ)', ' + '.join([f'J{l}0{i}*C{l}_{i}' for i in dims if J.get((l,0,i))]))\n",
    "# problem.substitutions['dτh'] = ' - (1/2)*(left(dtf1/(J122*f1_2)) + right(dtf2/(J222*f2_2)))'\n",
    "# # Cartesian quantities\n",
    "# problem.substitutions[f'ux{l}'] = ' + '.join(f'u{l}{j}*K{l}{j}1' for j in dims if K.get((l,j,1)))\n",
    "# problem.substitutions[f'uz{l}'] = ' + '.join(f'u{l}{j}*K{l}{j}2' for j in dims if K.get((l,j,2)))\n",
    "# problem.substitutions[f'kenergy{l}'] = f'0.5*(ux{l}**2 + uz{l}**2)'\n",
    "# problem.substitutions[f'pr{l}'] = f'p{l} - kenergy{l}'\n",
    "# problem.substitutions[f'dxc{l}(A)'] = ' + '.join(f'J{l}1{j}*d_{j}(A)' for j in dims if J.get((l,1,j)))\n",
    "# problem.substitutions[f'dzc{l}(A)'] = ' + '.join(f'J{l}2{j}*d_{j}(A)' for j in dims if J.get((l,2,j)))\n",
    "# problem.substitutions[f'dtux{l}'] = f'- dxc{l}(p{l}) - ν*dzc{l}(q{l}) + q{l}*uz{l}'\n",
    "# problem.substitutions[f'dtuz{l}'] = f'- dzc{l}(p{l}) + ν*dxc{l}(q{l}) - q{l}*ux{l}'\n",
    "# problem.substitutions[f'dtT1'] = f'- dzc{l}(p{l}) + ν*dxc{l}(q{l}) - q{l}*ux{l}'\n",
    "for l in [1,2]:\n",
    "    problem.add_equation(f'       A1*(d_1(u{l}1) + d_2(u{l}2)) = A1*(d_1(u{l}1) + d_2(u{l}2)) - div{l}')\n",
    "    problem.add_equation(f'q{l} + A2*(d_2(u{l}1) - d_1(u{l}2)) = A2*(d_2(u{l}1) - d_1(u{l}2)) + vorticity{l}')\n",
    "    problem.add_equation(f'dt(u{l}1) + A3*d_1(p{l}) + A4*ν*d_2(q{l}) =             A3*d_1(p{l}) + A4*ν*d_2(q{l}) + dτu{l}1')\n",
    "    problem.add_equation(f'dt(u{l}2) + A3*d_2(p{l}) - A4*ν*d_1(q{l}) - T2 = - T2 + A3*d_2(p{l}) - A4*ν*d_1(q{l}) + dτu{l}2')    \n",
    "    problem.add_equation(f'T{l}_2 - d_2(T{l}) = 0')\n",
    "    problem.add_equation(f'dt(T{l}) - κ*A5*(d_1(T{l}_1) + d_2(T{l}_2)) = - κ*A5*(d_1(T{l}_1) + d_2(T{l}_2)) + dτT{l}')\n",
    "    problem.add_equation(f'C{l}_2 - d_2(C{l}) = 0')\n",
    "    problem.add_equation(f'dt(C{l}) - μ*A5*(d_1(C{l}_1) + d_2(C{l}_2)) = - μ*A5*(d_1(C{l}_1) + d_2(C{l}_2)) + dτC{l}')\n",
    "    problem.add_equation(f'f{l}_2 - d_2(f{l}) = 0')\n",
    "    problem.add_equation(f'α*dt(f{l})-γ*A5*(d_1(f{l}_1) + d_2(f{l}_2)) = - γ*A5*(d_1(f{l}_1) + d_2(f{l}_2)) + α*dτf{l}')\n",
    "# problem.add_equation('ht - (κ/L)*(right(T2_2) - right(T1_2)) = - (κ/L)*(right(T2_2) - right(T1_2)) + dτh')\n",
    "# problem.add_equation('ht = -100*(left(f1) - .5)')\n",
    "# problem.add_equation('dt(h) - ht = 0')\n",
    "problem.add_equation('E = integ(Kdet1*(T1 + L*(1-f1)) + Kdet2*(T2 + L*(1-f2)))')\n",
    "problem.add_equation('S = integ(Kdet1*(1-f1)*C1 + Kdet2*(1-f2)*C2)')\n",
    "\n",
    "problem.add_bc('right(u11) = 0')\n",
    "problem.add_bc('right(u12) = 0',condition='nx != 0')\n",
    "# problem.add_bc('right(T1) = -1')\n",
    "problem.add_bc('right(T1_2) = 0')\n",
    "problem.add_bc('right(C1_2) = 0')\n",
    "problem.add_bc('right(f1_2) = 0')\n",
    "problem.add_bc('left(u11) - right(u21) = 0')\n",
    "problem.add_bc('left(u12) - right(u22) = left((h-1)*u12) + right((h-1)*u22)')\n",
    "problem.add_bc('left(p1) - right(p2) = 0')\n",
    "problem.add_bc('left(q1) - right(q2) = 0')\n",
    "problem.add_bc('right(T2) - left(T1) = 0')\n",
    "problem.add_bc('right(C2) - left(C1) = 0')\n",
    "problem.add_bc('right(f2) - left(f1) = 0')\n",
    "# problem.add_bc('right(f2) = 0.5')\n",
    "problem.add_bc('left(T1_2) - right(T2_2) = left((1-h)*T1_2) + right((1-h)*T2_2)')\n",
    "problem.add_bc('left(C1_2) - right(C2_2) = left((1-h)*C1_2) + right((1-h)*C2_2)')\n",
    "problem.add_bc('left(f1_2) - right(f2_2) = left((1-h)*f1_2) + right((1-h)*f2_2)')\n",
    "problem.add_bc('left(p2) = 0',condition='nx == 0')\n",
    "problem.add_bc('left(u21) = 0')\n",
    "problem.add_bc('left(u22) = 0')\n",
    "problem.add_bc('left(T2_2) = 0')\n",
    "# problem.add_bc('left(T2) = 1')\n",
    "problem.add_bc('left(C2_2) = 0')\n",
    "problem.add_bc('left(f2_2) = 0')"
   ]
  },
  {
   "cell_type": "code",
   "execution_count": null,
   "metadata": {
    "hidden": true
   },
   "outputs": [],
   "source": [
    "solver = problem.build_solver(eval(f'de.timesteppers.{timestepper}'))"
   ]
  },
  {
   "cell_type": "code",
   "execution_count": null,
   "metadata": {
    "hidden": true
   },
   "outputs": [],
   "source": [
    "solver.stop_sim_time = tend\n",
    "\n",
    "# loadname = simname#'salty-boussinesq-melting-vpf-tangent-2e-03-conserved-passive-loose'\n",
    "# solver.load_state(f'{savedir}/analysis-{loadname}/analysis-{loadname}_s1.h5',-1)\n",
    "\n",
    "fields = {fname:solver.state[fname] for fname in problem.variables}\n",
    "for fname,field in fields.items():\n",
    "    field.set_scales(domain.dealias)\n",
    "hop, htop = solver.evaluator.vars['h'], solver.evaluator.vars['ht']\n",
    "h, ht = hop.evaluate(), htop.evaluate()\n",
    "T1, T2, C1,C2,f1, f2,E,S = [fields[name] for name in ['T1','T2','C1','C2','f1','f2','E','S']]\n",
    "\n",
    "xc = xx\n",
    "zc1 = h['g'] + (2-h['g'])*zz\n",
    "zc2 = h['g']*zz\n",
    "kx,kz = domain.elements(0),domain.elements(1)\n",
    "kxx,kzz = kx+0*kz, 0*kx + kz\n",
    "kz2 = kzz\n",
    "kz1 = kzz + kzz.max()"
   ]
  },
  {
   "cell_type": "code",
   "execution_count": null,
   "metadata": {
    "hidden": true
   },
   "outputs": [],
   "source": [
    "# initial conditions\n",
    "h['g'] = 1\n",
    "T1['g'] = 1-zc1\n",
    "T2['g'] = 1-zc2 + np.exp(-((xc-2)**2+(zc2-.5)**2)*5**2)\n",
    "T1.differentiate('z',out=fields['T1_2'])\n",
    "T2.differentiate('z',out=fields['T2_2'])\n",
    "C1['g'] = 0.05 + (1-0.05)*.5*(1 - np.tanh(10*(zc1-.5)))\n",
    "C2['g'] = 0.05 + (1-0.05)*.5*(1 - np.tanh(10*(zc2-.5)))\n",
    "C1.differentiate('z',out=fields['C1_2'])\n",
    "C2.differentiate('z',out=fields['C2_2'])\n",
    "zc1 = h['g'] + (2-h['g'])*zz\n",
    "zc2 = h['g']*zz\n",
    "f1['g'] = .5*(1+np.tanh((1/(2*ϵ))*(zc1-h['g'])/np.sqrt(1+d(h,'x')**2)['g']))\n",
    "f2['g'] = .5*(1+np.tanh((1/(2*ϵ))*(zc2-h['g'])/np.sqrt(1+d(h,'x')**2)['g']))\n",
    "f1.differentiate('z',out=fields['f1_2'])\n",
    "f2.differentiate('z',out=fields['f2_2'])\n",
    "E['g'] = (h*(T2+L*(1-f2)) + (2-h)*(T1+L*(1-f1))).evaluate().integrate()['g']\n",
    "S['g'] = (h*(1-f2)*C2 + (2-h)*(1-f1)*C1).evaluate().integrate()['g']\n",
    "\n"
   ]
  },
  {
   "cell_type": "code",
   "execution_count": null,
   "metadata": {
    "hidden": true
   },
   "outputs": [],
   "source": [
    "fig, ax = plt.subplots(7,2,figsize=(16,16))\n",
    "fnames = [['T1','T2'],['C1','C2'],['f1','f2'],['u11','u21'],['u12','u22'],['p1','p2'],['q1','q2']]\n",
    "clims = [[-1,1],[0,1],[0,1],[-1,1],[-1,1],[-1,1],[-1,1]]\n",
    "cmaps = ['RdBu_r','Purples','Greys_r','PiYG','PiYG','viridis','PuOr_r']\n",
    "for i, (fn1, fn2) in enumerate(fnames):\n",
    "    print(fn1)\n",
    "    ax[i,0].pcolormesh(xc,zc1,fields[fn1]['g'],vmin=clims[i][0],vmax=clims[i][1],cmap=cmaps[i])\n",
    "    ax[i,0].pcolormesh(xc,zc2,fields[fn2]['g'],vmin=clims[i][0],vmax=clims[i][1],cmap=cmaps[i])\n",
    "    ax[i,1].pcolormesh(kxx,kz1,np.log10(np.abs(fields[fn1]['c'])+1e-16),vmin=-16,vmax=0)\n",
    "    ax[i,1].pcolormesh(kxx,kz2,np.log10(np.abs(fields[fn2]['c'])+1e-16),vmin=-16,vmax=0)"
   ]
  },
  {
   "cell_type": "code",
   "execution_count": null,
   "metadata": {
    "hidden": true
   },
   "outputs": [],
   "source": [
    "analysis = solver.evaluator.add_file_handler(f'{savedir}/analysis-{simname}',iter=save_freq, max_writes=100,)#mode='overwrite')\n",
    "for task in problem.variables + ['h','ht','zc1','zc2']: analysis.add_task(task)\n",
    "# for l in '2':\n",
    "#     for name in ['div','vorticity','zc','ux','uz','pr','kenergy','dtux','dtuz']:\n",
    "#         analysis.add_task(name+l)\n",
    "#     for i in dims:\n",
    "#         for task in [f'adv_u{l}{i}',f'curl_vorticity{l}{i}',f'grad_p{l}{i}',f'q{l}_cross_u{l}{i}',f'f{l}{i}']:\n",
    "#             analysis.add_task(task)        "
   ]
  },
  {
   "cell_type": "code",
   "execution_count": null,
   "metadata": {
    "hidden": true
   },
   "outputs": [],
   "source": [
    "while solver.ok:\n",
    "    if solver.iteration % 100 == 0: \n",
    "        logger.info(f'It: {solver.iteration}, Sim time: {solver.sim_time:.3f}, Salt: {S[\"g\"][0,0]:.6f}')\n",
    "        if np.any(np.isnan(T2['g'])): break\n",
    "    solver.step(dt)\n",
    "solver.step(dt)"
   ]
  },
  {
   "cell_type": "markdown",
   "metadata": {
    "heading_collapsed": true,
    "hidden": true
   },
   "source": [
    "### Plotting"
   ]
  },
  {
   "cell_type": "code",
   "execution_count": null,
   "metadata": {
    "hidden": true
   },
   "outputs": [],
   "source": [
    "simname = 'salty-boussinesq-melting-vpf-tangent-2e-03-conserved-passive-loose'\n",
    "refname = 'salty-boussinesq-melting-tangent-conserved-passive'\n",
    "post.merge_analysis(f'{savedir}/analysis-{simname}')\n",
    "post.merge_analysis(f'{savedir}/interface-{simname}')\n",
    "files = sorted(glob.glob(f'{savedir}/analysis-{simname}/*.h5'))\n",
    "interface_files = sorted(glob.glob(f'{savedir}/analysis-{refname}/*.h5'))\n",
    "\n",
    "plot_dir = f'{savedir}/frames/{simname}'\n",
    "flt.makedir(plot_dir)"
   ]
  },
  {
   "cell_type": "code",
   "execution_count": null,
   "metadata": {
    "hidden": true
   },
   "outputs": [],
   "source": [
    "Ss,Es = flt.load_data(files[0],'S','E',group='tasks')"
   ]
  },
  {
   "cell_type": "code",
   "execution_count": null,
   "metadata": {
    "hidden": true
   },
   "outputs": [],
   "source": [
    "for file in files:\n",
    "    ts,its,x,z = flt.load_data(file,'sim_time','iteration','x/1.0','z/1.0',group='scales')\n",
    "    xx,zz = np.meshgrid(x,z,indexing='ij')\n",
    "    xc = xx\n",
    "    arrays = {name: flt.load_data(file,name,group='tasks')[0] for name in ['h','E','S'] + [field + side for field in ['C','T','u1','u2','p','q'] for side in '12']}\n",
    "    zc1,zc2 = arrays['h'] + (2-arrays['h'])*zz, arrays['h']*zz\n",
    "    for it, t in enumerate(ts):\n",
    "        if it > 50:\n",
    "            fig, ax = plt.subplots(6,figsize=(8,16))\n",
    "            cplots = {}\n",
    "            cplots[0] = ax[0].pcolormesh(xc,zc1[it],arrays['T1'][it],cmap='RdBu_r',vmin=-1,vmax=1)\n",
    "            cplots[0] = ax[0].pcolormesh(xc,zc2[it],arrays['T2'][it],cmap='RdBu_r',vmin=-1,vmax=1)\n",
    "            cplots[1] = ax[1].pcolormesh(xc,zc1[it],arrays['C1'][it],cmap='Purples',vmin=0,vmax=1)\n",
    "            cplots[1] = ax[1].pcolormesh(xc,zc2[it],arrays['C2'][it],cmap='Purples',vmin=0,vmax=1)\n",
    "            cplots[2] = ax[2].pcolormesh(xc,zc1[it],arrays['u11'][it],cmap='RdBu_r',vmin=-.5,vmax=.5)\n",
    "            cplots[2] = ax[2].pcolormesh(xc,zc2[it],arrays['u21'][it],cmap='RdBu_r',vmin=-.5,vmax=.5)\n",
    "            cplots[3] = ax[3].pcolormesh(xc,zc1[it],arrays['u12'][it],cmap='RdBu_r',vmin=-.5,vmax=.5)\n",
    "            cplots[3] = ax[3].pcolormesh(xc,zc2[it],arrays['u22'][it],cmap='RdBu_r',vmin=-.5,vmax=.5)\n",
    "            cplots[4] = ax[4].pcolormesh(xc,zc1[it],arrays['p1'][it],cmap='viridis',vmin=-.5,vmax=.5)\n",
    "            cplots[4] = ax[4].pcolormesh(xc,zc2[it],arrays['p2'][it],cmap='viridis',vmin=-.5,vmax=.5)\n",
    "            cplots[5] = ax[5].pcolormesh(xc,zc1[it],arrays['q1'][it],cmap='PuOr_r',vmin=-1,vmax=1)\n",
    "            cplots[5] = ax[5].pcolormesh(xc,zc2[it],arrays['q2'][it],cmap='PuOr_r',vmin=-1,vmax=1)\n",
    "            for i, axi in enumerate(ax):\n",
    "                axi.plot(x,arrays['h'][it,:,0],'k',linewidth=.5)\n",
    "                axi.set(ylim=[0,2])\n",
    "                plt.colorbar(cplots[i],ax=axi)\n",
    "            plt.savefig(f'{plot_dir}/{simname}-{its[it]:0>6d}.png',dpi=200,bbox_inches='tight')\n",
    "            plt.close('all')\n",
    "            print(it)"
   ]
  },
  {
   "cell_type": "markdown",
   "metadata": {},
   "source": [
    "## Comparisons"
   ]
  },
  {
   "cell_type": "code",
   "execution_count": null,
   "metadata": {},
   "outputs": [],
   "source": [
    "s = {i:{} for i in range(6)}"
   ]
  },
  {
   "cell_type": "code",
   "execution_count": null,
   "metadata": {},
   "outputs": [],
   "source": [
    "s[0]['simname'] = 'salty-boussinesq-melting-tangent-conserved-passive'\n",
    "s[1]['simname'] = 'salty-boussinesq-melting-vpf-tangent-1e-02-conserved-passive'\n",
    "s[2]['simname'] = 'salty-boussinesq-melting-vpf-tangent-7e-03-conserved-passive'\n",
    "s[3]['simname'] = 'salty-boussinesq-melting-vpf-tangent-4e-03-conserved-passive'\n",
    "s[4]['simname'] = 'salty-boussinesq-melting-vpf-tangent-3e-03-conserved-passive'\n",
    "s[5]['simname'] = 'salty-boussinesq-melting-vpf-tangent-2e-03-conserved-passive-loose'\n",
    "\n",
    "names = ['T1','T2','C2','u21','u22','p2','q2','zc1','zc2','h']"
   ]
  },
  {
   "cell_type": "code",
   "execution_count": null,
   "metadata": {},
   "outputs": [],
   "source": [
    "for i in s:\n",
    "#     post.merge_analysis(f'{savedir}/analysis-{s[i][\"simname\"]}')\n",
    "    s[i]['files'] = sorted(glob.glob(f'{savedir}/analysis-{s[i][\"simname\"]}/*.h5'))\n",
    "    s[i]['file'] = s[i]['files'][-1]\n",
    "    s[i]['domain'] = flt.load_domain(f'{savedir}/domain-{s[i][\"simname\"]}.h5')\n",
    "    s[i]['t'],s[i]['it'],s[i]['ξ'],s[i]['ζ'], = flt.load_data(s[i]['file'],'sim_time','iteration','x/1.0','z/1.0',group='scales',asscalar=False)\n",
    "    s[i]['ξξ'], s[i]['ζζ'] = np.meshgrid(s[i]['ξ'],s[i]['ζ'],indexing='ij')\n",
    "    s[i]['xc'] = s[i]['ξξ']\n",
    "    s[i]['h'], = flt.load_data(s[i]['file'],'h',group='tasks')\n",
    "    s[i]['kx'], s[i]['kz'] = s[i]['domain'].elements(0), s[i]['domain'].elements(1)\n",
    "    s[i]['kxx'],s[i]['kzz'] = s[i]['kx'] + 0*s[i]['kz'], 0*s[i]['kx'] + s[i]['kz']\n",
    "    s[i]['zc1'], = flt.load_data(s[i]['file'],'zc1',group='tasks')\n",
    "    s[i]['zc2'], = flt.load_data(s[i]['file'],'zc2',group='tasks')\n",
    "    for name in names:\n",
    "        s[i][name], = flt.load_data(s[i]['file'],name,group='tasks')\n",
    "\n",
    "# i = 2\n",
    "# s[i]['t'],s[i]['it'],s[i]['x'],s[i]['z'], = flt.load_data(s[i]['file'],'sim_time','iteration','x/1.0','z/1.0',group='scales',asscalar=False)\n",
    "# s[i]['xc'], s[i]['zc'] = np.meshgrid(s[i]['x'],s[i]['z'],indexing='ij')\n",
    "# s[i]['kx'], s[i]['kz'] = s[i]['domain'].elements(0), s[i]['domain'].elements(1)\n",
    "# s[i]['kxx'],s[i]['kzz'] = s[i]['kx'] + 0*s[i]['kz'], 0*s[i]['kx'] + s[i]['kz']  "
   ]
  },
  {
   "cell_type": "code",
   "execution_count": null,
   "metadata": {},
   "outputs": [],
   "source": [
    "s[0]['it']"
   ]
  },
  {
   "cell_type": "code",
   "execution_count": null,
   "metadata": {},
   "outputs": [],
   "source": [
    "it = 0\n",
    "# names = ['ux2','uz2','pr2','q2']\n",
    "for name in names:\n",
    "    for sim in s:\n",
    "        s[sim][name+'f'] = s[sim]['domain'].new_field()\n",
    "        if sim in [0,1,2,3,4]: \n",
    "            if name == 'h': s[sim][name+'f']['g'] = s[sim][name][:,None]\n",
    "            else: s[sim][name+'f']['g'] = s[sim][name]\n",
    "        if sim == 5: s[sim][name+'f']['g'] = s[sim][name][-1]\n",
    "        \n",
    "# zbasis = flt.load_basis(f'{savedir}/domain-{s[2][\"simname\"]}.h5','1')\n",
    "for name in names:\n",
    "    for sim in s:\n",
    "        s[0][name+f'f{sim}'] = s[0]['domain'].new_field()\n",
    "        s[0][name+f'f{sim}']['g'] = ip.interp(s[sim][name+'f'],s[0]['ξ'],s[0]['ζ'])\n",
    "    print(name)\n",
    "\n",
    "for sim in range(1,6):\n",
    "    s[sim]['f1f'], s[sim]['f2f'] = s[sim]['domain'].new_fields(2)\n",
    "    if sim in [1,2,3,4]:    s[sim]['f1f']['g'], s[sim]['f2f']['g'] = flt.load_data(s[sim]['file'],'f1','f2',group='tasks',sel=np.s_[...])\n",
    "    if sim == 5: s[sim]['f1f']['g'], s[sim]['f2f']['g'] = flt.load_data(s[sim]['file'],'f1','f2',group='tasks',sel=np.s_[-1,...])"
   ]
  },
  {
   "cell_type": "code",
   "execution_count": null,
   "metadata": {},
   "outputs": [],
   "source": [
    "# Compare Cartesian velocity calculations\n",
    "names = ['T2','C2','u21','u22','p2','q2']\n",
    "cmaps = ['RdBu_r','Purples','PiYG_r','PiYG_r','viridis','PuOr_r']\n",
    "clims = [[-1,1],[0,1],[-.5,.5],[-.5,.5],[-.5,.5],[-3,3]]\n",
    "titles = ['T','C','u^\\\\xi','u^\\\\zeta','p + 0.5|u|^2','\\\\nabla\\\\times u']\n",
    "widths = [1]*len(s)#[4, 1, 4, 1, 4, 1]\n",
    "heights = [1]*len(names)\n",
    "gs_kw = dict(width_ratios=widths, height_ratios=heights)\n",
    "fig, ax = plt.subplots(len(names),len(widths),figsize=(25,10),gridspec_kw=gs_kw,sharex=True,sharey=True)\n",
    "cplots = {}\n",
    "for i, name in enumerate(names):\n",
    "    for j in range(len(widths)):\n",
    "        cplots[i,j] = ax[i,j].pcolormesh(s[j]['xc'],s[j]['zc2f']['g'],s[j][name+'f']['g'],cmap=cmaps[i],vmin=clims[i][0],vmax=clims[i][1])\n",
    "        plt.colorbar(cplots[i,j],ax=ax[i,j])\n",
    "        for spine in ax[i,j].spines: ax[i,j].spines[spine].set_visible(False)\n",
    "\n",
    "for i, title in enumerate(titles):\n",
    "    ax[i,0].set(title=f'Remapped ${title}$')\n",
    "    ax[i,1].set(title=f'Remapped VP $\\\\varepsilon = 10^{{-2}} \\\\quad {title}$')\n",
    "    ax[i,2].set(title=f'Remapped VP $\\\\varepsilon = 10^{{-2.5}} \\\\quad {title}$')\n",
    "    ax[i,3].set(title=f'Remapped VP $\\\\varepsilon = 10^{{-2.5}}/\\\\sqrt{{2}} \\\\quad {title}$')\n",
    "plt.tight_layout()\n",
    "# plt.savefig('salty-boussinesq-melting-comparison.png',dpi=200,bbox_inches='tight')"
   ]
  },
  {
   "cell_type": "code",
   "execution_count": null,
   "metadata": {},
   "outputs": [],
   "source": [
    "# Compare different volume penalty simulations\n",
    "names = ['T2','C2','u21','u22','p2','q2']\n",
    "cmaps = ['RdBu_r','Purples','PiYG_r','PiYG_r','viridis','PuOr_r']\n",
    "clims = [[-1,1],[0,1],[-.5,.5],[-.5,.5],[-.5,.5],[-3,3]]\n",
    "titles = ['T','C','u^\\\\xi','u^\\\\zeta','p + 0.5|u|^2','\\\\nabla\\\\times u']\n",
    "widths = [1]*len(s)\n",
    "heights = [1]*len(names)\n",
    "gs_kw = dict(width_ratios=widths, height_ratios=heights)\n",
    "fig, ax = plt.subplots(len(names),len(widths),figsize=(25,10),gridspec_kw=gs_kw,sharex=True,sharey=True)\n",
    "cplots = {}\n",
    "elims = [[1e-1,1e-2,1e-2/2]]*len(names)\n",
    "for i, name in enumerate(names):\n",
    "    cplots[i,0] = ax[i,0].pcolormesh(s[0]['xc'], s[0]['zc2f']['g'], s[0][name+'f']['g'],cmap=cmaps[i],vmin=clims[i][0],vmax=clims[i][1])\n",
    "    for j in range(1, len(widths)):\n",
    "        cplots[i,j] = ax[i,j].pcolormesh(s[0]['xc'], s[0]['zc2f']['g'],(s[0][name+f'f{j}']['g'] - s[0][name+'f']['g'])/(1e-10+np.abs(s[0][name+'f']['g'])).max(),cmap='RdBu_r')#,vmin=-elims[i][j-1],vmax=elims[i][j-1])\n",
    "    for j in range(len(widths)):\n",
    "        for spine in ax[i,j].spines: ax[i,j].spines[spine].set_visible(False)\n",
    "        plt.colorbar(cplots[i,j],ax=ax[i,j])\n",
    "\n",
    "for i, title in enumerate(titles):\n",
    "    ax[i,0].set(title=f'Remapped ${title}$')\n",
    "#     ax[i,1].set(title=f'Remapped VP $ϵ = 10^{{-2}} \\\\quad {title}$ error')\n",
    "#     ax[i,2].set(title=f'Remapped VP $ϵ = 10^{{-2.5}} \\\\quad {title}$ error')\n",
    "#     ax[i,3].set(title=f'Remapped VP $ϵ = 10^{{-2.5}}/\\\\sqrt{{2}} \\\\quad {title}$ error')\n",
    "plt.tight_layout()\n",
    "# plt.savefig('salty-boussinesq-melting-convergence.png',dpi=300,bbox_inches='tight')"
   ]
  },
  {
   "cell_type": "code",
   "execution_count": null,
   "metadata": {},
   "outputs": [],
   "source": [
    "for sim in range(1,6):\n",
    "    # Find largest ζ where f['g'] < .5\n",
    "    max_ζ1 = s[sim]['ζ'][np.abs(s[sim]['f1f']['g']-.5).argmin(axis=1).max()]\n",
    "    # Find smallest ζ where f['g'] > .5\n",
    "    min_ζ2 = s[sim]['ζ'][np.abs(s[sim]['f2f']['g']-.5).argmin(axis=1).min()] - 1\n",
    "    mid_ζ = (max_ζ1 + min_ζ2)/2\n",
    "    range_ζ = (max_ζ1 - min_ζ2)\n",
    "    # Create a single rectangular domain that is a bounding box for these points, and the x axis\n",
    "    xb = flt.load_basis(f'{savedir}/domain-{s[sim][\"simname\"]}.h5','0')\n",
    "    zb = de.Chebyshev('z',64,interval=(mid_ζ-range_ζ,mid_ζ+range_ζ))\n",
    "    domain = de.Domain([xb,zb],grid_dtype=np.float64)\n",
    "    ξ,ζ = domain.grids()\n",
    "    ξξ,ζζ = ξ + 0*ζ, 0*ξ + ζ\n",
    "    # Interpolate the fields onto this domain\n",
    "    # find z=0 index\n",
    "    ζind = np.where(ζ > 0, ζ, np.inf).argmin()\n",
    "    # interpolate top\n",
    "    f = domain.new_field()\n",
    "    f['g'][:,ζind:] = ip.interp(s[sim]['f1f'],ξ.flatten(),ζ.flatten()[ζind:])\n",
    "    # interpolate bottom\n",
    "    f['g'][:,:ζind] = ip.interp(s[sim]['f2f'],ξ.flatten(),ζ.flatten()[:ζind] + 1)\n",
    "    # Perform root finding algorithm on this\n",
    "    ζs = find_roots(f,ξ,level=.5,zrange=range_ζ/4).flatten()\n",
    "    ζ1s = np.where(ζs>0,ζs,-1)\n",
    "    ζ2s = np.where(ζs<=0,ζs,1)\n",
    "    if sim in [1,2,3,4]: h0s = s[sim]['h'].flatten()\n",
    "    if sim == 5: h0s = s[sim]['h'][-1].flatten()\n",
    "    h1s = h0s + (2-h0s)*ζ1s\n",
    "    h2s = h0s*(ζ2s+1)\n",
    "    s[sim]['hvpf'] = s[sim]['domain'].new_field()\n",
    "    s[sim]['hvpf']['g'] = (h1s*(h1s>h0s) + h2s*(h2s<=h0s))[:,None]\n",
    "    print(sim)"
   ]
  },
  {
   "cell_type": "code",
   "execution_count": null,
   "metadata": {},
   "outputs": [],
   "source": [
    "fig, ax = plt.subplots(4,figsize=(8,6),sharex=True)\n",
    "ax[0].plot(s[0]['ξ'],s[0]['h'].flatten(),'k',label='Reference interface')\n",
    "ax[0].plot(s[1]['ξ'],s[1]['hvpf']['g'][:,0],label='$\\\\varepsilon = 10^{-2}$')\n",
    "ax[0].plot(s[2]['ξ'],s[2]['hvpf']['g'][:,0],label='$\\\\varepsilon = 10^{-2.5}$')\n",
    "ax[0].plot(s[3]['ξ'],s[3]['hvpf']['g'][:,0],label='$\\\\varepsilon = 10^{-2.5}/\\\\sqrt{{2}}$')\n",
    "ax[1].plot(s[1]['ξ'],s[1]['hvpf']['g'][:,0] - s[1]['h'][it].flatten(),'C0')\n",
    "ax[2].plot(s[2]['ξ'],s[2]['hvpf']['g'][:,0] - s[2]['h'][it].flatten(),'C1')\n",
    "ax[3].plot(s[3]['ξ'],s[3]['hvpf']['g'][:,0] - s[3]['h'][-2].flatten(),'C2')\n",
    "ax[0].legend(bbox_to_anchor=(1.05,1),loc='upper left')\n",
    "ax[0].set(title='Interface location')\n",
    "ax[1].set(title='$\\\\varepsilon = 10^{-2}$ Interface error')\n",
    "ax[2].set(title='$\\\\varepsilon = 10^{-2.5}$ Interface error')\n",
    "ax[3].set(title='$\\\\varepsilon = 10^{-2.5}/\\\\sqrt{{2}}$ Interface error')\n",
    "plt.tight_layout()\n",
    "# plt.savefig('salty-boussinesq-melting-interface-error.pdf',bbox_inches='tight')"
   ]
  },
  {
   "cell_type": "code",
   "execution_count": null,
   "metadata": {},
   "outputs": [],
   "source": [
    "# Error analysis\n",
    "# Fields: T^+, T^-, C, u_x, u_z, p (real), q, h\n",
    "for sim in s: \n",
    "    s[sim]['ux2f'] = s[sim]['u21f'].copy()\n",
    "    s[sim]['uz2f'] = (s[sim]['u22f'] - s[sim]['zc2f']*s[sim]['hf'].differentiate('x')*s[sim]['u21f']).evaluate()\n",
    "    s[sim]['pr2f'] = (s[sim]['p2f'] - 0.5*(s[sim]['ux2f']**2 + s[sim]['uz2f']**2)).evaluate()\n",
    "for sim in range(1,len(s)):\n",
    "    for field in ['ux2','uz2','pr2']:\n",
    "        s[0][field+f'f{sim}'] = s[0]['domain'].new_field()\n",
    "        s[0][field+f'f{sim}']['g'] = ip.interp(s[sim][field+'f'],s[0]['ξ'],s[0]['ζ'])\n",
    "\n",
    "s[0]['errors'] = {}\n",
    "for sim in range(1,len(s)):\n",
    "    for field in ['T2','C2','ux2','uz2','pr2','q2']:\n",
    "        s[0]['errors'][field+'err'+f'f{sim}'] = (s[0][field+'f']-s[0][field+f'f{sim}']).evaluate()\n",
    "        s[0]['errors'][field+'L1'+f'{sim}'] = (s[0]['hf']*np.abs(s[0]['errors'][field+'err'+f'f{sim}'])).evaluate().integrate()['g'][0,0]/s[0]['hf'].integrate()['g'][0,0]\n",
    "        s[0]['errors'][field+'Linf'+f'{sim}'] = np.abs(s[0]['errors'][field+'err'+f'f{sim}']).evaluate()['g'].max()\n",
    "\n",
    "# calculate phase field interface errors (max and average)\n",
    "for sim in range(1,len(s)):\n",
    "    s[0]['errors'][f'hL1{sim}'] = np.abs(s[sim]['hvpf']-s[sim]['hf']).evaluate().integrate('x')['g'][0,0]/4\n",
    "    s[0]['errors'][f'hLinf{sim}'] = np.abs(s[sim]['hvpf']-s[sim]['hf']).evaluate()['g'].max()        \n",
    "        \n",
    "L1s = {field: [s[0]['errors'][field+'L1'+f'{sim}'] for sim in range(1,len(s))] for field in ['T2','C2','ux2','uz2','pr2','q2','h']}\n",
    "Linfs = {field: [s[0]['errors'][field+'Linf'+f'{sim}'] for sim in range(1,len(s))] for field in ['T2','C2','ux2','uz2','pr2','q2','h']}"
   ]
  },
  {
   "cell_type": "code",
   "execution_count": null,
   "metadata": {},
   "outputs": [],
   "source": [
    "# Plot time series of reference simulation\n",
    "width_ratios = [1,1]\n",
    "height_ratios = [1,1,1,1,1]\n",
    "gs_kw = dict(width_ratios=width_ratios, height_ratios=height_ratios)\n",
    "fig, ax = plt.subplots(5,2,figsize=(8,11),constrained_layout=True)#gridspec_kw=gs_kw)#,sharex=True,sharey=True)\n",
    "# fig.subplots_adjust(hspace=0, wspace=0)\n",
    "ps = {'T':{},'C':{}}\n",
    "# Upscaled grids\n",
    "factor = 2\n",
    "ξ, ζ = s[0]['domain'].grids(factor)\n",
    "x = ξ + 0*ζ\n",
    "for i, it in enumerate([0,25,50,75,99]):\n",
    "    # Load upscaled quantities\n",
    "    for quantity in ['h','T1','T2','C2']:\n",
    "        s[0][quantity+'f'].set_scales(1)\n",
    "        s[0][quantity+'f']['g'] = s[0][quantity][it]\n",
    "        s[0][quantity+'f'].set_scales(factor)\n",
    "    z2,z1 = ζ*s[0]['hf']['g'], s[0]['hf']['g']*(1-ζ) + 2*ζ\n",
    "    ps['T'][i] = ax[i,0].pcolormesh(x,z1,s[0]['T1f']['g'],cmap='RdBu_r',vmin=-1,vmax=1)\n",
    "    ax[i,0].pcolormesh(x,z2,s[0]['T2f']['g'],cmap='RdBu_r',vmin=-1,vmax=1)\n",
    "    ps['C'][i] = ax[i,1].pcolormesh(x,z2,s[0]['C2f']['g'],cmap='Purples',vmin=0,vmax=1)\n",
    "    ax[i,0].set_ylabel('$z$',fontsize=16)\n",
    "    ax[i,1].set_ylabel(f'Time $t = {s[0][\"t\"][it]:.0f}$',labelpad=13,fontsize=16)\n",
    "    for j in range(2):\n",
    "        ax[i,j].plot(s[0]['ξ'],s[0]['h'][it][:,0],'k',linewidth=1)\n",
    "        ax[i,j].set(ylim=[0,2])#,aspect=1)\n",
    "        for spine in ax[i,j].spines: ax[i,j].spines[spine].set_visible(False)\n",
    "ax[4,0].set_xlabel('$x$',fontsize=16)\n",
    "ax[4,1].set_xlabel('$x$',fontsize=16)\n",
    "for i in range(5):\n",
    "    for j in range(2):\n",
    "        if i < 4: ax[i,j].set(xticks=[])\n",
    "        if j == 1: ax[i,j].set(yticks=[])\n",
    "cbarT = plt.colorbar(ps['T'][0],ax=ax[0,0],location='top',pad=.05)\n",
    "cbarC = plt.colorbar(ps['C'][0],ax=ax[0,1],location='top',pad=.08)\n",
    "cbarT.ax.set_title('Temperature $T(t,x,z)$',fontsize=16)\n",
    "cbarC.ax.set_title('Salinity $C(t,x,z)$',fontsize=16)\n",
    "cbarT.outline.set_visible(False)\n",
    "cbarC.outline.set_visible(False)    \n",
    "# plt.tight_layout()\n",
    "# plt.savefig('salty-boussinesq-melting-temp-salt-time-series.png',dpi=200,bbox_inches='tight')"
   ]
  },
  {
   "cell_type": "code",
   "execution_count": null,
   "metadata": {},
   "outputs": [],
   "source": [
    "import matplotlib"
   ]
  },
  {
   "cell_type": "code",
   "execution_count": null,
   "metadata": {},
   "outputs": [],
   "source": [
    "# plot convergence of L1 and Linf error norms\n",
    "fig, ax = plt.subplots(1,2,figsize=(4.5,3))\n",
    "ϵs = np.array([1e-2,np.sqrt(5e-5),np.sqrt(2e-5),np.sqrt(1e-5),np.sqrt(5e-6)])\n",
    "fields = ['T2','C2','ux2','uz2','pr2','h']\n",
    "colors = ['C1','C2','C0','C3','C8','C4']\n",
    "markers = ['s','o','>','^','D','+']\n",
    "labels = ['$T^+$','$C$','$u_x$','$u_z$','$p$','$h$']\n",
    "for i, field in enumerate(fields):\n",
    "    ax[0].loglog(ϵs,L1s[field],'-',marker=markers[i],color=colors[i])\n",
    "    ax[1].loglog(ϵs,Linfs[field],'.-',marker=markers[i],color=colors[i],label=labels[i])\n",
    "for j in range(2):\n",
    "    ax[j].plot(ϵs,10*ϵs,'--',color='gray',label='$\\propto \\\\varepsilon$')\n",
    "    ax[j].plot(ϵs,100*ϵs**2,'--',color='k',label='$\\propto \\\\varepsilon^2$')\n",
    "# ax[0].grid(True)\n",
    "# ax[1].grid(True)\n",
    "xticks = 1e-3*np.linspace(1,10,10,endpoint=True)\n",
    "xticklabels = [r'$10^{-3}$',r'$2\\times 10^{-3}$','','',r'$5\\times 10^{-3}$','','','','','$10^{-2}$']\n",
    "ax[0].set_xticks(xticks)\n",
    "ax[0].set_xticklabels(xticklabels)\n",
    "# ax[0].get_xaxis().set_major_formatter(matplotlib.ticker.ScalarFormatter())\n",
    "ax[0].set(xlabel='$\\\\varepsilon$',title='$L^1$ error',#,xticklabels=)\n",
    "          xlim=[1.9e-3,1.1e-2],ylim=[2e-4,1.2e-1])\n",
    "ax[1].set_xticks(xticks)\n",
    "ax[1].set_xticklabels(xticklabels)\n",
    "ax[1].set(xlabel='$\\\\varepsilon$',title='$L^\\\\infty$ error',\n",
    "          xlim=[1.9e-3,1.1e-2],ylim=[2e-4,1.2e-1])\n",
    "ax[1].legend(loc='upper left',bbox_to_anchor=(1.05,1),frameon=False)\n",
    "plt.tight_layout()\n",
    "plt.savefig('salty-boussinesq-melting-error-norms.pdf',bbox_inches='tight')"
   ]
  },
  {
   "cell_type": "code",
   "execution_count": null,
   "metadata": {},
   "outputs": [],
   "source": [
    "# Compare different volume penalty simulations\n",
    "names = ['T2','C2','ux2','uz2','pr2']\n",
    "cmaps = ['RdBu_r','Purples','PiYG_r','PiYG_r','viridis']\n",
    "clims = [[-1,1],[0,1],[-.2,.2],[-.2,.2],[0,.4]]\n",
    "titles = ['T^+','C','u_x','u_z','p']\n",
    "widths = [1]*3\n",
    "heights = [1]*len(names)\n",
    "gs_kw = dict(width_ratios=widths, height_ratios=heights)\n",
    "fig, ax = plt.subplots(len(names),len(widths),figsize=(8,5),sharex=False,sharey=False,gridspec_kw=gs_kw)#constrained_layout=True)\n",
    "cplots = {}\n",
    "elims = [.1,.02,.1,.1,.05,.2]\n",
    "factors = [1,1/20]\n",
    "# Rescale by factor 2\n",
    "rescale = 2\n",
    "ξ,ζ = s[0]['domain'].grids(rescale)\n",
    "xc = ξ + 0*ζ\n",
    "s[0]['zc2f'].set_scales(rescale)\n",
    "for quantity in names:\n",
    "    s[0][quantity+'f'].set_scales(rescale)\n",
    "    s[0][quantity+'f1'].set_scales(rescale)\n",
    "    s[0][quantity+'f5'].set_scales(rescale)\n",
    "for i, name in enumerate(names):\n",
    "    cplots[i,0] = ax[i,0].pcolormesh(xc, s[0]['zc2f']['g'], s[0][name+'f']['g'],cmap=cmaps[i],vmin=clims[i][0],vmax=clims[i][1])\n",
    "    cplots[i,1] = ax[i,1].pcolormesh(xc, s[0]['zc2f']['g'],(s[0][name+f'f1']['g'] - s[0][name+'f']['g'])/(1e-10+np.abs(s[0][name+'f']['g'])).max(),\n",
    "                                     cmap='RdBu_r',vmin=-elims[i]*factors[0],vmax=elims[i]*factors[0])\n",
    "    cplots[i,2] = ax[i,2].pcolormesh(xc, s[0]['zc2f']['g'],(s[0][name+f'f5']['g'] - s[0][name+'f']['g'])/(1e-10+np.abs(s[0][name+'f']['g'])).max(),\n",
    "                                     cmap='RdBu_r',vmin=-elims[i]*factors[1],vmax=elims[i]*factors[1])\n",
    "    for j in range(len(widths)):\n",
    "        for spine in ax[i,j].spines: ax[i,j].spines[spine].set_visible(False)\n",
    "        ax[i,j].set(ylim=[0,1.2])\n",
    "        cbar = plt.colorbar(cplots[i,j],ax=ax[i,j])\n",
    "        cbar.outline.set_visible(False)\n",
    "for i, title in enumerate(titles):\n",
    "    ax[i,0].set_ylabel(f'${title}$\\n $z$',fontsize=15)\n",
    "for j in range(3): ax[-1,j].set_xlabel('$x$',fontsize=15)\n",
    "for axi in ax[:-1,:].flatten():axi.set(xticks=[])\n",
    "for axi in ax[:,1:].flatten():axi.set(yticks=[])\n",
    "ax[0,0].set_title('Reference',pad=10,fontsize=15)\n",
    "ax[0,1].set_title('$\\\\varepsilon = 10^{-2}$',pad=10,fontsize=15)\n",
    "ax[0,2].set_title('$\\\\varepsilon = 10^{-2.5}/\\\\sqrt{2}$',pad=10,fontsize=15)\n",
    "\n",
    "plt.tight_layout()\n",
    "plt.savefig('salty-boussinesq-melting-error-plots.png',dpi=400,bbox_inches='tight')"
   ]
  }
 ],
 "metadata": {
  "kernelspec": {
   "display_name": "Python 3",
   "language": "python",
   "name": "python3"
  },
  "language_info": {
   "codemirror_mode": {
    "name": "ipython",
    "version": 3
   },
   "file_extension": ".py",
   "mimetype": "text/x-python",
   "name": "python",
   "nbconvert_exporter": "python",
   "pygments_lexer": "ipython3",
   "version": "3.7.3"
  },
  "toc": {
   "base_numbering": 1,
   "nav_menu": {},
   "number_sections": true,
   "sideBar": true,
   "skip_h1_title": false,
   "title_cell": "Table of Contents",
   "title_sidebar": "Contents",
   "toc_cell": false,
   "toc_position": {
    "height": "calc(100% - 180px)",
    "left": "10px",
    "top": "150px",
    "width": "170.17px"
   },
   "toc_section_display": true,
   "toc_window_display": false
  },
  "varInspector": {
   "cols": {
    "lenName": 16,
    "lenType": 16,
    "lenVar": 40
   },
   "kernels_config": {
    "python": {
     "delete_cmd_postfix": "",
     "delete_cmd_prefix": "del ",
     "library": "var_list.py",
     "varRefreshCmd": "print(var_dic_list())"
    },
    "r": {
     "delete_cmd_postfix": ") ",
     "delete_cmd_prefix": "rm(",
     "library": "var_list.r",
     "varRefreshCmd": "cat(var_dic_list()) "
    }
   },
   "types_to_exclude": [
    "module",
    "function",
    "builtin_function_or_method",
    "instance",
    "_Feature"
   ],
   "window_display": false
  }
 },
 "nbformat": 4,
 "nbformat_minor": 2
}
